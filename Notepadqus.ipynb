{
  "cells": [
    {
      "cell_type": "markdown",
      "metadata": {
        "id": "view-in-github",
        "colab_type": "text"
      },
      "source": [
        "<a href=\"https://colab.research.google.com/github/aryamnair98/Python_Core/blob/main/Notepadqus.ipynb\" target=\"_parent\"><img src=\"https://colab.research.google.com/assets/colab-badge.svg\" alt=\"Open In Colab\"/></a>"
      ]
    },
    {
      "cell_type": "code",
      "execution_count": null,
      "metadata": {
        "colab": {
          "base_uri": "https://localhost:8080/"
        },
        "id": "PUkWjIJa8v9U",
        "outputId": "7302a8c5-f685-4eb6-c744-844111484f4d"
      },
      "outputs": [
        {
          "name": "stdout",
          "output_type": "stream",
          "text": [
            "Sum is  60\n",
            "Sum is  150\n",
            "Sum is  157.60000000000002\n"
          ]
        }
      ],
      "source": [
        "#1.arbitoryarg.py\n",
        "\n",
        "def add(*n):\n",
        "\ts=0\n",
        "\tfor x in n:\n",
        "\t\ts=s+x\n",
        "\treturn s\n",
        "\n",
        "p=add(10,20,30)\n",
        "print(\"Sum is \",p)\n",
        "q=add(10,20,30,40,50)\n",
        "print(\"Sum is \",q)\n",
        "r=add(25.5,36.6,42.7,52.8)\n",
        "print(\"Sum is \",r)"
      ]
    },
    {
      "cell_type": "code",
      "source": [
        "numbers = (4, 7, 19, 2, 89, 45, 72, 22)\n",
        "sorted_numbers = sorted(numbers)\n",
        "odd_numbers = [x for x in sorted_numbers if x % 2 != 0]\n",
        "print(odd_numbers)"
      ],
      "metadata": {
        "colab": {
          "base_uri": "https://localhost:8080/"
        },
        "id": "_n0NFZxQ94Jc",
        "outputId": "23357c8d-9fdf-44d9-ba52-a21641058fab"
      },
      "execution_count": null,
      "outputs": [
        {
          "output_type": "stream",
          "name": "stdout",
          "text": [
            "[7, 19, 45, 89]\n"
          ]
        }
      ]
    },
    {
      "cell_type": "code",
      "source": [
        "i = [10, 11, 12, 13]\n",
        "for i[-2] in i:\n",
        "    print(i[-2])"
      ],
      "metadata": {
        "colab": {
          "base_uri": "https://localhost:8080/"
        },
        "id": "I-z9HDeMZdXx",
        "outputId": "4a09fbcb-d017-44c8-da35-8f27747c12b6"
      },
      "execution_count": null,
      "outputs": [
        {
          "output_type": "stream",
          "name": "stdout",
          "text": [
            "10\n",
            "11\n",
            "11\n",
            "13\n"
          ]
        }
      ]
    },
    {
      "cell_type": "code",
      "execution_count": null,
      "metadata": {
        "colab": {
          "base_uri": "https://localhost:8080/"
        },
        "id": "Wg9G9K1189jm",
        "outputId": "d1736d47-660b-4319-ed53-96c8cf96e0a7"
      },
      "outputs": [
        {
          "name": "stdout",
          "output_type": "stream",
          "text": [
            "Enter the number:45\n",
            "Menu\n",
            "1.Automorphic\n",
            "2.Trimorphic\n",
            "Enter the choice:1\n",
            "45 is not automorphic\n"
          ]
        }
      ],
      "source": [
        "#2.auto_trimorphic\n",
        "num=int(input(\"Enter the number:\"))\n",
        "print(\"Menu\")\n",
        "print(\"1.Automorphic\")\n",
        "print(\"2.Trimorphic\")\n",
        "choice=int(input(\"Enter the choice:\"))\n",
        "l=len(str(num))\n",
        "if(choice==1):\n",
        "  sq=num**2\n",
        "  if(sq%(10**l))==num:\n",
        "    print(num,\"is automorphic\")\n",
        "  else:\n",
        "    print(num,\"is not automorphic\")\n",
        "elif(choice==2):\n",
        "  cb=num**3\n",
        "  if(cb%(10**l))==num:\n",
        "    print(num,\"is trimorphic\")\n",
        "  else:\n",
        "    print(num,\"is not trimorphic\")\n",
        "else:\n",
        "  print(\"Invalid choice\")"
      ]
    },
    {
      "cell_type": "code",
      "execution_count": null,
      "metadata": {
        "colab": {
          "base_uri": "https://localhost:8080/"
        },
        "id": "QFUpDv1t9GfY",
        "outputId": "91acc7f5-91a3-4b5f-f0ce-fe2731fef110"
      },
      "outputs": [
        {
          "name": "stdout",
          "output_type": "stream",
          "text": [
            "Enter the first number:34\n",
            "Enter the second number:78\n",
            "Enter the third number:23\n",
            "Biggest number is : 78\n"
          ]
        }
      ],
      "source": [
        "#3.big3elif\n",
        "a=int(input(\"Enter the first number:\"))\n",
        "b=int(input(\"Enter the second number:\"))\n",
        "c=int(input(\"Enter the third number:\"))\n",
        "if(a>b) and (a>c):\n",
        "  big=a\n",
        "elif(b>a) and (b>c):\n",
        "  big=b\n",
        "else:\n",
        "  big=c\n",
        "print(\"Biggest number is :\",big)"
      ]
    },
    {
      "cell_type": "code",
      "execution_count": null,
      "metadata": {
        "colab": {
          "base_uri": "https://localhost:8080/"
        },
        "id": "jPVY0jEe-KLU",
        "outputId": "d1262721-4cc8-4fa4-9920-428b42bd0aba"
      },
      "outputs": [
        {
          "name": "stdout",
          "output_type": "stream",
          "text": [
            "Enter the first number:89\n",
            "Enter the second number:45\n",
            "Biggest number is : 89\n"
          ]
        }
      ],
      "source": [
        "#4.big2if\n",
        "a=int(input(\"Enter the first number:\"))\n",
        "b=int(input(\"Enter the second number:\"))\n",
        "if(a>b):\n",
        "  big=a\n",
        "else:\n",
        "  big=b\n",
        "print(\"Biggest number is :\",big)\n",
        "\n"
      ]
    },
    {
      "cell_type": "code",
      "execution_count": null,
      "metadata": {
        "colab": {
          "base_uri": "https://localhost:8080/"
        },
        "id": "6V1YGzvj-nbA",
        "outputId": "f8c47b29-35d6-4499-c251-c3e025e6be0f"
      },
      "outputs": [
        {
          "name": "stdout",
          "output_type": "stream",
          "text": [
            "Enter the limit of array:4\n",
            "Enter the elements:\n",
            "34\n",
            "78\n",
            "90\n",
            "112\n",
            "Largest number: 112\n",
            "Second largest number: 90\n"
          ]
        }
      ],
      "source": [
        "#5.biglist\n",
        "a=[]\n",
        "n=int(input(\"Enter the limit of array:\"))\n",
        "print(\"Enter the elements:\")\n",
        "\n",
        "for i in range(0,n):\n",
        "  no=int(input())\n",
        "  a.append(no)\n",
        "\n",
        "big=a[0]\n",
        "for i in range(1,n):\n",
        "  if(a[i]>big):\n",
        "    big=a[i]\n",
        "\n",
        "if(big==a[0]):\n",
        "  sbig=a[1]\n",
        "else:\n",
        "  sbig=a[0]\n",
        "\n",
        "for i in range(0,n):\n",
        "  if a[i]<big and a[i]>sbig:\n",
        "    sbig=a[i]\n",
        "\n",
        "print(\"Largest number:\",big)\n",
        "print(\"Second largest number:\",sbig)\n"
      ]
    },
    {
      "cell_type": "code",
      "execution_count": null,
      "metadata": {
        "colab": {
          "base_uri": "https://localhost:8080/"
        },
        "id": "ZFBKxJ_VBAEE",
        "outputId": "36ec3053-230a-476c-aff2-5d60818bc4fe"
      },
      "outputs": [
        {
          "name": "stdout",
          "output_type": "stream",
          "text": [
            "Enter the first number:34\n",
            "Enter the second number:876\n",
            "Enter the third number:54\n",
            "Biggest number is: 876\n"
          ]
        }
      ],
      "source": [
        "#6.bignestedif\n",
        "a=int(input(\"Enter the first number:\"))\n",
        "b=int(input(\"Enter the second number:\"))\n",
        "c=int(input(\"Enter the third number:\"))\n",
        "\n",
        "if(a>b):\n",
        "  if(a>c):\n",
        "    big=a\n",
        "  else:\n",
        "    big=c\n",
        "else:\n",
        "  if(b>c):\n",
        "    big=b\n",
        "  else:\n",
        "    big=c\n",
        "print(\"Biggest number is:\",big)"
      ]
    },
    {
      "cell_type": "code",
      "execution_count": null,
      "metadata": {
        "colab": {
          "base_uri": "https://localhost:8080/"
        },
        "id": "ZyxRSanTB3Wd",
        "outputId": "90768364-8258-445b-a330-7364e692f1d2"
      },
      "outputs": [
        {
          "name": "stdout",
          "output_type": "stream",
          "text": [
            "Enter the first number:34\n",
            "Enter the second number:67\n",
            "Biggest number is: 67\n"
          ]
        }
      ],
      "source": [
        "#7.bigsimif\n",
        "a=int(input(\"Enter the first number:\"))\n",
        "b=int(input(\"Enter the second number:\"))\n",
        "big=a\n",
        "if(a<b):\n",
        "  big=b\n",
        "print(\"Biggest number is:\",big)\n",
        "\n"
      ]
    },
    {
      "cell_type": "code",
      "execution_count": null,
      "metadata": {
        "colab": {
          "base_uri": "https://localhost:8080/"
        },
        "id": "jnRaCM_HrLIH",
        "outputId": "9c5ce9c6-0ee5-4ef0-d2e2-19c6997e88b9"
      },
      "outputs": [
        {
          "name": "stdout",
          "output_type": "stream",
          "text": [
            "Enter your requirements :(1-required/0-not required)\n",
            "School1\n",
            "Gym2\n",
            "Pool1\n",
            "Hospital0\n",
            "Store1\n",
            "['School', 'Pool', 'Store']\n"
          ]
        }
      ],
      "source": [
        "#8.block selection\n",
        "\n",
        "required_amenities=[]\n",
        "block_details=[{\"School\":True,\"Gym\":False,\"Pool\":False,\"Hospital\":True,\"Store\":False}]\n",
        "amenities={\"School\":False,\"Gym\":False,\"Pool\":False,\"Hospital\":False,\"Store\":False}\n",
        "print(\"Enter your requirements :(1-required/0-not required)\")\n",
        "for x in amenities.keys():\n",
        "\tk=int(input(x))\n",
        "\tif k==1:\n",
        "\t\trequired_amenities.append(x)\n",
        "print(required_amenities)"
      ]
    },
    {
      "cell_type": "code",
      "execution_count": null,
      "metadata": {
        "colab": {
          "base_uri": "https://localhost:8080/"
        },
        "id": "YWm6uaxBsIYC",
        "outputId": "75913d21-f28d-4818-d67a-5d6eda7bdd23"
      },
      "outputs": [
        {
          "name": "stdout",
          "output_type": "stream",
          "text": [
            "1. Addition\n",
            "2. subtraction\n",
            "3. Multiplication\n",
            "4. Division\n",
            "5. Exponent\n",
            "Enter your choice:2\n",
            "Enter a number:3\n",
            "Enter a number:6\n",
            "Result is: -3\n"
          ]
        }
      ],
      "source": [
        "#9.calculator\n",
        "print(\"1. Addition\")\n",
        "print(\"2. subtraction\")\n",
        "print(\"3. Multiplication\")\n",
        "print(\"4. Division\")\n",
        "print(\"5. Exponent\")\n",
        "\n",
        "choice=int(input(\"Enter your choice:\"))\n",
        "a=int(input(\"Enter a number:\"))\n",
        "b=int(input(\"Enter a number:\"))\n",
        "\n",
        "\n",
        "if(choice==1):\n",
        "  res=a+b\n",
        "elif(choice==2):\n",
        "  res=a-b\n",
        "elif(choice==3):\n",
        "  res=a*b\n",
        "elif(choice==4):\n",
        "  res=a/b\n",
        "elif(choice==5):\n",
        "  res=a**b\n",
        "else:\n",
        "  print(\"Invalid choice\")\n",
        "print(\"Result is:\",res)\n",
        "\n"
      ]
    },
    {
      "cell_type": "code",
      "execution_count": null,
      "metadata": {
        "colab": {
          "base_uri": "https://localhost:8080/"
        },
        "id": "tVAm18fqtq5w",
        "outputId": "0ef3075b-8fe4-4c10-e2ab-e5d5f01fe4f7"
      },
      "outputs": [
        {
          "name": "stdout",
          "output_type": "stream",
          "text": [
            "Enter the limit:4\n",
            "Enter elements:2\n",
            "Enter elements:4\n",
            "Enter elements:6\n",
            "Enter elements:8\n",
            "[2, 4, 6, 8]\n",
            "[8, 2, 4, 6]\n"
          ]
        }
      ],
      "source": [
        "#10.circularrightshift\n",
        "a=[]\n",
        "n=int(input(\"Enter the limit:\"))\n",
        "\n",
        "for i in range(n):\n",
        "  elemnt=int(input(\"Enter elements:\"))\n",
        "  a.append(elemnt)\n",
        "print(a)\n",
        "b=[a[n-1]]+a[:n-1]\n",
        "print(b)\n"
      ]
    },
    {
      "cell_type": "code",
      "execution_count": null,
      "metadata": {
        "colab": {
          "base_uri": "https://localhost:8080/"
        },
        "id": "cNgGokfCvJjD",
        "outputId": "40deae8b-0d12-4a0d-80ca-f0912fb1d0e7"
      },
      "outputs": [
        {
          "name": "stdout",
          "output_type": "stream",
          "text": [
            "1.Add a contact \n",
            "2.Delete a contact\n",
            "3.Edit a contact \n",
            "4.Search a contact\n",
            "5.List all contacts\n",
            "6.Exit\n",
            "Enter the choice:1\n",
            "Enter the name:Arya\n",
            "Enter the phone number:7867574534\n",
            "Added successfully\n",
            "Enter the choice:3\n",
            "Enter the name to edit:Arya\n",
            "Enter the phone number to edit:123456789\n",
            "Edited successfully\n",
            "Enter the choice:5\n",
            "Name\t\t Phone Number\n",
            "Arya \t\t 123456789\n",
            "Enter the choice:6\n"
          ]
        }
      ],
      "source": [
        "#11.contact book\n",
        "print(\"1.Add a contact \")\n",
        "print(\"2.Delete a contact\")\n",
        "print(\"3.Edit a contact \")\n",
        "print(\"4.Search a contact\")\n",
        "print(\"5.List all contacts\")\n",
        "print(\"6.Exit\")\n",
        "\n",
        "co_book={}\n",
        "choice=int(input(\"Enter the choice:\"))\n",
        "\n",
        "while(choice!=6):\n",
        "\n",
        "  if(choice==1):\n",
        "    name=input(\"Enter the name:\")\n",
        "    ph=int(input(\"Enter the phone number:\"))\n",
        "    co_book[name]=ph\n",
        "    print(\"Added successfully\")\n",
        "\n",
        "  elif(choice==2):\n",
        "    name=input(\"Enter the name to delete:\")\n",
        "    co_book.pop[name]\n",
        "    print(\"Deleted successfully\")\n",
        "\n",
        "  elif(choice==3):\n",
        "    name=input(\"Enter the name to edit:\")\n",
        "    ph=int(input(\"Enter the phone number to edit:\"))\n",
        "    co_book[name]=ph\n",
        "    print(\"Edited successfully\")\n",
        "\n",
        "  elif(choice==4):\n",
        "    name=input(\"Enter the name to search:\")\n",
        "    print(\"Phone number of\",name,\"is:\",co_book[name])\n",
        "  elif(choice==5):\n",
        "    print(\"Name\\t\\t Phone Number\")\n",
        "    for x,y in co_book.items():\n",
        "      print(x,\"\\t\\t\",y)\n",
        "  else:\n",
        "    print(\"Invalid choice:\")\n",
        "  choice=int(input(\"Enter the choice:\"))\n",
        "\n"
      ]
    },
    {
      "cell_type": "code",
      "execution_count": null,
      "metadata": {
        "colab": {
          "base_uri": "https://localhost:8080/"
        },
        "id": "c6y0qZ3Wznwu",
        "outputId": "d9f1531b-4035-4060-c505-5022796f0188"
      },
      "outputs": [
        {
          "name": "stdout",
          "output_type": "stream",
          "text": [
            "Interest  9000.0\n",
            "Interest  7500.0\n"
          ]
        }
      ],
      "source": [
        "#12.defaultarg.py\n",
        "\n",
        "def inrst(p,n,r=0.25):\n",
        "\ti=p*r*n\n",
        "\treturn i\n",
        "i1=inrst(5000,6,0.3)\n",
        "print(\"Interest \",i1)\n",
        "i2=inrst(5000,6)\n",
        "print(\"Interest \",i2)"
      ]
    },
    {
      "cell_type": "code",
      "execution_count": null,
      "metadata": {
        "colab": {
          "base_uri": "https://localhost:8080/"
        },
        "id": "tuwEGS6sz5j8",
        "outputId": "ebfc6ea9-b5db-4708-f39d-a3824f3d846d"
      },
      "outputs": [
        {
          "name": "stdout",
          "output_type": "stream",
          "text": [
            "kiran\n",
            "kiran\n",
            "dict_keys(['Routeno', 'Driver', 'Cleaner', 'points'])\n",
            "dict_values([5, 'kiran', 'Manu', ['karamana', 'PMG', 'pattom']])\n",
            "dict_items([('Routeno', 5), ('Driver', 'kiran'), ('Cleaner', 'Manu'), ('points', ['karamana', 'PMG', 'pattom'])])\n",
            "{'Routeno': 5, 'Driver': 'kiran', 'Cleaner': 'Manu', 'points': ['karamana', 'PMG', 'pattom'], 'color': 'Red'}\n",
            "{'Routeno': 5, 'Driver': 'kiran', 'Cleaner': 'Manu', 'points': ['karamana', 'PMG', 'pattom'], 'color': 'Red', 'Fare': 1500}\n",
            "{'Routeno': 5, 'Driver': 'Mohan', 'Cleaner': 'Manu', 'points': ['karamana', 'PMG', 'pattom'], 'color': 'Red', 'Fare': 1500}\n",
            "{'Routeno': 5, 'Driver': 'Mohan', 'Cleaner': 'Manu', 'points': ['karamana', 'PMG', 'pattom'], 'color': 'Red'}\n",
            "{'Routeno': 5, 'Driver': 'Mohan', 'Cleaner': 'Manu', 'points': ['karamana', 'PMG', 'pattom']}\n",
            "{'Routeno': 5, 'Cleaner': 'Manu', 'points': ['karamana', 'PMG', 'pattom']}\n",
            "Routeno\n",
            "Cleaner\n",
            "points\n",
            "5\n",
            "Manu\n",
            "['karamana', 'PMG', 'pattom']\n"
          ]
        }
      ],
      "source": [
        "#13.dicfunctions.py\n",
        "\n",
        "bus={\"Routeno\":5,\"Driver\":\"kiran\",\"Cleaner\":\"Manu\",\"points\":[\"karamana\",\"PMG\",\"pattom\"]}\n",
        "print(bus[\"Driver\"])\n",
        "print(bus.get(\"Driver\"))\n",
        "print(bus.keys())\n",
        "print(bus.values())\n",
        "print(bus.items())\n",
        "\n",
        "bus[\"color\"]=\"Red\"\n",
        "print(bus)\n",
        "\n",
        "bus.update({\"Fare\":1500})\n",
        "print(bus)\n",
        "\n",
        "bus[\"Driver\"]=\"Mohan\"\n",
        "print(bus)\n",
        "\n",
        "bus.pop(\"Fare\")\n",
        "print(bus)\n",
        "\n",
        "bus.popitem()\n",
        "print(bus)\n",
        "\n",
        "del bus[\"Driver\"]\n",
        "print(bus)\n",
        "\n",
        "\n",
        "for x in bus:\n",
        "\tprint(x)\n",
        "\n",
        "for x in bus:\n",
        "\tprint(bus[x])\n",
        "\n",
        "del bus\n",
        "#bus.clear()"
      ]
    },
    {
      "cell_type": "code",
      "execution_count": null,
      "metadata": {
        "colab": {
          "base_uri": "https://localhost:8080/"
        },
        "id": "2hCntxk63D8J",
        "outputId": "2fbb827a-50ff-45c1-bc6f-17bb8e0643c7"
      },
      "outputs": [
        {
          "name": "stdout",
          "output_type": "stream",
          "text": [
            "Arya\n",
            "dict_keys(['name', 'Age', 'Mark1', 'Mark2'])\n",
            "dict_values(['Arya', 25, 3456, 3490])\n",
            "dict_items([('name', 'Arya'), ('Age', 25), ('Mark1', 3456), ('Mark2', 3490)])\n",
            "{'name': 'Arya m', 'Age': 25, 'Mark1': 3456, 'Mark2': 3490, 'phone': 958744123}\n",
            "{'name': 'Arya Amal', 'Age': 25, 'Mark1': 3456, 'Mark2': 3490, 'phone': 958744123, 'Address': 'Adoor'}\n",
            "{'name': 'Arya Amal', 'Age': 25, 'Mark1': 3456, 'Mark2': 3490, 'phone': 958744123, 'Address': 'Adoor'}\n",
            "{'Age': 25, 'Mark1': 3456, 'Mark2': 3490, 'phone': 958744123, 'Address': 'Adoor'}\n",
            "{'Age': 25, 'Mark1': 3456, 'Mark2': 3490, 'phone': 958744123}\n",
            "{}\n"
          ]
        }
      ],
      "source": [
        "#14.\n",
        "student={'name':'Arya','Age':25,'Mark1':3456,'Mark2':3490}\n",
        "\n",
        "print(student.get(\"name\"))\n",
        "print(student.keys())\n",
        "print(student.values())\n",
        "print(student.items())\n",
        "\n",
        "student[\"name\"]=\"Arya m\"\n",
        "student[\"phone\"]=958744123\n",
        "print(student)\n",
        "\n",
        "student.update({\"name\":\"Arya Amal\"})\n",
        "student.update({\"Address\":\"Adoor\"})\n",
        "print(student)\n",
        "\n",
        "candidate=student.copy()\n",
        "print(candidate)\n",
        "\n",
        "student.pop(\"name\") #del student[\"name\"]\n",
        "candidate=dict(student)\n",
        "print(candidate)\n",
        "\n",
        "student.popitem()\n",
        "print(student)\n",
        "\n",
        "#del student\n",
        "student.clear()\n",
        "print(student)\n"
      ]
    },
    {
      "cell_type": "code",
      "execution_count": null,
      "metadata": {
        "colab": {
          "base_uri": "https://localhost:8080/"
        },
        "id": "3tiggFupzFVp",
        "outputId": "19163c29-ee28-42a0-d6df-00a4a5f8ba4c"
      },
      "outputs": [
        {
          "name": "stdout",
          "output_type": "stream",
          "text": [
            "Enter the limit:2\n",
            "Enter the name:Arya \n",
            "Enter the phno:8129442725\n",
            "Enter the name:Amal\n",
            "Enter the phno:9876543322\n",
            "Keys\n",
            "Arya \n",
            "Amal\n",
            "Values\n",
            "8129442725\n",
            "9876543322\n",
            "Key-value pairs\n",
            "('Arya ', 8129442725)\n",
            "('Amal', 9876543322)\n"
          ]
        }
      ],
      "source": [
        "#15.dictionarydemo\n",
        "contacts={}\n",
        "n=int(input(\"Enter the limit:\"))\n",
        "for i in range(n):\n",
        "  name=input(\"Enter the name:\")\n",
        "  ph=int(input(\"Enter the phno:\"))\n",
        "  contacts[name]=ph\n",
        "\n",
        "print(\"Keys\")\n",
        "for i in contacts.keys():\n",
        "  print(i)\n",
        "\n",
        "print(\"Values\")\n",
        "for i in contacts.values():\n",
        "  print(i)\n",
        "\n",
        "print(\"Key-value pairs\")\n",
        "for i in contacts.items():\n",
        "  print(i)\n"
      ]
    },
    {
      "cell_type": "code",
      "execution_count": null,
      "metadata": {
        "colab": {
          "base_uri": "https://localhost:8080/"
        },
        "id": "FVLoMOgB1RsK",
        "outputId": "e35c5c2b-5e17-4889-c03b-67ce3a5daab8"
      },
      "outputs": [
        {
          "name": "stdout",
          "output_type": "stream",
          "text": [
            "Enter number:45\n",
            "Number: 45\n",
            "Number name: FourTensFiveOnes\n"
          ]
        }
      ],
      "source": [
        "#16.dictnumber\n",
        "numbers={1:'One',2:'Two',3:'Three',4:'Four',5:'Five',6:'Six',7:'Seven',8:'Eight',9:'Nine'}\n",
        "positions={0:'Ones',1:'Tens',2:'Humdreds',3:'Thousands',4:'Ten Thousands',5:'Lakhs',6:'Ten Lakhs',7:'Crore',8:'Ten Crores',9:'Hundred Crores'}\n",
        "num=input(\"Enter number:\")\n",
        "l=len(num)-1\n",
        "result=''\n",
        "for i in num:\n",
        "  key=int(i)\n",
        "  value=numbers[key]\n",
        "  lens=positions[l]\n",
        "  result=result+\"\"+value+\"\"+lens\n",
        "  l=l-1\n",
        "print(\"Number:\",num)\n",
        "print(\"Number name:\",result)\n",
        "\n",
        "\n"
      ]
    },
    {
      "cell_type": "code",
      "execution_count": null,
      "metadata": {
        "colab": {
          "base_uri": "https://localhost:8080/"
        },
        "id": "9Rc4HAGf3ar7",
        "outputId": "10717bd2-6814-4087-df77-015cd0e094d0"
      },
      "outputs": [
        {
          "name": "stdout",
          "output_type": "stream",
          "text": [
            "Enter the number:23\n",
            "sum of the number is: 5\n"
          ]
        }
      ],
      "source": [
        "#17.digitsumfun\n",
        "\n",
        "def dig_sum(num):\n",
        "  sum=0\n",
        "  while(num>0):\n",
        "    digits=num%10\n",
        "    sum+=digits\n",
        "    num//=10\n",
        "  print(\"sum of the number is:\",sum)\n",
        "\n",
        "num=int(input(\"Enter the number:\"))\n",
        "dig_sum(num)"
      ]
    },
    {
      "cell_type": "code",
      "execution_count": null,
      "metadata": {
        "colab": {
          "base_uri": "https://localhost:8080/"
        },
        "id": "RgORH82vMLJs",
        "outputId": "b2614e53-48a4-4f90-cfe6-24fc24bc2df8"
      },
      "outputs": [
        {
          "name": "stdout",
          "output_type": "stream",
          "text": [
            "Enter the number:25\n",
            "Enter the number:5\n",
            "It is divisible\n"
          ]
        }
      ],
      "source": [
        "#18.divisiblesimpif\n",
        "a=int(input(\"Enter the number:\"))\n",
        "b=int(input(\"Enter the number:\"))\n",
        "if(a%b==0):\n",
        "  print(\"It is divisible\")\n",
        "else:\n",
        "  print(\"It is not divisible\")"
      ]
    },
    {
      "cell_type": "code",
      "execution_count": null,
      "metadata": {
        "colab": {
          "base_uri": "https://localhost:8080/"
        },
        "id": "VJEXDs9qM1LR",
        "outputId": "346076bb-f44d-41b0-9eee-a2a1553d7d61"
      },
      "outputs": [
        {
          "name": "stdout",
          "output_type": "stream",
          "text": [
            "Enter the unit used:167\n",
            "Amount: 104.5\n"
          ]
        }
      ],
      "source": [
        "#19.ebillelif\n",
        "unit=int(input(\"Enter the unit used:\"))\n",
        "\n",
        "if(unit<=100):\n",
        "  amount=unit*0.5\n",
        "elif(unit>100) and (unit<=150):\n",
        "  amount=(100*0.5)+((unit-100)*0.75)\n",
        "elif(unit>150) and (unit<=200):\n",
        "  amount=(100*0.5)+(50*0.75)+((unit-150)*1)\n",
        "else:\n",
        "  amount=(100*0.5)+(50*0.75)+(50*1)+((unit-200)*2)\n",
        "print(\"Amount:\",amount)"
      ]
    },
    {
      "cell_type": "code",
      "execution_count": null,
      "metadata": {
        "colab": {
          "base_uri": "https://localhost:8080/"
        },
        "id": "xqnB8xWpOKqX",
        "outputId": "932bdd35-c39a-4bab-e7d6-76a70849f473"
      },
      "outputs": [
        {
          "name": "stdout",
          "output_type": "stream",
          "text": [
            "Enter type of user(1.domestic,2.commercial):2\n",
            "Enter the unit used:245\n",
            "Amount: 1250\n"
          ]
        }
      ],
      "source": [
        "#20.electrictybill_type\n",
        "type=int(input(\"Enter type of user(1.domestic,2.commercial):\"))\n",
        "unit=int(input(\"Enter the unit used:\"))\n",
        "if(type==1):\n",
        "  if(unit<=100):\n",
        "    amount=unit*0.5\n",
        "  elif(unit>100) and (unit<=150):\n",
        "    amount=(100*0.5)+((unit-100)*0.75)\n",
        "  elif(unit>150) and (unit<=200):\n",
        "    amount=(100*0.5)+(50*0.75)+((unit-150)*1)\n",
        "  else:\n",
        "    amount=(100*0.5)+(50*0.75)+(50*1)+((unit-200)*2)\n",
        "elif(type==2):\n",
        "  if(unit<=100):\n",
        "    amount=unit*3\n",
        "  elif(unit>100) and (unit<=150):\n",
        "    amount=(100*3)+((unit-100)*4)\n",
        "  elif(unit>150) and (unit<=200):\n",
        "    amount=(100*3)+(50*4)+((unit-150)*6)\n",
        "  else:\n",
        "    amount=(100*3)+(50*4)+(50*6)+((unit-200)*10)\n",
        "else:\n",
        "  print(\"Invalid type\")\n",
        "\n",
        "\n",
        "print(\"Amount:\",amount)"
      ]
    },
    {
      "cell_type": "code",
      "execution_count": null,
      "metadata": {
        "colab": {
          "base_uri": "https://localhost:8080/"
        },
        "id": "CG4UE3ZyP3UD",
        "outputId": "92a08b54-709d-4f91-9a87-8849dc6c27d6"
      },
      "outputs": [
        {
          "name": "stdout",
          "output_type": "stream",
          "text": [
            "Enter the number:5\n",
            "Factorial is: 120\n",
            "sum of the number is: 3\n"
          ]
        }
      ],
      "source": [
        "def facts(num):\n",
        "  fact=1\n",
        "  count=1\n",
        "  if(num==0) or (num==1):\n",
        "    print(\"factorial is 1\")\n",
        "  elif(num<0):\n",
        "    print(\"There is no factorial\")\n",
        "  else:\n",
        "    while(count<=num):\n",
        "      fact*=count\n",
        "      count+=1\n",
        "    print(\"Factorial is:\",fact)\n",
        "    dig_sum(fact)\n",
        "\n",
        "def dig_sum(fact):\n",
        "  sum=0\n",
        "  while(fact>0):\n",
        "    digits=fact%10\n",
        "    sum+=digits\n",
        "    fact//=10\n",
        "  print(\"sum of the factorial number is:\",sum)\n",
        "\n",
        "num=int(input(\"Enter the number:\"))\n",
        "facts(num)\n",
        "\n"
      ]
    },
    {
      "cell_type": "code",
      "execution_count": null,
      "metadata": {
        "colab": {
          "base_uri": "https://localhost:8080/"
        },
        "id": "OXkuTHCIS79B",
        "outputId": "d6dcd99d-5f54-4202-c032-248fd2a55e26"
      },
      "outputs": [
        {
          "name": "stdout",
          "output_type": "stream",
          "text": [
            "Arya\n",
            "Amal\n",
            "Ima\n",
            "10\n",
            "20\n",
            "30\n",
            "40\n",
            "50\n"
          ]
        }
      ],
      "source": [
        "#22.fun_arbitoryarg.py\n",
        "\n",
        "def my_function(*students):\n",
        "\t#print(type(students))\n",
        "\tfor i in students:\n",
        "\t\tprint(i)\n",
        "\n",
        "my_function(\"Arya\", \"Amal\", \"Ima\")\n",
        "my_function(10,20,30,40,50)"
      ]
    },
    {
      "cell_type": "code",
      "execution_count": null,
      "metadata": {
        "colab": {
          "base_uri": "https://localhost:8080/"
        },
        "id": "77Rqj7bBRV0U",
        "outputId": "62f88749-c622-4e7d-fb22-ed9e50c8cd99"
      },
      "outputs": [
        {
          "name": "stdout",
          "output_type": "stream",
          "text": [
            "Sum: 30\n",
            "Sum: 210\n",
            "Sum: 301\n"
          ]
        }
      ],
      "source": [
        "#23.fun_arbitoryarg1\n",
        "def my_fn(*numbers):\n",
        "  #print(type(numbers))\n",
        "  sum = 0\n",
        "  for num in numbers:\n",
        "    sum += num\n",
        "  print(\"Sum:\", sum)\n",
        "\n",
        "\n",
        "\n",
        "my_fn(10,20)\n",
        "my_fn(10,20,30,40,50,60)\n",
        "my_fn(23,45,65,78,90)"
      ]
    },
    {
      "cell_type": "code",
      "execution_count": null,
      "metadata": {
        "colab": {
          "base_uri": "https://localhost:8080/"
        },
        "id": "3QA9BYlATREL",
        "outputId": "733fb007-e890-4a3d-eb83-62e9b9aa66bd"
      },
      "outputs": [
        {
          "name": "stdout",
          "output_type": "stream",
          "text": [
            "600\n",
            "24.4\n"
          ]
        }
      ],
      "source": [
        "#24.functionarguments\n",
        "def sum(*n):\n",
        "  sum=0\n",
        "  for i in n:\n",
        "    sum=sum+i\n",
        "  return sum\n",
        "def add(n1):\n",
        "  print(n1*6)\n",
        "def avg(n2):\n",
        "  print(n2/5)\n",
        "\n",
        "s1=sum(10,20,30,40)\n",
        "add(s1)\n",
        "s2=sum(13,29,34,46)\n",
        "avg(s2)"
      ]
    },
    {
      "cell_type": "code",
      "execution_count": null,
      "metadata": {
        "colab": {
          "base_uri": "https://localhost:8080/"
        },
        "id": "ko7p8uJ_US8Y",
        "outputId": "3bcefd9b-95b1-4195-bf13-0f19ae514e1f"
      },
      "outputs": [
        {
          "name": "stdout",
          "output_type": "stream",
          "text": [
            "Enter principal amount:345670000\n",
            "Enter time period:24\n",
            "Enter rate of interest:5\n",
            "Total interest: 497764800.0\n",
            "Total interest: 414804000.0\n"
          ]
        }
      ],
      "source": [
        "#25.functioninterestdefault\n",
        "\n",
        "def sim_intrst(p,t,r=6):\n",
        "  total=p*r*(t/100)\n",
        "  return total\n",
        "p_amount=int(input(\"Enter principal amount:\"))\n",
        "t_period=int(input(\"Enter time period:\"))\n",
        "r_intrst=int(input(\"Enter rate of interest:\"))\n",
        "t1=sim_intrst(p_amount,t_period)\n",
        "print(\"Total interest:\",t1)\n",
        "t2=sim_intrst(p_amount,t_period,r_intrst)\n",
        "print(\"Total interest:\",t2)"
      ]
    },
    {
      "cell_type": "code",
      "execution_count": null,
      "metadata": {
        "colab": {
          "base_uri": "https://localhost:8080/"
        },
        "id": "7QXeGtn3Sz9w",
        "outputId": "a8235a30-273a-48bc-8853-05cabf421507"
      },
      "outputs": [
        {
          "name": "stdout",
          "output_type": "stream",
          "text": [
            "15\n",
            "90\n",
            "129\n"
          ]
        }
      ],
      "source": [
        "#26.functionlist\n",
        "def sum(n):\n",
        "  #print(type(n))\n",
        "  sum=0\n",
        "  for i in n:\n",
        "    sum+=i\n",
        "  return sum\n",
        "\n",
        "a=[1,2,3,4,5]\n",
        "print(sum(a))\n",
        "b=(0,20,30,40)\n",
        "print(sum(b))\n",
        "c={12,34,5,78}\n",
        "print(sum(c))"
      ]
    },
    {
      "cell_type": "code",
      "execution_count": null,
      "metadata": {
        "colab": {
          "base_uri": "https://localhost:8080/"
        },
        "id": "oHDK94z7Xb2B",
        "outputId": "ed751619-0bfb-4690-8b2c-9b916f1c4126"
      },
      "outputs": [
        {
          "name": "stdout",
          "output_type": "stream",
          "text": [
            "Enter the number:343\n",
            "343 is palindrome number\n"
          ]
        }
      ],
      "source": [
        "#2nd notepad\n",
        "#1.palindromefn\n",
        "\n",
        "def palindr(n):\n",
        "  rev=0 #reverse\n",
        "  temp=n #temporary variable\n",
        "  while(temp>0):\n",
        "    rem=temp%10 #remainder\n",
        "    rev=(rev*10)+rem\n",
        "    temp=temp//10\n",
        "  if(n==rev):\n",
        "    print(n,\"is palindrome number\")\n",
        "  else:\n",
        "    print(n,\"is not a palindrome number\")\n",
        "\n",
        "num=int(input(\"Enter the number:\"))\n",
        "palindr(num)"
      ]
    },
    {
      "cell_type": "code",
      "execution_count": null,
      "metadata": {
        "colab": {
          "base_uri": "https://localhost:8080/"
        },
        "id": "V7plaPviYfkI",
        "outputId": "250ac2de-8526-4bdc-d5f1-d519c19ad8b1"
      },
      "outputs": [
        {
          "name": "stdout",
          "output_type": "stream",
          "text": [
            "Enter the coefficient of x^2 term:-8\n",
            "Enter the coefficient of x term:-5\n",
            "Enter the constant term:-4\n",
            "Roots are imaginary\n"
          ]
        }
      ],
      "source": [
        "#2.quadeqsifelse\n",
        "a=int(input(\"Enter the coefficient of x^2 term:\"))\n",
        "b=int(input(\"Enter the coefficient of x term:\"))\n",
        "c=int(input(\"Enter the constant term:\"))\n",
        "x=(b**2)-(4*a*c)\n",
        "if(x>=0):\n",
        "  print(\"Roots are real\")\n",
        "else:\n",
        "  print(\"Roots are imaginary\")\n"
      ]
    },
    {
      "cell_type": "code",
      "execution_count": null,
      "metadata": {
        "colab": {
          "base_uri": "https://localhost:8080/"
        },
        "id": "1XSQVAUBZsko",
        "outputId": "f63ecd39-c146-4476-bafa-aa7900aaf8e1"
      },
      "outputs": [
        {
          "name": "stdout",
          "output_type": "stream",
          "text": [
            "Enter the coefficient of x^2 term:4\n",
            "Enter the coefficient of x term:5\n",
            "Enter the constant term:7\n",
            "Roots are Imaginary\n"
          ]
        }
      ],
      "source": [
        "#3.quadsimif\n",
        "a=int(input(\"Enter the coefficient of x^2 term:\"))\n",
        "b=int(input(\"Enter the coefficient of x term:\"))\n",
        "c=int(input(\"Enter the constant term:\"))\n",
        "x=(b**2)-(4*a*c)\n",
        "root=\"Roots are Imaginary\"\n",
        "if(x>=0):\n",
        "  root=\"Roots are real\"\n",
        "\n",
        "print(root)"
      ]
    },
    {
      "cell_type": "code",
      "execution_count": null,
      "metadata": {
        "colab": {
          "base_uri": "https://localhost:8080/"
        },
        "id": "GJQMubiuaK8G",
        "outputId": "84745cae-b7f6-4876-e56b-e412aa8cfe66"
      },
      "outputs": [
        {
          "name": "stdout",
          "output_type": "stream",
          "text": [
            "Enter the number:123\n",
            "Reverse of 123 is 321\n"
          ]
        }
      ],
      "source": [
        "#4.Reversefn\n",
        "\n",
        "def revs(n):\n",
        "  rev=0 #reverse\n",
        "  while(n>0):\n",
        "    rem=n%10 #remainder\n",
        "    rev=(rev*10)+rem\n",
        "    n=n//10\n",
        "  return rev\n",
        "n=int(input(\"Enter the number:\"))\n",
        "print(\"Reverse of\",n,\"is\",revs(n))\n"
      ]
    },
    {
      "cell_type": "code",
      "execution_count": null,
      "metadata": {
        "colab": {
          "base_uri": "https://localhost:8080/"
        },
        "id": "p70M6Psebi_6",
        "outputId": "6dc170fd-0b07-46ef-b9c2-d6f4096554fc"
      },
      "outputs": [
        {
          "name": "stdout",
          "output_type": "stream",
          "text": [
            "Enter 1st side:23\n",
            "Enter 2nd side:45\n",
            "Enter 3rd side:56\n",
            "The triangle is not a right angled triangle\n"
          ]
        }
      ],
      "source": [
        "#5.right-triangle\n",
        "a=int(input(\"Enter 1st side:\"))\n",
        "b=int(input(\"Enter 2nd side:\"))\n",
        "c=int(input(\"Enter 3rd side:\"))\n",
        "\n",
        "if(a**2==b**2+c**2 or b**2==a**2+c**2 or c**2==a**2+b**2):\n",
        "  print(\"The triangle is right angled triangle\")\n",
        "else:\n",
        "  print(\"The triangle is not a right angled triangle\")\n"
      ]
    },
    {
      "cell_type": "code",
      "execution_count": null,
      "metadata": {
        "colab": {
          "base_uri": "https://localhost:8080/"
        },
        "id": "kA0CIroFfeD3",
        "outputId": "7b69d80e-fdad-490b-e115-9378a2f8b80f"
      },
      "outputs": [
        {
          "name": "stdout",
          "output_type": "stream",
          "text": [
            "Enter the number:407\n",
            "407 is an armstrong number\n"
          ]
        }
      ],
      "source": [
        "#6.armstrong\n",
        "def arm(num):\n",
        "  l=len(str(num))\n",
        "  sum=0\n",
        "  temp=num\n",
        "  while(temp>0):\n",
        "    digits=temp%10\n",
        "    sum+=digits**l\n",
        "    temp//=10\n",
        "  if(num==sum):\n",
        "    print(num,\"is an armstrong number\")\n",
        "  else:\n",
        "    print(num,\"is not an armstrong number\")\n",
        "n=int(input(\"Enter the number:\"))\n",
        "arm(n)\n",
        "\n"
      ]
    },
    {
      "cell_type": "code",
      "execution_count": null,
      "metadata": {
        "colab": {
          "base_uri": "https://localhost:8080/"
        },
        "id": "pDxPcC3YzVsG",
        "outputId": "570c21b0-4143-4b66-9e52-b93207a42abf"
      },
      "outputs": [
        {
          "name": "stdout",
          "output_type": "stream",
          "text": [
            "Enter binary number:1010\n",
            "Decimal equvalent is: 10\n"
          ]
        }
      ],
      "source": [
        "#7.b2d\n",
        "binary=int(input(\"Enter binary number:\"))\n",
        "digit=0\n",
        "i=0\n",
        "while(binary!=0):\n",
        "  dig=binary%10\n",
        "  digit=digit+(dig*(2**i))\n",
        "  i=i+1\n",
        "  binary=binary//10\n",
        "print(\"Decimal equvalent is:\",digit)\n"
      ]
    },
    {
      "cell_type": "code",
      "execution_count": null,
      "metadata": {
        "colab": {
          "base_uri": "https://localhost:8080/"
        },
        "id": "pzFExvs507CG",
        "outputId": "08004bcd-c48e-4e01-bc35-07c5b1c01270"
      },
      "outputs": [
        {
          "name": "stdout",
          "output_type": "stream",
          "text": [
            "Enter number:455\n",
            "Greatest digit is: 5\n"
          ]
        }
      ],
      "source": [
        "#8.bigdigit\n",
        "n=int(input(\"Enter number:\"))\n",
        "bd=0\n",
        "while(n!=0):\n",
        "  d=n%10\n",
        "  if d>bd:\n",
        "    bd=d\n",
        "  n=n//10\n",
        "print(\"Greatest digit is:\",bd)"
      ]
    },
    {
      "cell_type": "code",
      "execution_count": null,
      "metadata": {
        "colab": {
          "base_uri": "https://localhost:8080/"
        },
        "id": "RMpFliN7MRfU",
        "outputId": "b3e5e34b-9883-4c7f-946d-a9b58ea90f9a"
      },
      "outputs": [
        {
          "name": "stdout",
          "output_type": "stream",
          "text": [
            "Enter a number:23\n",
            "Sum is: 24\n"
          ]
        }
      ],
      "source": [
        "#9.factorsum\n",
        "n=int(input(\"Enter a number:\"))\n",
        "sum=0\n",
        "for i in range(1,n+1):\n",
        "  if(n%i==0):\n",
        "    sum=sum+i\n",
        "print(\"Sum is:\",sum)"
      ]
    },
    {
      "cell_type": "code",
      "execution_count": null,
      "metadata": {
        "colab": {
          "base_uri": "https://localhost:8080/"
        },
        "id": "4mh0w-bQNEmQ",
        "outputId": "b520e234-e941-49e2-a294-3bb5aa629b05"
      },
      "outputs": [
        {
          "name": "stdout",
          "output_type": "stream",
          "text": [
            "Enter a number:7\n",
            "Sum of odd numbers: 16\n"
          ]
        }
      ],
      "source": [
        "#11.sumoddwhile\n",
        "n=int(input(\"Enter a number:\"))\n",
        "i=1\n",
        "sum=0\n",
        "while(i<=n):\n",
        "  sum=sum+i\n",
        "  i=i+2\n",
        "print(\"Sum of odd numbers:\",sum)"
      ]
    },
    {
      "cell_type": "code",
      "execution_count": null,
      "metadata": {
        "colab": {
          "base_uri": "https://localhost:8080/"
        },
        "id": "5h7DzDrtMS1F",
        "outputId": "38d9d80f-a297-4788-adcd-91c847363076"
      },
      "outputs": [
        {
          "name": "stdout",
          "output_type": "stream",
          "text": [
            "Enter a number:3\n",
            "Sum of natural numbers: 6\n"
          ]
        }
      ],
      "source": [
        "#12.sumofnaturalsfor\n",
        "n=int(input(\"Enter a number:\"))\n",
        "sum=0\n",
        "for i in range(n+1):\n",
        "  sum=sum+i\n",
        "print(\"Sum of natural numbers:\",sum)"
      ]
    },
    {
      "cell_type": "code",
      "execution_count": null,
      "metadata": {
        "colab": {
          "base_uri": "https://localhost:8080/"
        },
        "id": "GA_VNm_8OIMQ",
        "outputId": "49d95db7-c02c-4caa-b98a-59ac53d6c35d"
      },
      "outputs": [
        {
          "name": "stdout",
          "output_type": "stream",
          "text": [
            "Enter a number:5\n",
            "Sum of natural numbers: 15\n"
          ]
        }
      ],
      "source": [
        "#13.sumofnaturalswhile\n",
        "n=int(input(\"Enter a number:\"))\n",
        "sum=0\n",
        "i=0\n",
        "while(i<=n):\n",
        "  sum=sum+i\n",
        "  i=i+1\n",
        "print(\"Sum of natural numbers:\",sum)"
      ]
    },
    {
      "cell_type": "code",
      "execution_count": null,
      "metadata": {
        "colab": {
          "base_uri": "https://localhost:8080/"
        },
        "id": "QcOk-zHZs7CN",
        "outputId": "fa0e5174-37e7-40dc-88a3-9c3d5bfb0c29"
      },
      "outputs": [
        {
          "name": "stdout",
          "output_type": "stream",
          "text": [
            "Enter the number:5\n",
            "Factorial is: 120\n",
            "3\n"
          ]
        }
      ],
      "source": [
        "#14.strong number\n",
        "num=int(input(\"Enter the number:\"))\n",
        "sum=0\n",
        "for i in range(1,n+1):\n",
        "  if(n%i==0):\n",
        "    s=s+i\n",
        "print(s)\n",
        "\n",
        "\n"
      ]
    },
    {
      "cell_type": "code",
      "execution_count": null,
      "metadata": {
        "colab": {
          "base_uri": "https://localhost:8080/"
        },
        "id": "OXrz-076wZMJ",
        "outputId": "74a0eee2-8d0b-4aac-99d2-90e71b61a644"
      },
      "outputs": [
        {
          "name": "stdout",
          "output_type": "stream",
          "text": [
            "Enter the number:22\n",
            "1\n",
            "0\n",
            "not\n"
          ]
        }
      ],
      "source": [
        "#15.spynumber\n",
        "num=int(input(\"Enter the number:\"))\n",
        "sum=0\n",
        "product=1\n",
        "while(num>0):\n",
        "  d=num%10\n",
        "  sum=sum+d\n",
        "  product=product*d\n",
        "  num=num//10\n",
        "if(sum==product):\n",
        "  print(\"spy number\")\n",
        "else:\n",
        "  print(\"not a spy number\")\n",
        "\n"
      ]
    },
    {
      "cell_type": "code",
      "execution_count": null,
      "metadata": {
        "colab": {
          "base_uri": "https://localhost:8080/"
        },
        "id": "HTp1Cu9QxG8x",
        "outputId": "43c97949-f79b-4053-aec0-797ab4b57e10"
      },
      "outputs": [
        {
          "name": "stdout",
          "output_type": "stream",
          "text": [
            "Enter the mark1:32\n",
            "Enter the mark2:32\n",
            "Enter the mark3:34\n",
            "Grade is: failed\n"
          ]
        }
      ],
      "source": [
        "#notepad 3\n",
        "#1.marks if\n",
        "m1=int(input(\"Enter the mark1:\"))\n",
        "m2=int(input(\"Enter the mark2:\"))\n",
        "m3=int(input(\"Enter the mark3:\"))\n",
        "total_mark=((m1+m2+m3)*100)/300\n",
        "if(total_mark>=90):\n",
        "  grade=\"A+\"\n",
        "elif(total_mark>90) and (total_mark>=80):\n",
        "  grade=\"A\"\n",
        "elif(total_mark>80) and (total_mark>=70):\n",
        "  grade=\"B+\"\n",
        "elif(total_mark>70) and (total_mark>=60):\n",
        "  grade=\"B\"\n",
        "elif(total_mark>60) and (total_mark>=50):\n",
        "  grade=\"C\"\n",
        "else:\n",
        "  grade=\"failed\"\n",
        "print(\"Grade is:\",grade)"
      ]
    },
    {
      "cell_type": "code",
      "execution_count": null,
      "metadata": {
        "colab": {
          "base_uri": "https://localhost:8080/"
        },
        "id": "7C17g2Urc0nU",
        "outputId": "7f63a44b-dd09-4497-cb70-6867efa70229"
      },
      "outputs": [
        {
          "name": "stdout",
          "output_type": "stream",
          "text": [
            "Enter the mark1:64\n",
            "Enter the mark2:67\n",
            "Enter the mark3:66\n",
            "Grade is: B\n"
          ]
        }
      ],
      "source": [
        "#2.marks nested if\n",
        "m1=int(input(\"Enter the mark1:\"))\n",
        "m2=int(input(\"Enter the mark2:\"))\n",
        "m3=int(input(\"Enter the mark3:\"))\n",
        "if(m1>=50) and (m2>=50) and(m3>=50):\n",
        "  total_mark=((m1+m2+m3)*100)/300\n",
        "  if(total_mark>=90):\n",
        "    grade=\"A+\"\n",
        "  elif(total_mark>=80):\n",
        "    grade=\"A\"\n",
        "  elif(total_mark>=70):\n",
        "    grade=\"B+\"\n",
        "  elif(total_mark>=60):\n",
        "    grade=\"B\"\n",
        "  else:\n",
        "    grade=\"C\"\n",
        "else:\n",
        "  print(\"Failed\")\n",
        "print(\"Grade is:\",grade)\n",
        "\n"
      ]
    },
    {
      "cell_type": "code",
      "execution_count": null,
      "metadata": {
        "colab": {
          "base_uri": "https://localhost:8080/"
        },
        "id": "E5S1CxpQyrOF",
        "outputId": "5a67814a-1862-408b-db38-8c666c87f033"
      },
      "outputs": [
        {
          "name": "stdout",
          "output_type": "stream",
          "text": [
            "sum is: 202\n"
          ]
        }
      ],
      "source": [
        "#4.keyword arg\n",
        "def add(a,b,c):\n",
        "  return a+b+c\n",
        "s=add(a=90,c=45,b=67)\n",
        "print(\"sum is:\",s)"
      ]
    },
    {
      "cell_type": "code",
      "execution_count": null,
      "metadata": {
        "colab": {
          "base_uri": "https://localhost:8080/"
        },
        "id": "I7ojlhMLzZSR",
        "outputId": "ea1328ec-8fd6-4c91-befb-fd96368ba394"
      },
      "outputs": [
        {
          "name": "stdout",
          "output_type": "stream",
          "text": [
            "Enter the limit:4\n",
            "Enter the elements\n",
            "1\n",
            "2\n",
            "3\n",
            "4\n",
            "List elements are:\n",
            "1\n",
            "2\n",
            "3\n",
            "4\n"
          ]
        }
      ],
      "source": [
        "#5.list\n",
        "a=[]\n",
        "limit=int(input(\"Enter the limit:\"))\n",
        "\n",
        "print(\"Enter the elements\")\n",
        "for i in range(limit):\n",
        "  num=input()\n",
        "  a.append(num)\n",
        "\n",
        "print(\"List elements are:\")\n",
        "leng=len(a)\n",
        "for i in range(leng):\n",
        "  print(a[i])"
      ]
    },
    {
      "cell_type": "code",
      "execution_count": null,
      "metadata": {
        "colab": {
          "base_uri": "https://localhost:8080/"
        },
        "id": "sPw3kS410UsW",
        "outputId": "1d2f4da7-597b-4ea0-aee0-955af3e8cef4"
      },
      "outputs": [
        {
          "name": "stdout",
          "output_type": "stream",
          "text": [
            "Enter the limit:3\n",
            "Enter the elements\n",
            "56\n",
            "67\n",
            "75\n",
            "Big number is: 75\n"
          ]
        }
      ],
      "source": [
        "#6.listbig\n",
        "a=[]\n",
        "limit=int(input(\"Enter the limit:\"))\n",
        "\n",
        "print(\"Enter the elements\")\n",
        "for i in range(limit):\n",
        "  num=input()\n",
        "  a.append(num)\n",
        "\n",
        "big=a[0]\n",
        "for i in range(limit):\n",
        "  if(a[i]>big):\n",
        "    big=a[i]\n",
        "print(\"Big number is:\",big)"
      ]
    },
    {
      "cell_type": "code",
      "execution_count": null,
      "metadata": {
        "colab": {
          "base_uri": "https://localhost:8080/"
        },
        "id": "YgbtwYdk9z-X",
        "outputId": "23b75704-cf10-40e6-d3b6-37d0fb1db533"
      },
      "outputs": [
        {
          "name": "stdout",
          "output_type": "stream",
          "text": [
            "not ok\n"
          ]
        }
      ],
      "source": [
        "#8.compare\n",
        "a=[1,2,3]\n",
        "b=[5,6,7]\n",
        "if a==b:\n",
        "  print(\"ok\")\n",
        "else:\n",
        "  print(\"not ok\")"
      ]
    },
    {
      "cell_type": "code",
      "execution_count": null,
      "metadata": {
        "colab": {
          "base_uri": "https://localhost:8080/"
        },
        "id": "8Wlilq8xebLt",
        "outputId": "406886f2-3662-4ab9-ac5e-b7300a188ac8"
      },
      "outputs": [
        {
          "name": "stdout",
          "output_type": "stream",
          "text": [
            "Enter principal amount:230000\n",
            "Enter time period:4\n",
            "Interest is: 73600.0\n"
          ]
        }
      ],
      "source": [
        "#3.interset if\n",
        "\n",
        "\n",
        "\n",
        "p_amount=int(input(\"Enter principal amount:\"))\n",
        "t_period=int(input(\"Enter time period:\"))\n",
        "\n",
        "if(t_period>=10):\n",
        "  r_intrst=12\n",
        "else:\n",
        "  r_intrst=8\n",
        "\n",
        "total=p_amount*r_intrst*(t_period/100)\n",
        "\n",
        "print(\"Interest is:\",total)"
      ]
    },
    {
      "cell_type": "code",
      "execution_count": null,
      "metadata": {
        "colab": {
          "base_uri": "https://localhost:8080/"
        },
        "id": "ePVHLmL8fbD-",
        "outputId": "5362408f-e1fd-4c80-e657-0800bfca29a0"
      },
      "outputs": [
        {
          "name": "stdout",
          "output_type": "stream",
          "text": [
            "Enter the limit:4\n",
            "Enter the elements:6\n",
            "Enter the elements:1\n",
            "Enter the elements:7\n",
            "Enter the elements:3\n",
            "List: [6, 1, 7, 3]\n",
            "Sorted in ascending order: [1, 3, 6, 7]\n",
            "Enter the element to search:3\n",
            "3 found at index 1\n"
          ]
        }
      ],
      "source": [
        "#7.binary search in list\n",
        "limit=int(input(\"Enter the limit:\"))\n",
        "a=[]\n",
        "for i in range(limit):\n",
        "  n=int(input(\"Enter the elements:\"))\n",
        "  a.append(n)\n",
        "print(\"List:\",a)\n",
        "b=sorted(a)\n",
        "print(\"Sorted in ascending order:\",b)\n",
        "s_elem=int(input(\"Enter the element to search:\"))\n",
        "i=0\n",
        "u=n-1\n",
        "while(i<=u):\n",
        "  mid=(i+u)//2\n",
        "  if(b[mid]==s_elem):\n",
        "    print(s_elem,\"found at index\",mid)\n",
        "    break\n",
        "  elif(b[mid]>s_elem):\n",
        "    u=mid-1\n",
        "  else:\n",
        "    i=mid+1\n",
        "else:\n",
        "  print(key,\"not in list\")"
      ]
    },
    {
      "cell_type": "code",
      "execution_count": null,
      "metadata": {
        "colab": {
          "base_uri": "https://localhost:8080/"
        },
        "id": "kurnv66940fj",
        "outputId": "198f8917-7ab6-4078-bb9d-30e0d657e0a4"
      },
      "outputs": [
        {
          "name": "stdout",
          "output_type": "stream",
          "text": [
            "Enter the limit:3\n",
            "1\n",
            "2\n",
            "2\n",
            "List: ['1', '2', '2']\n",
            "Enter the element to count:2\n",
            "2 occured at 2 times\n"
          ]
        }
      ],
      "source": [
        "#9.list count\n",
        "limit=int(input(\"Enter the limit:\"))\n",
        "a=[]\n",
        "for i in range(limit):\n",
        "  n=input()\n",
        "  a.append(n)\n",
        "print(\"List:\",a)\n",
        "\n",
        "num=input(\"Enter the element to count:\")\n",
        "count=0\n",
        "for i in a:\n",
        "  if(num==i):\n",
        "    count=count+1\n",
        "print(num,\"occured at\",count,\"times\")"
      ]
    },
    {
      "cell_type": "code",
      "execution_count": null,
      "metadata": {
        "colab": {
          "base_uri": "https://localhost:8080/"
        },
        "id": "tBbeUWTR_R3C",
        "outputId": "a623a257-56e8-4ec9-804f-c6ccae45f6f3"
      },
      "outputs": [
        {
          "name": "stdout",
          "output_type": "stream",
          "text": [
            "Enter the number of elements : 1\n",
            "Enter the elements : \n",
            "2\n",
            "prime numbers are : \n",
            "2\n"
          ]
        }
      ],
      "source": [
        "#22.list prime\n",
        "a=[]\n",
        "n= int(input(\"Enter the number of elements : \"))\n",
        "print(\"Enter the elements : \")\n",
        "for i in range(0,n):\n",
        "\tk=int(input())\n",
        "\ta.append(k)\n",
        "print(\"prime numbers are : \")\n",
        "for i in range(0,n):\n",
        "\tif a[i]==1:\n",
        "\t\tcontinue\n",
        "\tfor j in range(2,a[i]):\n",
        "\t\tif a[i]%j==0:\n",
        "\t\t\tbreak\n",
        "\telse:\n",
        "\t\tprint(a[i])\n"
      ]
    },
    {
      "cell_type": "code",
      "execution_count": null,
      "metadata": {
        "colab": {
          "base_uri": "https://localhost:8080/"
        },
        "id": "65_BEuYS_dCX",
        "outputId": "e809f17c-2632-479a-ab03-48c32d12680a"
      },
      "outputs": [
        {
          "name": "stdout",
          "output_type": "stream",
          "text": [
            "Enter the number of elements : 4\n",
            "Enter the elements : \n",
            "2\n",
            "3\n",
            "4\n",
            "5\n",
            "List elements are : \n",
            "2\n",
            "3\n",
            "4\n",
            "5\n",
            "even list\n",
            "2\n",
            "4\n",
            "odd list\n",
            "3\n",
            "5\n"
          ]
        }
      ],
      "source": [
        "#20.listoddeven\n",
        "\n",
        "a=[]\n",
        "n= int(input(\"Enter the number of elements : \"))\n",
        "print(\"Enter the elements : \")\n",
        "for i in range(0,n):\n",
        "\tk=int(input())\n",
        "\ta.append(k)\n",
        "print(\"List elements are : \")\n",
        "for i in range(0,n):\n",
        "\tprint(a[i])\n",
        "odd=[]\n",
        "even=[]\n",
        "for i in range(0,n):\n",
        "\tif a[i]%2==0:\n",
        "\t\teven.append(a[i])\n",
        "\telse:\n",
        "\t\todd.append(a[i])\n",
        "print(\"even list\")\n",
        "for x in even:\n",
        "\tprint(x)\n",
        "print(\"odd list\")\n",
        "for x in odd:\n",
        "\tprint(x)"
      ]
    },
    {
      "cell_type": "code",
      "execution_count": null,
      "metadata": {
        "colab": {
          "base_uri": "https://localhost:8080/"
        },
        "id": "w4V5DQ9LAywB",
        "outputId": "64afa9c0-2d90-45b7-a747-7e76bffc1381"
      },
      "outputs": [
        {
          "name": "stdout",
          "output_type": "stream",
          "text": [
            "Enter the number of elements : 4\n",
            "Enter the elements : \n",
            "1\n",
            "2\n",
            "3\n",
            "4\n",
            "Enter the index : 2\n",
            "Enter the number of elements to be deleted : 1\n",
            "List elements are : \n",
            "1\n",
            "2\n",
            "4\n"
          ]
        }
      ],
      "source": [
        "#19.listndelete\n",
        "\n",
        "a=[]\n",
        "n= int(input(\"Enter the number of elements : \"))\n",
        "print(\"Enter the elements : \")\n",
        "\n",
        "for i in range(0,n):\n",
        "\tk=int(input())\n",
        "\ta.append(k)\n",
        "\n",
        "index=int(input(\"Enter the index : \"))\n",
        "d=int(input(\"Enter the number of elements to be deleted : \"))\n",
        "\n",
        "for i in range(index+d,n):\n",
        "\ta[i-d]=a[i]\n",
        "n=n-d\n",
        "print(\"List elements are : \")\n",
        "for i in range(0,n):\n",
        "\tprint(a[i])"
      ]
    },
    {
      "cell_type": "code",
      "execution_count": null,
      "metadata": {
        "colab": {
          "base_uri": "https://localhost:8080/"
        },
        "id": "EHidinMrBew2",
        "outputId": "1e92ea88-5a9b-4b37-b5a7-09729970ac85"
      },
      "outputs": [
        {
          "name": "stdout",
          "output_type": "stream",
          "text": [
            "Enter the number of elements in first list: 3\n",
            "Enter the elements : \n",
            "1\n",
            "2\n",
            "3\n",
            "Enter the number of elements in second list : 4\n",
            "Enter the elements : \n",
            "4\n",
            "5\n",
            "6\n",
            "7\n",
            "Enter the index : 2\n",
            "List elements are : \n",
            "1\n",
            "2\n",
            "4\n",
            "5\n",
            "6\n",
            "7\n",
            "3\n"
          ]
        }
      ],
      "source": [
        "#18.listinsertlist\n",
        "\n",
        "a=[]\n",
        "n= int(input(\"Enter the number of elements in first list: \"))\n",
        "print(\"Enter the elements : \")\n",
        "for i in range(0,n):\n",
        "\tk=int(input())\n",
        "\ta.append(k)\n",
        "\n",
        "b=[]\n",
        "m= int(input(\"Enter the number of elements in second list : \"))\n",
        "print(\"Enter the elements : \")\n",
        "\n",
        "for i in range(0,m):\n",
        "\tk=int(input())\n",
        "\tb.append(k)\n",
        "\ta.append(0)\n",
        "\n",
        "index=int(input(\"Enter the index of number to exclude : \"))\n",
        "\n",
        "for i in range(n-1,index-1,-1):\n",
        "\ta[i+m]=a[i]\n",
        "\n",
        "for i in range(0,m):\n",
        "\ta[index+i]=b[i]\n",
        "\n",
        "print(\"List elements are : \")\n",
        "for i in range(0,m+n):\n",
        "\tprint(a[i])"
      ]
    },
    {
      "cell_type": "code",
      "execution_count": null,
      "metadata": {
        "colab": {
          "base_uri": "https://localhost:8080/"
        },
        "id": "kGTW9WGJCAzK",
        "outputId": "8d820f71-ff08-49a1-817c-5f5a7c3e8b91"
      },
      "outputs": [
        {
          "name": "stdout",
          "output_type": "stream",
          "text": [
            "[10, 20, 30, 40, [41, 42, 43], 50, 60, 70]\n",
            "[10, 20, 30, 40, [41, 42, 43], 50, 65, 60, 70]\n",
            "9\n"
          ]
        }
      ],
      "source": [
        "#17.listinsertfun\n",
        "a=[10,20,30,40,50,60,70]\n",
        "b=[41,42,43]\n",
        "a.insert(4,b)\n",
        "print(a)\n",
        "a.insert(6,65)\n",
        "print(a)\n",
        "print(len(a))"
      ]
    },
    {
      "cell_type": "code",
      "execution_count": null,
      "metadata": {
        "colab": {
          "base_uri": "https://localhost:8080/"
        },
        "id": "ObAqEP8PCYsY",
        "outputId": "0fe30f74-8577-49a4-df51-448e0ce00fd9"
      },
      "outputs": [
        {
          "name": "stdout",
          "output_type": "stream",
          "text": [
            "Enter the number of elements : 3\n",
            "Enter the elements : \n",
            "1\n",
            "2\n",
            "3\n",
            "Enter the element to insert4\n",
            "Enter the index want to insert: 3\n",
            "List elements are : \n",
            "1\n",
            "2\n",
            "3\n",
            "4\n"
          ]
        }
      ],
      "source": [
        "#16.listinsert\n",
        "\n",
        "a=[]\n",
        "n= int(input(\"Enter the number of elements : \"))\n",
        "print(\"Enter the elements : \")\n",
        "\n",
        "for i in range(0,n):\n",
        "\tk=int(input())\n",
        "\ta.append(k)\n",
        "a.append(0)\n",
        "\n",
        "element=int(input(\"Enter the element to insert\"))\n",
        "index=int(input(\"Enter the index want to insert: \"))\n",
        "\n",
        "for i in range(n,index,-1):\n",
        "\ta[i]=a[i-1]\n",
        "a[index]=element\n",
        "\n",
        "print(\"List elements are : \")\n",
        "for i in range(0,n+1):\n",
        "\tprint(a[i])"
      ]
    },
    {
      "cell_type": "code",
      "execution_count": null,
      "metadata": {
        "colab": {
          "base_uri": "https://localhost:8080/"
        },
        "id": "dK70MdQPC484",
        "outputId": "005f1cff-53c3-4ec7-f34c-e3bc46f201eb"
      },
      "outputs": [
        {
          "name": "stdout",
          "output_type": "stream",
          "text": [
            "Enter the number of elements : 4\n",
            "Enter the elements : \n",
            "1\n",
            "2\n",
            "3\n",
            "4\n",
            "sum is :  6\n"
          ]
        }
      ],
      "source": [
        "#15.listevensum\n",
        "\n",
        "a=[]\n",
        "n= int(input(\"Enter the number of elements : \"))\n",
        "print(\"Enter the elements : \")\n",
        "\n",
        "for i in range(0,n):\n",
        "\tk=int(input())\n",
        "\ta.append(k)\n",
        "\n",
        "s=0\n",
        "for i in range(0,n):\n",
        "\tif a[i]%2==0:\n",
        "\t\ts=s+a[i]\n",
        "print(\"sum of even nos is : \",s)"
      ]
    },
    {
      "cell_type": "code",
      "execution_count": null,
      "metadata": {
        "colab": {
          "base_uri": "https://localhost:8080/"
        },
        "id": "clARMQFUDN7r",
        "outputId": "9069388e-4a73-4f5f-a715-0dc4ff94c008"
      },
      "outputs": [
        {
          "name": "stdout",
          "output_type": "stream",
          "text": [
            "Enter the number of elements : 3\n",
            "Enter the elements : \n",
            "1\n",
            "2\n",
            "3\n",
            "2\n"
          ]
        }
      ],
      "source": [
        "#14.listeven\n",
        "a=[]\n",
        "n= int(input(\"Enter the number of elements : \"))\n",
        "print(\"Enter the elements : \")\n",
        "\n",
        "for i in range(0,n):\n",
        "\tk=int(input())\n",
        "\ta.append(k)\n",
        "\n",
        "for i in range(0,n):\n",
        "\tif a[i]%2==0:\n",
        "\t\tprint(\"Even:\",a[i])"
      ]
    },
    {
      "cell_type": "code",
      "execution_count": null,
      "metadata": {
        "colab": {
          "base_uri": "https://localhost:8080/"
        },
        "id": "srD0LZTbDmvw",
        "outputId": "204ce0b6-1ccf-4dd4-f6ef-d96e26c141f4"
      },
      "outputs": [
        {
          "name": "stdout",
          "output_type": "stream",
          "text": [
            "Enter the number of elements : 4\n",
            "1\n",
            "2\n",
            "2\n",
            "3\n",
            "[1, 2, 3]\n"
          ]
        }
      ],
      "source": [
        "#12.listduplicateset\n",
        "\n",
        "a=[]\n",
        "n=int(input(\"Enter the number of elements : \"))\n",
        "for i in range(0,n):\n",
        "\tk=int(input())\n",
        "\ta.append(k)\n",
        "b=set(a)\n",
        "a=list(b)\n",
        "print(\"After removing duplicates:\",a)"
      ]
    },
    {
      "cell_type": "code",
      "execution_count": null,
      "metadata": {
        "colab": {
          "base_uri": "https://localhost:8080/"
        },
        "id": "BGabXC0ANSuG",
        "outputId": "0701b12c-924d-43d6-a39a-72110b9f3e42"
      },
      "outputs": [
        {
          "name": "stdout",
          "output_type": "stream",
          "text": [
            "Enter the number of elements : 4\n",
            "Enter the elements : \n",
            "1\n",
            "2\n",
            "3\n",
            "4\n",
            "Enter the index to delete : 1\n",
            "List elements are : \n",
            "1\n",
            "3\n",
            "4\n"
          ]
        }
      ],
      "source": [
        "#10.listdelete\n",
        "\n",
        "a=[]\n",
        "n= int(input(\"Enter the number of elements : \"))\n",
        "print(\"Enter the elements : \")\n",
        "for i in range(0,n):\n",
        "\tk=int(input())\n",
        "\ta.append(k)\n",
        "index=int(input(\"Enter the index to delete : \"))\n",
        "for i in range(index,n-1):\n",
        "\ta[i]=a[i+1]\n",
        "n=n-1\n",
        "print(\"List elements are : \")\n",
        "for i in range(0,n):\n",
        "\tprint(a[i])"
      ]
    },
    {
      "cell_type": "code",
      "execution_count": null,
      "metadata": {
        "colab": {
          "base_uri": "https://localhost:8080/"
        },
        "id": "BsZo_fAdU6lg",
        "outputId": "f0dd7e4e-6192-4741-92cc-ac517e73570e"
      },
      "outputs": [
        {
          "name": "stdout",
          "output_type": "stream",
          "text": [
            "Enter the number of elements : 4\n",
            "Enter the elements : \n",
            "1\n",
            "2\n",
            "3\n",
            "4\n",
            "original list: [1, 2, 3, 4]\n",
            "Reversed list: [4, 3, 2, 1]\n"
          ]
        }
      ],
      "source": [
        "#23.reverselist\n",
        "list1=[]\n",
        "num= int(input(\"Enter the number of elements : \"))\n",
        "print(\"Enter the elements : \")\n",
        "for i in range(num):\n",
        "\tele=int(input())\n",
        "\tlist1.append(ele)\n",
        "print(\"original list:\",list1)\n",
        "\n",
        "leng=len(list1)\n",
        "for i in range(leng//2):\n",
        "  list1[i],list1[(leng-1)-i]=list1[(leng-1)-i],list1[i] #swapping\n",
        "\n",
        "print(\"Reversed list:\",list1)"
      ]
    },
    {
      "cell_type": "code",
      "execution_count": null,
      "metadata": {
        "colab": {
          "base_uri": "https://localhost:8080/"
        },
        "id": "oizZ76VwXhW7",
        "outputId": "61d1e2f6-4fe2-4a14-d489-e70cdfb6b933"
      },
      "outputs": [
        {
          "name": "stdout",
          "output_type": "stream",
          "text": [
            "Enter the limit:3\n",
            "Enter the elements\n",
            "45\n",
            "67\n",
            "21\n",
            "Big number is: 67\n",
            "2nd big number is: 45\n"
          ]
        }
      ],
      "source": [
        "#24.sec big\n",
        "a=[]\n",
        "limit=int(input(\"Enter the limit:\"))\n",
        "\n",
        "print(\"Enter the elements\")\n",
        "for i in range(limit):\n",
        "  num=input()\n",
        "  a.append(num)\n",
        "\n",
        "big=a[0]\n",
        "s_big=a[1]\n",
        "for i in range(limit):\n",
        "  if(a[i]>big):\n",
        "    s_big=big\n",
        "    big=a[i]\n",
        "print(\"Big number is:\",big)\n",
        "print(\"2nd big number is:\",s_big)"
      ]
    },
    {
      "cell_type": "code",
      "execution_count": null,
      "metadata": {
        "colab": {
          "base_uri": "https://localhost:8080/"
        },
        "id": "okXqFU1cYH5j",
        "outputId": "6c417ee0-c834-43a9-980d-61e2ceee8fba"
      },
      "outputs": [
        {
          "name": "stdout",
          "output_type": "stream",
          "text": [
            "Enter the limit:4\n",
            "Enter the elements\n",
            "1\n",
            "2\n",
            "3\n",
            "4\n",
            "sum is: 4\n"
          ]
        }
      ],
      "source": [
        "#21.sum of odd\n",
        "a=[]\n",
        "limit=int(input(\"Enter the limit:\"))\n",
        "\n",
        "print(\"Enter the elements\")\n",
        "for i in range(limit):\n",
        "  num=int(input())\n",
        "  a.append(num)\n",
        "sum=0\n",
        "for i in range(limit):\n",
        "  if(a[i]%2!=0):\n",
        "    sum=sum+a[i]\n",
        "print(\"sum is:\",sum)"
      ]
    },
    {
      "cell_type": "code",
      "execution_count": null,
      "metadata": {
        "colab": {
          "base_uri": "https://localhost:8080/"
        },
        "id": "R1U0RxY0aXSn",
        "outputId": "652c2285-04ac-4f02-eafe-0e74c4f9e49d"
      },
      "outputs": [
        {
          "name": "stdout",
          "output_type": "stream",
          "text": [
            "Enter the limit:4\n",
            "Enter the elements\n",
            "1\n",
            "3\n",
            "1\n",
            "2\n",
            "Original list: [1, 3, 1, 2]\n",
            "List without duplicates: [1, 3, 2]\n"
          ]
        }
      ],
      "source": [
        "#11.removeduplicates\n",
        "a=[]\n",
        "limit=int(input(\"Enter the limit:\"))\n",
        "\n",
        "print(\"Enter the elements\")\n",
        "for i in range(limit):\n",
        "  num=int(input())\n",
        "  a.append(num)\n",
        "print(\"Original list:\",a)\n",
        "\n",
        "b=[]\n",
        "for i in a:\n",
        "  if i not in b:\n",
        "    b.append(i)\n",
        "print(\"List without duplicates:\",b)"
      ]
    },
    {
      "cell_type": "code",
      "execution_count": null,
      "metadata": {
        "id": "WmK97uEeb-9m"
      },
      "outputs": [],
      "source": [
        "#inheritance\n",
        "\n",
        "class vehicle:\n",
        "  def __init__(self,make,model):\n",
        "    self.make=make\n",
        "    self.model=model\n",
        "  def start():\n",
        "    print(\"Vehicle started\")\n"
      ]
    },
    {
      "cell_type": "code",
      "execution_count": null,
      "metadata": {
        "colab": {
          "base_uri": "https://localhost:8080/"
        },
        "id": "aVi4kKlOsVf0",
        "outputId": "a889f1f1-af81-4d29-f9af-280245166346"
      },
      "outputs": [
        {
          "name": "stdout",
          "output_type": "stream",
          "text": [
            "C i r c l e Color of Circle is: Red\n",
            "Area of circle is: 19.625\n",
            "Perimeter of circle is: 15.700000000000001\n",
            "Square rect Color of ['Square', 'rect'] is: Yellow\n",
            "Area of square is: 25\n",
            "Perimeter of square is: 20\n",
            "R e c t a n g l e Color of Rectangle is: Black\n",
            "Area of rectangle is: 48\n",
            "Perimeter of rectangle is: 28\n"
          ]
        }
      ],
      "source": [
        "class Shape:\n",
        "  def __init__(self,name,color):\n",
        "    self.name=name\n",
        "    self.color=color\n",
        "  def display(self):\n",
        "    for i in self.name:\n",
        "      print(i,end=\" \")\n",
        "    print(\"Color of\",self.name,\"is:\",self.color)\n",
        "class Circle(Shape):\n",
        "  def __init__(self,name,color,radius):\n",
        "    super().__init__(name, color)\n",
        "    self.radius=radius\n",
        "  def area_perimeter(self):\n",
        "    print(\"Area of circle is:\",(3.14*self.radius**2))\n",
        "    print(\"Perimeter of circle is:\",(2*3.14*self.radius))\n",
        "class Square(Shape):\n",
        "  def __init__(self,name,color,side):\n",
        "    super().__init__(name, color)\n",
        "    self.side=side\n",
        "  def area_perimeter(self):\n",
        "    print(\"Area of square is:\",(self.side**2))\n",
        "    print(\"Perimeter of square is:\",(4*self.side))\n",
        "class Rectangle(Shape):\n",
        "  def __init__(self,name,color,length,width):\n",
        "    super().__init__(name, color)\n",
        "    self.length=length\n",
        "    self.width=width\n",
        "  def area_perimeter(self):\n",
        "    print(\"Area of rectangle is:\",(self.length*self.width))\n",
        "    print(\"Perimeter of rectangle is:\",(2*(self.length+self.width)))\n",
        "c=Circle(\"Circle\",\"Red\",2.5)\n",
        "c.display()\n",
        "c.area_perimeter()\n",
        "\n",
        "s=Square([\"Square\",\"rect\"],\"Yellow\",5)\n",
        "s.display()\n",
        "s.area_perimeter()\n",
        "\n",
        "r=Rectangle(\"Rectangle\",\"Black\",8,6)\n",
        "r.display()\n",
        "r.area_perimeter()\n",
        "\n",
        "\n"
      ]
    },
    {
      "cell_type": "code",
      "execution_count": null,
      "metadata": {
        "id": "WNayJnhYyFG7"
      },
      "outputs": [],
      "source": [
        "#3. *Employee Inheritance:*\n",
        " #  Build an inheritance hierarchy for employees in an organization. Create a base class Employee with attributes like name and salary. Derive two classes, Manager and Developer. Managers have an additional attribute for the number of subordinates (num_subordinates), while developers have a list of programming languages they are proficient in (programming_languages).\n",
        "\n",
        "#. *Bank Account Inheritance:*\n",
        "  # Implement an inheritance hierarchy for bank accounts. Create a base class BankAccount with attributes like account_number, balance, and methods like deposit() and withdraw(). Derive classes SavingsAccount and CheckingAccount. The savings account may have an interest rate, and the checking account may have a limit on overdraft.\n",
        "\n",
        "#. *Animal Inheritance:*\n",
        "  # Develop a class hierarchy for animals. Create a base class Animal with attributes like name and age. Derive classes like Mammal, Bird, and Fish. Each derived class should have specific attributes and methods. For example, a Mammal might have a fur_color attribute and a giveBirth() method.\n"
      ]
    },
    {
      "cell_type": "code",
      "execution_count": null,
      "metadata": {
        "colab": {
          "base_uri": "https://localhost:8080/"
        },
        "id": "gUvg4xBOmcLR",
        "outputId": "734ed5a7-9741-4f5e-b9bf-c5e2a4b999ed"
      },
      "outputs": [
        {
          "name": "stdout",
          "output_type": "stream",
          "text": [
            "Animal speaking\n",
            "Dog barking\n",
            "..........................\n",
            "Animal speaking\n",
            "Dog barking\n",
            "Eating bread...\n"
          ]
        }
      ],
      "source": [
        "#multilevel inheritance\n",
        "class Animal:\n",
        "  def speak(self):\n",
        "    print(\"Animal speaking\")\n",
        "class Dog(Animal):\n",
        "  def bark(self):\n",
        "    print(\"Dog barking\")\n",
        "class Puppy(Dog):\n",
        "  def eat(self):\n",
        "    print(\"Eating bread...\")\n",
        "\n",
        "d=Dog()\n",
        "d.speak()\n",
        "d.bark()\n",
        "\n",
        "print(\"..........................\")\n",
        "p=Puppy()\n",
        "p.speak()\n",
        "p.bark()\n",
        "p.eat()"
      ]
    },
    {
      "cell_type": "code",
      "execution_count": null,
      "metadata": {
        "colab": {
          "base_uri": "https://localhost:8080/"
        },
        "id": "6A2IrlqJ9uR1",
        "outputId": "2a3e87de-e475-4d76-f002-a597d6ab4620"
      },
      "outputs": [
        {
          "name": "stdout",
          "output_type": "stream",
          "text": [
            "1 \n",
            "1 2 \n",
            "1 2 3 \n",
            "1 2 3 4 \n",
            "* * * * \n",
            "* * * \n",
            "* * \n",
            "* \n",
            "5 5 5 5 5 \n",
            "4 4 4 4 \n",
            "3 3 3 \n",
            "2 2 \n",
            "1 \n"
          ]
        }
      ],
      "source": [
        "for i in range(1,5):\n",
        "  for j in range(1,i+1):\n",
        "    print(j,end=\" \")\n",
        "  print()\n",
        "\n",
        "for i in range(4,0,-1):\n",
        "  for j in range(i):\n",
        "    print(\"*\",end=\" \")\n",
        "  print()\n",
        "\n",
        "for i in range(5,0,-1):\n",
        "  for j in range(1,i+1):\n",
        "    print(i,end=\" \")\n",
        "  print()\n",
        "\n",
        "\n"
      ]
    },
    {
      "cell_type": "code",
      "execution_count": null,
      "metadata": {
        "colab": {
          "base_uri": "https://localhost:8080/"
        },
        "id": "S0AXGNrw0N0D",
        "outputId": "0153abc9-2747-4cc8-9226-cf266f707c18"
      },
      "outputs": [
        {
          "name": "stdout",
          "output_type": "stream",
          "text": [
            "1 \n",
            "2 2 \n",
            "3 3 3 \n",
            "4 4 4 4 \n"
          ]
        }
      ],
      "source": [
        "i = 1\n",
        "while i <= 4:\n",
        "    j = 1\n",
        "    while j <= i:\n",
        "        print(i, end=\" \")\n",
        "        j += 1\n",
        "    print()\n",
        "    i += 1"
      ]
    }
  ],
  "metadata": {
    "colab": {
      "provenance": [],
      "authorship_tag": "ABX9TyMvCQuObx0ogMJKoRAvKdAr",
      "include_colab_link": true
    },
    "kernelspec": {
      "display_name": "Python 3",
      "name": "python3"
    },
    "language_info": {
      "name": "python"
    }
  },
  "nbformat": 4,
  "nbformat_minor": 0
}