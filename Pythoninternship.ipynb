{
  "cells": [
    {
      "cell_type": "markdown",
      "metadata": {
        "id": "view-in-github",
        "colab_type": "text"
      },
      "source": [
        "<a href=\"https://colab.research.google.com/github/aryamnair98/Python_Core/blob/main/Pythoninternship.ipynb\" target=\"_parent\"><img src=\"https://colab.research.google.com/assets/colab-badge.svg\" alt=\"Open In Colab\"/></a>"
      ]
    },
    {
      "cell_type": "code",
      "execution_count": null,
      "metadata": {
        "id": "ivnuf6l_Vc-t"
      },
      "outputs": [],
      "source": [
        "#1.vote\n",
        "age=int(input(\"Enter your age: \"))\n",
        "if(age>=18):\n",
        "  print(\"You are eligible to vote\")\n",
        "else:\n",
        "  print(\"You are not eligible to vote\")\n"
      ]
    },
    {
      "cell_type": "code",
      "execution_count": null,
      "metadata": {
        "colab": {
          "base_uri": "https://localhost:8080/"
        },
        "id": "Qea1k0Bjb-GY",
        "outputId": "098cd13f-7ff3-440b-b78a-4f05fa5fca9c"
      },
      "outputs": [
        {
          "name": "stdout",
          "output_type": "stream",
          "text": [
            "Enter the number: 5\n",
            "5 is odd number\n"
          ]
        }
      ],
      "source": [
        "#2.odd or even\n",
        "num=int(input(\"Enter the number: \"))\n",
        "if num%2==0:\n",
        "  print(num, \"is even number\")\n",
        "else:\n",
        "  print(num,\"is odd number\")"
      ]
    },
    {
      "cell_type": "code",
      "execution_count": null,
      "metadata": {
        "colab": {
          "base_uri": "https://localhost:8080/"
        },
        "id": "5_fglTGVcvwE",
        "outputId": "9e9513b9-4b47-4613-d726-28a90306909d"
      },
      "outputs": [
        {
          "name": "stdout",
          "output_type": "stream",
          "text": [
            "Enter the number1: 5\n",
            "Enter the number2: 4\n",
            "Enter the number3: 3\n",
            "number1 is greater\n"
          ]
        }
      ],
      "source": [
        "#3.largest of 3 numbers\n",
        "num1=int(input(\"Enter the number1: \"))\n",
        "num2=int(input(\"Enter the number2: \"))\n",
        "num3=int(input(\"Enter the number3: \"))\n",
        "if(num1>num2) and (num1>num3):\n",
        "  print(\"number1 is greater\")\n",
        "elif(num2>num1) and (num2>num1):\n",
        "  print(\"number2 is greater\")\n",
        "else:\n",
        "  print(\"number3 is greater\")"
      ]
    },
    {
      "cell_type": "code",
      "execution_count": null,
      "metadata": {
        "colab": {
          "base_uri": "https://localhost:8080/"
        },
        "id": "G1UU_0pc0ak9",
        "outputId": "e69f350d-52d2-43a8-b449-dda7485b7e56"
      },
      "outputs": [
        {
          "name": "stdout",
          "output_type": "stream",
          "text": [
            "Enter the student name: arya\n",
            "Enter the mark1: 23\n",
            "Enter the mark2: 32\n",
            "Enter the mark3: 33\n",
            "Marklist\n",
            "Name:  arya\n",
            "Total mark:  88.0\n",
            "Average:  29.333333333333332\n",
            "Fail\n"
          ]
        }
      ],
      "source": [
        "#4.student ranklist\n",
        "name=str(input(\"Enter the student name: \"))\n",
        "mark1=float(input(\"Enter the mark1: \"))\n",
        "mark2=float(input(\"Enter the mark2: \"))\n",
        "mark3=float(input(\"Enter the mark3: \"))\n",
        "total=mark1+mark2+mark3\n",
        "average=total/3\n",
        "print(\"Marklist\")\n",
        "print(\"Name: \",name)\n",
        "print(\"Total mark: \",total)\n",
        "print(\"Average: \",average)\n",
        "if(average>90):\n",
        "  print(\"Grade: A+\")\n",
        "elif(average>70):\n",
        "  print(\"Grade: B\")\n",
        "elif(average>50):\n",
        "  print(\"Grade: C\")\n",
        "else:\n",
        "  print(\"Fail\")\n",
        "\n"
      ]
    },
    {
      "cell_type": "code",
      "execution_count": null,
      "metadata": {
        "colab": {
          "base_uri": "https://localhost:8080/"
        },
        "id": "KQ8vqNyh-2yX",
        "outputId": "9a7fb56c-32c9-4599-e62c-1aa6fd404502"
      },
      "outputs": [
        {
          "name": "stdout",
          "output_type": "stream",
          "text": [
            "Enter your name: arya\n",
            "Enter the unit consumed: 106\n",
            "Name:  arya\n",
            "Bill amount:  371.3\n"
          ]
        }
      ],
      "source": [
        "#5.electricity bill\n",
        "name=str(input(\"Enter your name: \"))\n",
        "unit=float(input(\"Enter the unit consumed: \"))\n",
        "print(\"Name: \",name)\n",
        "if unit<=50:\n",
        "  bill=unit*3.15\n",
        "  print(\"Bill amount: \",bill)\n",
        "elif (unit>50) and (unit<=100):\n",
        "  y=unit-50\n",
        "  bill=(50*3.15)+(y*3.70)\n",
        "  print(\"Bill amount: \",bill)\n",
        "elif (unit>100) and (unit<=150):\n",
        "  y1=unit-100\n",
        "  bill=(50*3.15)+(50*3.70)+(y1*4.80)\n",
        "  print(\"Bill amount: \",bill)\n",
        "elif (unit>150) and (unit<=200):\n",
        "  y2=unit-150\n",
        "  bill=(50*3.15)+(50*3.70)+(50*4.80)+(y2*6.40)\n",
        "  print(\"Bill amount: \",bill)\n",
        "else:\n",
        "  print(\"No bill amount\")"
      ]
    },
    {
      "cell_type": "code",
      "execution_count": null,
      "metadata": {
        "colab": {
          "base_uri": "https://localhost:8080/"
        },
        "id": "0ga1AQ9ZGBLq",
        "outputId": "c507e1a4-04a6-4605-c4bb-f2c24f31a382"
      },
      "outputs": [
        {
          "name": "stdout",
          "output_type": "stream",
          "text": [
            "Enter the month (1-12): 2\n",
            "The season is Winter\n"
          ]
        }
      ],
      "source": [
        "#6.determine season based on month\n",
        "month=int(input(\"Enter the month (1-12): \"))\n",
        "\n",
        "if 3<=month<=5:\n",
        "    season=\"Spring\"\n",
        "elif 6<=month<=8:\n",
        "    season=\"Summer\"\n",
        "elif 9<=month<=11:\n",
        "    season=\"Autumn\"\n",
        "else:\n",
        "    season=\"Winter\"\n",
        "\n",
        "print(\"The season is\", season)"
      ]
    },
    {
      "cell_type": "code",
      "execution_count": null,
      "metadata": {
        "colab": {
          "base_uri": "https://localhost:8080/"
        },
        "id": "N3GY4OJGGtNe",
        "outputId": "91c84cbb-046a-48ee-a2a5-f8afa7098da5"
      },
      "outputs": [
        {
          "name": "stdout",
          "output_type": "stream",
          "text": [
            "Enter the total price: 240\n",
            "Discount: $ 24.0\n",
            "Final Price: $ 216.0\n"
          ]
        }
      ],
      "source": [
        "#7.discount on purchase\n",
        "total_price=float(input(\"Enter the total price: \"))\n",
        "\n",
        "if total_price>100:\n",
        "    discount=total_price * 0.10\n",
        "else:\n",
        "    discount=0\n",
        "\n",
        "final_price=total_price - discount\n",
        "print(\"Discount: $\", discount)\n",
        "print(\"Final Price: $\", final_price)"
      ]
    },
    {
      "cell_type": "code",
      "execution_count": null,
      "metadata": {
        "colab": {
          "base_uri": "https://localhost:8080/"
        },
        "id": "yl2072zJHU9m",
        "outputId": "e1680577-6d58-44de-f339-2213100e6e83"
      },
      "outputs": [
        {
          "output_type": "stream",
          "name": "stdout",
          "text": [
            "Enter a number: 5\n",
            "5 is a prime number\n"
          ]
        }
      ],
      "source": [
        "#8.primenumber\n",
        "num = int(input(\"Enter a number: \"))\n",
        "\n",
        "if num > 1:\n",
        "    for i in range(2, num):\n",
        "        if (num % i) == 0:\n",
        "            print(num, \"is not a prime number\")\n",
        "            break\n",
        "    else:\n",
        "        print(num, \"is a prime number\")\n",
        "else:\n",
        "    print(num, \"is not a prime number\")"
      ]
    },
    {
      "cell_type": "code",
      "execution_count": null,
      "metadata": {
        "colab": {
          "base_uri": "https://localhost:8080/"
        },
        "id": "GLDTB1Q18R7s",
        "outputId": "5db7dfb1-f842-4ac8-e166-a8c23fa031ac"
      },
      "outputs": [
        {
          "name": "stdout",
          "output_type": "stream",
          "text": [
            "thon \n",
            "ogramm\n",
            "gnimmargorp nohtyp\n",
            "python \n",
            "python programming-welcome\n",
            "welcomewelcomewelcomewelcomewelcome\n"
          ]
        }
      ],
      "source": [
        "#9.string slicing\n",
        "name=\"python programming\"\n",
        "print(name[2:7])\n",
        "print(name[-9:-3])\n",
        "print(name[::-1])\n",
        "print(name[:7])\n",
        "name1=\"welcome\"\n",
        "print(name+\"-\"+name1)\n",
        "print(name1*5)"
      ]
    },
    {
      "cell_type": "code",
      "execution_count": null,
      "metadata": {
        "colab": {
          "base_uri": "https://localhost:8080/"
        },
        "id": "7aanzXbsDaZX",
        "outputId": "beb1a2be-5bf3-423b-ce69-04169f78e184"
      },
      "outputs": [
        {
          "name": "stdout",
          "output_type": "stream",
          "text": [
            "['Arya', 25, 'Pathanamthitta', 25000]\n",
            "25000\n",
            "Pathanamthitta\n",
            "[25, 'Pathanamthitta']\n",
            "['Arya', 25]\n",
            "y\n",
            "r\n"
          ]
        }
      ],
      "source": [
        "#10.list\n",
        "mylist=[\"Arya\",25,\"Pathanamthitta\",25000]\n",
        "print(mylist)\n",
        "print(mylist[3])\n",
        "print(mylist[-2])\n",
        "print(mylist[1:3])\n",
        "print(mylist[-4:-2])\n",
        "#nested index\n",
        "print(mylist[0][2])\n",
        "print(mylist[0][-3])"
      ]
    },
    {
      "cell_type": "code",
      "execution_count": null,
      "metadata": {
        "colab": {
          "base_uri": "https://localhost:8080/"
        },
        "id": "vqynntDSHwzS",
        "outputId": "fcac86a9-8a92-4489-878c-9f9f191b39a4"
      },
      "outputs": [
        {
          "name": "stdout",
          "output_type": "stream",
          "text": [
            "('Arya', 25, 'Pathanamthitta', 25000)\n",
            "25\n",
            "Pathanamthitta\n",
            "('Arya', 25, 'Pathanamthitta')\n",
            "(25, 'Pathanamthitta')\n",
            "y\n",
            "r\n"
          ]
        }
      ],
      "source": [
        "#11.tuple\n",
        "tuple1=(\"Arya\",25,\"Pathanamthitta\",25000)\n",
        "print(tuple1)\n",
        "print(tuple1[1])\n",
        "print(tuple1[-2])\n",
        "print(tuple1[0:3])\n",
        "print(tuple1[-3:-1])\n",
        "#nested index\n",
        "print(tuple1[0][2])\n",
        "print(tuple1[0][-3])"
      ]
    },
    {
      "cell_type": "code",
      "execution_count": null,
      "metadata": {
        "colab": {
          "base_uri": "https://localhost:8080/"
        },
        "id": "wX9LeKnwKTvB",
        "outputId": "53f14ad0-12bf-4b0c-c141-ec8c95aaacb6"
      },
      "outputs": [
        {
          "name": "stdout",
          "output_type": "stream",
          "text": [
            "{2, 'a', 375, 'oneteam', 29}\n"
          ]
        }
      ],
      "source": [
        "#12.set\n",
        "myset={29,2,375,\"oneteam\",2,'a',2,'a'}\n",
        "print(myset)"
      ]
    },
    {
      "cell_type": "code",
      "execution_count": null,
      "metadata": {
        "colab": {
          "base_uri": "https://localhost:8080/"
        },
        "id": "Q2mbzNdRGz6V",
        "outputId": "d7c554b1-cdf6-4568-d8d7-419f459cc07c"
      },
      "outputs": [
        {
          "name": "stdout",
          "output_type": "stream",
          "text": [
            "{1: 2, 2: 5, 3: 7, 4: 8, 5: 6}\n",
            "{'name': 'Arya', 'age': 25, 'place': 'Adoor'}\n",
            "Arya\n",
            "25\n",
            "Adoor\n"
          ]
        }
      ],
      "source": [
        "#13.dictionary\n",
        "mydict={1:2,2:5,3:7,4:8,5:6}\n",
        "print(mydict)\n",
        "mypro={'name':'Arya','age':25,'place':'Adoor'}\n",
        "print(mypro)\n",
        "print(mypro['name'])\n",
        "print(mypro['age'])\n",
        "print(mypro['place'])"
      ]
    },
    {
      "cell_type": "code",
      "execution_count": null,
      "metadata": {
        "colab": {
          "base_uri": "https://localhost:8080/"
        },
        "id": "slVdf8WzNdZo",
        "outputId": "c5fd90ac-f679-4a0c-ca93-b1e7770d19ff"
      },
      "outputs": [
        {
          "name": "stdout",
          "output_type": "stream",
          "text": [
            "Enter the number: 5\n",
            "5.0  is a positive number\n"
          ]
        }
      ],
      "source": [
        "#14.check number is positive,negative and zero\n",
        "\n",
        "number=float(input(\"Enter the number: \"))\n",
        "if(number>0):\n",
        "  print(number,\" is a positive number\")\n",
        "elif(number==0):\n",
        "  print(\"It is zero\")\n",
        "else:\n",
        "  print(number,\" is a negative number\")"
      ]
    },
    {
      "cell_type": "code",
      "execution_count": null,
      "metadata": {
        "colab": {
          "base_uri": "https://localhost:8080/"
        },
        "id": "3uNhTt2dOxds",
        "outputId": "6595377b-888e-4c7a-fd04-c0f54816f614"
      },
      "outputs": [
        {
          "name": "stdout",
          "output_type": "stream",
          "text": [
            "Enter the month[1-12]: 6\n",
            "summer\n"
          ]
        }
      ],
      "source": [
        "#15.season\n",
        "month=int(input(\"Enter the month[1-12]: \"))\n",
        "if 3 <= month <=5:\n",
        "  print(\"spring\")\n",
        "elif 6 <= month <=8:\n",
        "  print(\"summer\")\n",
        "elif 9 <= month <=11:\n",
        "  print(\"autumn\")\n",
        "else:\n",
        "  print(\"winter\")"
      ]
    },
    {
      "cell_type": "code",
      "execution_count": null,
      "metadata": {
        "colab": {
          "base_uri": "https://localhost:8080/"
        },
        "id": "t21fVoSkQj9n",
        "outputId": "c4faee93-d734-4f50-e5d6-b19f13d17013"
      },
      "outputs": [
        {
          "name": "stdout",
          "output_type": "stream",
          "text": [
            "Enter the current temperature in degrees fahrenheit: 5\n",
            "wear heavy coat and warm pants\n"
          ]
        }
      ],
      "source": [
        "#16.dressing for the weather\n",
        "temp=float(input(\"Enter the current temperature in degrees fahrenheit: \"))\n",
        "if temp>=70:\n",
        "  print(\"wear shorts and t-shirt\")\n",
        "elif 50 <= temp <= 69:\n",
        "  print(\"wear jeans and light jacket\")\n",
        "else:\n",
        "  print(\"wear heavy coat and warm pants\")"
      ]
    },
    {
      "cell_type": "code",
      "execution_count": null,
      "metadata": {
        "colab": {
          "base_uri": "https://localhost:8080/"
        },
        "id": "iW-midDPVBWk",
        "outputId": "f010fd6f-8aee-46ba-8fce-bcc63cb3482f"
      },
      "outputs": [
        {
          "name": "stdout",
          "output_type": "stream",
          "text": [
            "Enter the year: 2028\n",
            "2028  is a leap year\n"
          ]
        }
      ],
      "source": [
        "#17.leap year\n",
        "year=int(input(\"Enter the year: \"))\n",
        "if (year%4==0) or (year%100==0) and (year%400==0):\n",
        "  print(year,\" is a leap year\")\n",
        "else:\n",
        "  print(year,\" is not a leap year\")"
      ]
    },
    {
      "cell_type": "code",
      "execution_count": null,
      "metadata": {
        "colab": {
          "base_uri": "https://localhost:8080/"
        },
        "id": "5p6aKa3ANl4R",
        "outputId": "b89aa899-20d8-4e6b-ca25-995128024116"
      },
      "outputs": [
        {
          "name": "stdout",
          "output_type": "stream",
          "text": [
            "<class 'int'>\n",
            "<class 'str'>\n",
            "10\n"
          ]
        }
      ],
      "source": [
        "#18.type\n",
        "a=10\n",
        "print(type(a))\n",
        "s=str(a)\n",
        "print(type(s))\n",
        "print(s)"
      ]
    },
    {
      "cell_type": "code",
      "execution_count": null,
      "metadata": {
        "colab": {
          "base_uri": "https://localhost:8080/"
        },
        "id": "OSD1djqqPjTs",
        "outputId": "cdba20c2-917f-4f29-b434-0a79eb8d97a5"
      },
      "outputs": [
        {
          "name": "stdout",
          "output_type": "stream",
          "text": [
            "['Arya', 24, 'a', 45678900]\n",
            "<class 'list'>\n",
            "<class 'tuple'>\n",
            "('Arya', 24, 'a', 45678900)\n"
          ]
        }
      ],
      "source": [
        "#19.list\n",
        "mylist=['Arya',24,'a',45678900]\n",
        "print(mylist)\n",
        "print(type(mylist))\n",
        "mytuple=tuple(mylist)\n",
        "print(type(mytuple))\n",
        "print(mytuple)"
      ]
    },
    {
      "cell_type": "code",
      "execution_count": null,
      "metadata": {
        "colab": {
          "base_uri": "https://localhost:8080/"
        },
        "id": "oWDBnmFoWOXW",
        "outputId": "08e14628-23d4-4074-f5aa-2ed31e922eea"
      },
      "outputs": [
        {
          "name": "stdout",
          "output_type": "stream",
          "text": [
            "Count value is:  1\n",
            "Count value is:  2\n",
            "Count value is:  3\n",
            "Count value is:  4\n",
            "Count value is:  5\n",
            "Count value is:  6\n",
            "Count value is:  7\n",
            "Count value is:  8\n",
            "Count value is:  9\n",
            "Count value is:  10\n",
            "Count value is:  11\n",
            "Count value is:  12\n",
            "Count value is:  13\n",
            "Count value is:  14\n",
            "Count value is:  15\n",
            "Count value is:  16\n",
            "Count value is:  17\n",
            "Count value is:  18\n",
            "Count value is:  19\n",
            "Count value is:  20\n",
            "Count value is:  21\n",
            "Count value is:  22\n",
            "Count value is:  23\n",
            "Count value is:  24\n",
            "Count value is:  25\n",
            "Count value is:  26\n",
            "Count value is:  27\n",
            "Count value is:  28\n",
            "Count value is:  29\n",
            "Count value is:  30\n",
            "Count value is:  31\n",
            "Count value is:  32\n",
            "Count value is:  33\n",
            "Count value is:  34\n",
            "Count value is:  35\n",
            "Count value is:  36\n",
            "Count value is:  37\n",
            "Count value is:  38\n",
            "Count value is:  39\n",
            "Count value is:  40\n",
            "Count value is:  41\n",
            "Count value is:  42\n",
            "Count value is:  43\n",
            "Count value is:  44\n",
            "Count value is:  45\n",
            "Count value is:  46\n",
            "Count value is:  47\n",
            "Count value is:  48\n",
            "Count value is:  49\n",
            "Count value is:  50\n"
          ]
        }
      ],
      "source": [
        "#20.looping\n",
        "#while loop\n",
        "count=1\n",
        "while(count<=50):\n",
        "  print(\"Count value is: \",count)\n",
        "  count+=1\n"
      ]
    },
    {
      "cell_type": "code",
      "execution_count": null,
      "metadata": {
        "colab": {
          "base_uri": "https://localhost:8080/"
        },
        "id": "gqSsMk4VZccx",
        "outputId": "00447b03-de85-4738-c13f-2d24292f373c"
      },
      "outputs": [
        {
          "name": "stdout",
          "output_type": "stream",
          "text": [
            "Count value is:  2\n",
            "Count value is:  4\n",
            "Count value is:  6\n",
            "Count value is:  8\n",
            "Count value is:  10\n",
            "Count value is:  12\n",
            "Count value is:  14\n",
            "Count value is:  16\n",
            "Count value is:  18\n",
            "Count value is:  20\n",
            "Count value is:  22\n",
            "Count value is:  24\n",
            "Count value is:  26\n",
            "Count value is:  28\n",
            "Count value is:  30\n",
            "Count value is:  32\n",
            "Count value is:  34\n",
            "Count value is:  36\n",
            "Count value is:  38\n",
            "Count value is:  40\n",
            "Count value is:  42\n",
            "Count value is:  44\n",
            "Count value is:  46\n",
            "Count value is:  48\n",
            "Count value is:  50\n"
          ]
        }
      ],
      "source": [
        "#21.while loop\n",
        "count=2\n",
        "while(count<=50):\n",
        "  print(\"Count value is: \",count)\n",
        "  count+=2"
      ]
    },
    {
      "cell_type": "code",
      "execution_count": null,
      "metadata": {
        "colab": {
          "base_uri": "https://localhost:8080/"
        },
        "id": "QgXgdHNcZrvE",
        "outputId": "d9c68899-61cb-4f2c-bca7-854b7826087f"
      },
      "outputs": [
        {
          "name": "stdout",
          "output_type": "stream",
          "text": [
            "Enter the number: 2\n",
            "1 * 2 = 2\n",
            "2 * 2 = 4\n",
            "3 * 2 = 6\n",
            "4 * 2 = 8\n",
            "5 * 2 = 10\n",
            "6 * 2 = 12\n",
            "7 * 2 = 14\n",
            "8 * 2 = 16\n",
            "9 * 2 = 18\n",
            "10 * 2 = 20\n"
          ]
        }
      ],
      "source": [
        "#22.multiplication table\n",
        "number=int(input(\"Enter the number: \"))\n",
        "count=1\n",
        "while(count<=10):\n",
        "   result=count*number\n",
        "   print(count ,\"*\",number,\"=\" ,result)\n",
        "   count+=1"
      ]
    },
    {
      "cell_type": "code",
      "execution_count": null,
      "metadata": {
        "colab": {
          "base_uri": "https://localhost:8080/"
        },
        "id": "NvPn8Yd3VeIV",
        "outputId": "86cbb412-daa3-4cf4-dca5-bfe75b42091a"
      },
      "outputs": [
        {
          "name": "stdout",
          "output_type": "stream",
          "text": [
            "Enter the limit: 20\n",
            "sum of 20 even numbers are: 110\n"
          ]
        }
      ],
      "source": [
        "#23.sum of even numers\n",
        "limit=int(input(\"Enter the limit: \"))\n",
        "count=0\n",
        "sum=0\n",
        "while(count<=limit):\n",
        "  sum=sum +count\n",
        "  count+=2\n",
        "print(\"sum of\",limit,\"even numbers are:\",sum)"
      ]
    },
    {
      "cell_type": "code",
      "execution_count": null,
      "metadata": {
        "colab": {
          "base_uri": "https://localhost:8080/"
        },
        "id": "oK6VbntxbycU",
        "outputId": "86a7125f-0736-4546-99c2-e02200e2f285"
      },
      "outputs": [
        {
          "output_type": "stream",
          "name": "stdout",
          "text": [
            "Enter the limit: 10\n",
            "sum of 10 even numbers are: 3840\n"
          ]
        }
      ],
      "source": [
        "#24.product of even number\n",
        "limit=int(input(\"Enter the limit: \"))\n",
        "count=1\n",
        "product=1\n",
        "while(count<=limit):\n",
        "  if(count%2==0):\n",
        "    product=product*count\n",
        "  count+=1\n",
        "print(\"sum of\",limit,\"even numbers are:\",product)"
      ]
    },
    {
      "cell_type": "code",
      "source": [
        "#25.sum of natural numbers\n",
        "limit=int(input(\"Enter the limit: \"))\n",
        "sum=0\n",
        "count=1\n",
        "while(count<=limit):\n",
        "  sum+=count\n",
        "  count+=1\n",
        "print(sum)\n"
      ],
      "metadata": {
        "colab": {
          "base_uri": "https://localhost:8080/"
        },
        "id": "zYRl8ib8gJg5",
        "outputId": "6e87f2d3-2468-424b-9027-a86b8c76799e"
      },
      "execution_count": null,
      "outputs": [
        {
          "output_type": "stream",
          "name": "stdout",
          "text": [
            "Enter the limit: 10\n",
            "55\n"
          ]
        }
      ]
    },
    {
      "cell_type": "code",
      "source": [
        "#26.sum of natural numbers\n",
        "limit=int(input(\"Enter the limit: \"))\n",
        "sum_1=limit*(limit+1)\n",
        "total=sum_1/2\n",
        "print(\"sum of\",limit,\"natural numbers are:\",total)"
      ],
      "metadata": {
        "colab": {
          "base_uri": "https://localhost:8080/"
        },
        "id": "kEUxnQzGoVYI",
        "outputId": "98894c01-dd5b-49c4-f3ec-d44b6743014b"
      },
      "execution_count": null,
      "outputs": [
        {
          "output_type": "stream",
          "name": "stdout",
          "text": [
            "Enter the limit: 10\n",
            "sum of 10 natural numbers are: 55.0\n"
          ]
        }
      ]
    },
    {
      "cell_type": "code",
      "source": [
        "#27.factorial of a number\n",
        "num=int(input(\"Enter the number:\"))\n",
        "fact=1\n",
        "count=1\n",
        "if(num==0) or (num==1):\n",
        "  print(\"factorial is 1\")\n",
        "elif(num<0):\n",
        "  print(\"There is no factorial\")\n",
        "else:\n",
        "  while(count<=num):\n",
        "    fact*=count\n",
        "    count+=1\n",
        "  print(\"Factorial is:\",fact)\n"
      ],
      "metadata": {
        "colab": {
          "base_uri": "https://localhost:8080/"
        },
        "id": "pgwLXlBWiIae",
        "outputId": "d677e279-af2c-43c1-c5fd-e64f1e34c6f1"
      },
      "execution_count": null,
      "outputs": [
        {
          "output_type": "stream",
          "name": "stdout",
          "text": [
            "Enter the number:5\n",
            "Factorial is: 120\n"
          ]
        }
      ]
    },
    {
      "cell_type": "code",
      "source": [
        "#28.sum of digits\n",
        "number=int(input(\"Enter the number:\"))\n",
        "sum_of_digits=0\n",
        "while(number>0):\n",
        "  digits=number%10\n",
        "  sum_of_digits+=digits\n",
        "  number//=10\n",
        "print(\"sum of the number is:\",sum_of_digits)\n"
      ],
      "metadata": {
        "colab": {
          "base_uri": "https://localhost:8080/"
        },
        "id": "HR1kn5bDkYKE",
        "outputId": "0acf0b02-2cbe-4fa4-aaa1-a81736d65b69"
      },
      "execution_count": null,
      "outputs": [
        {
          "output_type": "stream",
          "name": "stdout",
          "text": [
            "Enter the number:12\n",
            "sum of the number is: 3\n"
          ]
        }
      ]
    },
    {
      "cell_type": "code",
      "source": [
        "#29.break\n",
        "count=1\n",
        "while(count<=10):\n",
        "  print(count)\n",
        "  if(count==5):\n",
        "    break\n",
        "  count+=1\n",
        "\n"
      ],
      "metadata": {
        "colab": {
          "base_uri": "https://localhost:8080/"
        },
        "id": "_JDLVnXOJthY",
        "outputId": "97042671-d318-455f-878c-ff7e2be00ce7"
      },
      "execution_count": null,
      "outputs": [
        {
          "output_type": "stream",
          "name": "stdout",
          "text": [
            "1\n",
            "2\n",
            "3\n",
            "4\n",
            "5\n"
          ]
        }
      ]
    },
    {
      "cell_type": "code",
      "source": [
        "#30.continue\n",
        "count=0\n",
        "while(count<=10):\n",
        "  count+=1\n",
        "  if(count==5):\n",
        "    continue\n",
        "  print(count)\n",
        "\n",
        "\n"
      ],
      "metadata": {
        "colab": {
          "base_uri": "https://localhost:8080/"
        },
        "id": "NX7T86esLLke",
        "outputId": "24ae2365-d708-4446-fd38-7ae5c334f97d"
      },
      "execution_count": null,
      "outputs": [
        {
          "output_type": "stream",
          "name": "stdout",
          "text": [
            "1\n",
            "2\n",
            "3\n",
            "4\n",
            "6\n",
            "7\n",
            "8\n",
            "9\n",
            "10\n",
            "11\n"
          ]
        }
      ]
    },
    {
      "cell_type": "code",
      "source": [
        "#31.break,continue,pass\n",
        "var=10\n",
        "while(var>0):\n",
        "  var-=1\n",
        "  if(var==5):\n",
        "    pass\n",
        "    #break\n",
        "    #continue\n",
        "  print(\"Current value is:\",var)\n",
        "print(\"Thank you\")"
      ],
      "metadata": {
        "colab": {
          "base_uri": "https://localhost:8080/"
        },
        "id": "llTXxfcBz6SF",
        "outputId": "ccfd1077-602e-4bfe-9d87-53ec8d4d90f9"
      },
      "execution_count": null,
      "outputs": [
        {
          "output_type": "stream",
          "name": "stdout",
          "text": [
            "Current value is: 9\n",
            "Current value is: 8\n",
            "Current value is: 7\n",
            "Current value is: 6\n",
            "Current value is: 5\n",
            "Current value is: 4\n",
            "Current value is: 3\n",
            "Current value is: 2\n",
            "Current value is: 1\n",
            "Current value is: 0\n",
            "Thank you\n"
          ]
        }
      ]
    },
    {
      "cell_type": "code",
      "source": [
        "#32.for loop\n",
        "for i in \"Oneteam\":\n",
        "  print(i)\n",
        "\n",
        "mylist=[\"Arya\",25,\"Adoor\"]\n",
        "for var in mylist:\n",
        "  print(var)"
      ],
      "metadata": {
        "colab": {
          "base_uri": "https://localhost:8080/"
        },
        "id": "zswfvJG13ctk",
        "outputId": "cb9ebc6a-1aa4-4c1a-aa2a-250934608a4b"
      },
      "execution_count": null,
      "outputs": [
        {
          "output_type": "stream",
          "name": "stdout",
          "text": [
            "O\n",
            "n\n",
            "e\n",
            "t\n",
            "e\n",
            "a\n",
            "m\n",
            "Arya\n",
            "25\n",
            "Adoor\n"
          ]
        }
      ]
    },
    {
      "cell_type": "code",
      "source": [
        "#33.factorial using for loop and range()\n",
        "num=int(input(\"Enter the number:\"))\n",
        "fact=1\n",
        "if(num==0) or (num==1):\n",
        "  print(\"factorial is 1\")\n",
        "elif(num<0):\n",
        "  print(\"There is no factorial\")\n",
        "else:\n",
        "  for i in range(1,num+1):\n",
        "    fact=fact*i\n",
        "  print(\"Factorial is:\",fact)"
      ],
      "metadata": {
        "colab": {
          "base_uri": "https://localhost:8080/"
        },
        "id": "tPIR_XVc5VFw",
        "outputId": "862421fd-8dea-4607-a372-28c5df2e28da"
      },
      "execution_count": null,
      "outputs": [
        {
          "output_type": "stream",
          "name": "stdout",
          "text": [
            "Enter the number:5\n",
            "Factorial is: 120\n"
          ]
        }
      ]
    },
    {
      "cell_type": "code",
      "source": [
        "#34.reversing list using insert()\n",
        "original_list=[\"Arya\",25,\"Adoor\"]\n",
        "reversed_list=[]\n",
        "for i in original_list:\n",
        "  reversed_list.insert(0,i)\n",
        "  #reversed_list=original_list[::-1]\n",
        "print(\"Reversed list is:\",reversed_list)\n",
        "print(\"Original list is:\",original_list)\n",
        "\n"
      ],
      "metadata": {
        "colab": {
          "base_uri": "https://localhost:8080/"
        },
        "id": "rOdSnKuz6ULk",
        "outputId": "60c6c4b8-8bdb-47d2-ed41-3d6c46d2f2d9"
      },
      "execution_count": null,
      "outputs": [
        {
          "output_type": "stream",
          "name": "stdout",
          "text": [
            "Reversed list is: ['Adoor', 25, 'Arya']\n",
            "Original list is: ['Arya', 25, 'Adoor']\n"
          ]
        }
      ]
    },
    {
      "cell_type": "code",
      "source": [
        "#35.occurances of item in list\n",
        "numbers=[1,2,3,4,2,4,3,1,1,2,5]\n",
        "count={}\n",
        "\n",
        "for i in numbers:\n",
        "  if(i in count):\n",
        "    count[i]+=1\n",
        "  else:\n",
        "    count[i]=1\n",
        "print(count)\n",
        "\n"
      ],
      "metadata": {
        "id": "krV4mHNBC8Qk",
        "colab": {
          "base_uri": "https://localhost:8080/"
        },
        "outputId": "48b39908-df7f-4910-8ab2-c9dca9447033"
      },
      "execution_count": null,
      "outputs": [
        {
          "output_type": "stream",
          "name": "stdout",
          "text": [
            "{1: 3, 2: 3, 3: 2, 4: 2, 5: 1}\n"
          ]
        }
      ]
    },
    {
      "cell_type": "code",
      "source": [
        "#36.string palindrome\n",
        "word=str(input(\"Enter the word: \"))\n",
        "#word=\"malayalam\"\n",
        "rev=\"\"\n",
        "for i in word:\n",
        "  rev=i+rev\n",
        "if(word==rev):\n",
        "  print(word,\"is palindrome\")\n",
        "else:\n",
        "  print(word,\"is not palindrome\")"
      ],
      "metadata": {
        "colab": {
          "base_uri": "https://localhost:8080/"
        },
        "id": "AsLFJnNPIKsE",
        "outputId": "cee8f40b-df93-47e9-e421-441a9dfe3469"
      },
      "execution_count": null,
      "outputs": [
        {
          "output_type": "stream",
          "name": "stdout",
          "text": [
            "Enter the word: malayalam\n",
            "malayalam is palindrome\n"
          ]
        }
      ]
    },
    {
      "cell_type": "code",
      "source": [
        "num=int(input(\"Enter the number:\"))\n",
        "square=num**2\n",
        "cube=num**3\n",
        "sq_mod=pow(10,len(str(num)))\n",
        "cu_mod=pow(10,len(str(num)))\n",
        "\n",
        "#automorphic\n",
        "if(square % sq_mod == num):\n",
        "  print(\"It is automorphic\")\n",
        "else:\n",
        "  print(\"It is not automorphic\")\n",
        "\n",
        "#trimorphic\n",
        "if(cube % cu_mod == num):\n",
        "  print(\"It is trimorphic\")\n",
        "else:\n",
        "  print(\"It is not trimorphic\")\n"
      ],
      "metadata": {
        "colab": {
          "base_uri": "https://localhost:8080/"
        },
        "id": "NpejdGkxBXM4",
        "outputId": "5199a946-4265-48bd-a1b0-cc16ff2ac0cf"
      },
      "execution_count": null,
      "outputs": [
        {
          "output_type": "stream",
          "name": "stdout",
          "text": [
            "Enter the number:5001\n",
            "It is not automorphic\n",
            "It is trimorphic\n"
          ]
        }
      ]
    },
    {
      "cell_type": "code",
      "source": [
        "#37.calculator\n",
        "\n",
        "#display choices\n",
        "print(\"Enter:\\n\\n1. Addition\\n2. Subtraction\\n3. Multiplication\\n4. Division\\n5. Modulo\\n\")\n",
        "\n",
        "#enter operation to be performed\n",
        "operation = input(\"Enter your choice: \")\n",
        "\n",
        "#enter values\n",
        "num1=float(input(\"Enter the number1:\"))\n",
        "num2=float(input(\"Enter the number2:\"))\n",
        "\n",
        "result=0\n",
        "\n",
        "#give condtions based on choice\n",
        "if(operation==\"1\"):\n",
        "  result=num1+num2\n",
        "elif(operation==\"2\"):\n",
        "  result=num1-num2\n",
        "elif(operation==\"3\"):\n",
        "  result=num1*num2\n",
        "elif(operation==\"4\"):\n",
        "  if(num2==0):\n",
        "    print(\"Division by zero not allowed\")\n",
        "  else:\n",
        "    result=num1/num2\n",
        "elif(operation==\"5\"):\n",
        "  result=num1%num2\n",
        "else:\n",
        "  print(\"Input is invalid\")\n",
        "\n",
        "  #display answer\n",
        "print(\"Answer is:\",result)\n"
      ],
      "metadata": {
        "colab": {
          "base_uri": "https://localhost:8080/"
        },
        "id": "B2Uy3ULYs2Ts",
        "outputId": "3654540d-a86b-4aa0-c73d-bdb79f4a785d"
      },
      "execution_count": null,
      "outputs": [
        {
          "output_type": "stream",
          "name": "stdout",
          "text": [
            "Enter:\n",
            "\n",
            "1. Addition\n",
            "2. Subtraction\n",
            "3. Multiplication\n",
            "4. Division\n",
            "5. Modulo\n",
            "\n",
            "Enter your choice: 4\n",
            "Enter the number1:45\n",
            "Enter the number2:5\n",
            "Answer is: 9.0\n"
          ]
        }
      ]
    },
    {
      "cell_type": "code",
      "source": [
        "#38.checking triangle using sides\n",
        "\n",
        "#enter sides\n",
        "s1=int(input(\"Enter side1:\"))\n",
        "s2=int(input(\"Enter side2:\"))\n",
        "s3=int(input(\"Enter side3:\"))\n",
        "\n",
        "#calculate square of sides\n",
        "sqr_s1=s1**2\n",
        "sqr_s2=s2**2\n",
        "sqr_s3=s3**2\n",
        "\n",
        "#give conditions for right,acute and obtuse angled triangles\n",
        "if(sqr_s1 == sqr_s2+sqr_s3) or (sqr_s2 == sqr_s1+sqr_s3) or (sqr_s3==sqr_s1+sqr_s2):\n",
        "  print(\"The triangle is right-angled traingle\")\n",
        "#elif(sqr_s1 > sqr_s2+sqr_s3) or (sqr_s2 > sqr_s1+sqr_s3) or (sqr_s3 > sqr_s1+sqr_s2):\n",
        " # print(\"The triangle is obtuse-angled traingle\")\n",
        "#elif(sqr_s1 < sqr_s2+sqr_s3) or (sqr_s2 < sqr_s1+sqr_s3) or (sqr_s3 < sqr_s1+sqr_s2):\n",
        " # print(\"The triangle is acute-angled traingle\")\n",
        "else:\n",
        "  print(\"The triangle is not right-angled traingle\")"
      ],
      "metadata": {
        "colab": {
          "base_uri": "https://localhost:8080/"
        },
        "id": "mId2Z1vNwZyj",
        "outputId": "74366d0e-3bc4-4376-cc11-e934b341c63e"
      },
      "execution_count": null,
      "outputs": [
        {
          "output_type": "stream",
          "name": "stdout",
          "text": [
            "Enter side1:12\n",
            "Enter side2:7\n",
            "Enter side3:8\n",
            "The triangle is obtuse-angled traingle\n"
          ]
        }
      ]
    },
    {
      "cell_type": "code",
      "source": [
        "#39.checking triangle using angle\n",
        "#enter angles\n",
        "angle1=int(\"Enter the angle1:\")\n",
        "angle2=int(\"Enter the angle2:\")\n",
        "angle3=int(\"Enter the angle3:\")\n",
        "\n",
        "#calculate sum to check 180 or not\n",
        "sum=angle1+angle2+angle3\n",
        "\n",
        "#give conditions to check right angle or not\n",
        "if(sum==180):\n",
        "  if(angle1==90) or (angle2==90) or (angle3==90):\n",
        "    print(\"It is right angled triangle\")\n",
        "  else:\n",
        "    print(\"Not right angled triangle\")\n",
        "else:\n",
        "  print(\"Not right angled triangle\")"
      ],
      "metadata": {
        "id": "jO4kuXizSbfs"
      },
      "execution_count": null,
      "outputs": []
    },
    {
      "cell_type": "code",
      "source": [
        "#string methods\n",
        "#length\n",
        "my_string=\"python programming\"\n",
        "print(len(my_string))\n",
        "#uppercase\n",
        "print(my_string.upper())\n",
        "#lowercase\n",
        "print(my_string.lower())\n",
        "#capitalize\n",
        "print(my_string.capitalize())\n",
        "#count\n",
        "s=\"hello,hello,hello,hello,hello\"\n",
        "count=s.count(\"hello\")\n",
        "print(count)\n",
        "#replace\n",
        "new_string=\"Hello,world!\"\n",
        "rep_string=new_string.replace(\"Hello\",\"Hai\")\n",
        "print(rep_string)\n",
        "#split\n",
        "s1=\"apple/orange/banana\"\n",
        "s2=s1.split(\"/\")\n",
        "print(s2)"
      ],
      "metadata": {
        "colab": {
          "base_uri": "https://localhost:8080/"
        },
        "id": "9BFJnl8sSOdy",
        "outputId": "122fe959-1179-422a-8075-0a9815d9217a"
      },
      "execution_count": null,
      "outputs": [
        {
          "output_type": "stream",
          "name": "stdout",
          "text": [
            "18\n",
            "PYTHON PROGRAMMING\n",
            "python programming\n",
            "Python programming\n",
            "5\n",
            "Hai,world!\n",
            "['apple', 'orange', 'banana']\n"
          ]
        }
      ]
    },
    {
      "cell_type": "code",
      "source": [
        "#list inbuilt methods\n",
        "#append\n",
        "my_list=[1,2,3]\n",
        "my_list.append(4)\n",
        "print(my_list)\n",
        "\n",
        "#extend\n",
        "my_list=[1,2,3]\n",
        "my_list.extend([4,5,6])\n",
        "print(my_list)\n",
        "\n",
        "#insert\n",
        "my_list=[1,2,3]\n",
        "my_list.insert(1,12)\n",
        "print(my_list)\n",
        "\n",
        "#remove\n",
        "my_list=[1,2,3,2]\n",
        "my_list.remove(2)\n",
        "print(my_list)\n",
        "\n",
        "#pop using index\n",
        "my_list=[1,2,3,2]\n",
        "my_list.pop(2)\n",
        "print(my_list)\n",
        "\n",
        "#find index\n",
        "my_list=[1,2,3,2]\n",
        "s=my_list.index(2)\n",
        "print(s)\n",
        "\n",
        "#count\n",
        "my_list=[1,2,3,2,3,4,3,3]\n",
        "count=my_list.count(3)\n",
        "print(count)\n",
        "\n",
        "#sort\n",
        "#ascending order\n",
        "my_list=[41,12,63,32]\n",
        "my_list.sort()\n",
        "print(my_list)\n",
        "\n",
        "#descending-order\n",
        "my_list=[41,12,63,32]\n",
        "s_desc=sorted(my_list,reverse=True)\n",
        "print(s_desc)\n",
        "\n",
        "#reverse\n",
        "my_list=[41,12,63,32]\n",
        "my_list.reverse()\n",
        "print(my_list)\n",
        "\n",
        "#clear\n",
        "my_list=[41,12,63,32]\n",
        "my_list.clear()\n",
        "print(my_list)\n"
      ],
      "metadata": {
        "id": "PbKXWt79Pna9",
        "colab": {
          "base_uri": "https://localhost:8080/"
        },
        "outputId": "eccdfa42-9320-41bf-96a2-93e5024ad924"
      },
      "execution_count": null,
      "outputs": [
        {
          "output_type": "stream",
          "name": "stdout",
          "text": [
            "[1, 2, 3, 4]\n",
            "[1, 2, 3, 4, 5, 6]\n",
            "[1, 12, 2, 3]\n",
            "[1, 3, 2]\n",
            "[1, 2, 2]\n",
            "1\n",
            "4\n",
            "[12, 32, 41, 63]\n",
            "[63, 41, 32, 12]\n",
            "[32, 63, 12, 41]\n",
            "[]\n"
          ]
        }
      ]
    },
    {
      "cell_type": "code",
      "source": [
        "#tuple inbuilt methods\n",
        "my_tuple=(\"apple\",\"banana\",\"orange\")\n",
        "\n",
        "#index\n",
        "t=my_tuple.index(\"banana\")\n",
        "print(t)\n",
        "\n",
        "#count\n",
        "my_tuple=(\"apple\",\"banana\",\"orange\",\"apple\",\"apple\",\"banana\")\n",
        "t1=my_tuple.count(\"apple\")\n",
        "print(t1)"
      ],
      "metadata": {
        "colab": {
          "base_uri": "https://localhost:8080/"
        },
        "id": "kfxTt5axeLiC",
        "outputId": "a319688a-a6e4-476e-8d07-ccad9e2cfb3d"
      },
      "execution_count": null,
      "outputs": [
        {
          "output_type": "stream",
          "name": "stdout",
          "text": [
            "1\n",
            "3\n"
          ]
        }
      ]
    },
    {
      "cell_type": "code",
      "source": [
        "#python progrms for practise\n",
        "#1.fibanocii series up to 10 terms\n",
        "limit=int(input(\"Enter the limit:\"))\n",
        "n1=0\n",
        "n2=1\n",
        "for i in range(limit):\n",
        "  print(n1)\n",
        "  result=n1+n2\n",
        "  n1=n2\n",
        "  n2=result\n",
        "\n"
      ],
      "metadata": {
        "id": "5PasYeVaY8To",
        "colab": {
          "base_uri": "https://localhost:8080/"
        },
        "outputId": "278f632d-fbae-4ce6-b9b4-6766c93bf251"
      },
      "execution_count": null,
      "outputs": [
        {
          "output_type": "stream",
          "name": "stdout",
          "text": [
            "Enter the limit:10\n",
            "0\n",
            "1\n",
            "1\n",
            "2\n",
            "3\n",
            "5\n",
            "8\n",
            "13\n",
            "21\n",
            "34\n"
          ]
        }
      ]
    },
    {
      "cell_type": "code",
      "source": [
        "#set inbuilt functions\n",
        "myset={1,2,3,4,5}\n",
        "#add\n",
        "myset.add(6)\n",
        "print(myset)\n",
        "\n",
        "#update\n",
        "myset.update([7,-4])\n",
        "print(myset)\n",
        "myset={1,2,3,4,5}\n",
        "\n",
        "#remove & discard\n",
        "myset.remove(3)\n",
        "print(myset)\n",
        "myset.discard(5)\n",
        "print(myset)\n",
        "\n",
        "#pop and clear\n",
        "myset.pop()\n",
        "print(myset)\n",
        "myset.clear()\n",
        "print(myset)\n",
        "\n",
        "#union,intersection and difference\n",
        "set1={1,2,3}\n",
        "set2={3,4,5}\n",
        "union_set=set1.union(set2)\n",
        "print(union_set)\n",
        "inter_set=set1.intersection(set2)\n",
        "print(inter_set)\n",
        "diff_set=set1.difference(set2)\n",
        "print(diff_set)"
      ],
      "metadata": {
        "colab": {
          "base_uri": "https://localhost:8080/"
        },
        "id": "lK_r4TU989um",
        "outputId": "bf0671a9-9447-4beb-fe32-292834e2c3d4"
      },
      "execution_count": null,
      "outputs": [
        {
          "output_type": "stream",
          "name": "stdout",
          "text": [
            "{1, 2, 3, 4, 5, 6}\n",
            "{1, 2, 3, 4, 5, 6, 7, -4}\n",
            "{1, 2, 4, 5}\n",
            "{1, 2, 4}\n",
            "{2, 4}\n",
            "set()\n",
            "{1, 2, 3, 4, 5}\n",
            "{3}\n",
            "{1, 2}\n"
          ]
        }
      ]
    },
    {
      "cell_type": "code",
      "source": [
        "#dict inbuilt methods\n",
        "mydict={1:1,2:4,3:9,4:16}\n",
        "print(mydict)\n",
        "print(mydict[3])\n",
        "mydict[3]=90\n",
        "print(mydict)\n",
        "#add\n",
        "mydict[5]=25\n",
        "print(mydict)\n",
        "#deleting\n",
        "del mydict[3]\n",
        "print(mydict)\n",
        "#keys & values\n",
        "k=mydict.keys()\n",
        "v=mydict.values()\n",
        "print(k)\n",
        "print(v)\n",
        "i=mydict.items()\n",
        "print(i)\n"
      ],
      "metadata": {
        "colab": {
          "base_uri": "https://localhost:8080/"
        },
        "id": "feL7sfMiBxr5",
        "outputId": "96608b8f-ec66-4a45-e82a-f2e46ad35719"
      },
      "execution_count": null,
      "outputs": [
        {
          "output_type": "stream",
          "name": "stdout",
          "text": [
            "{1: 1, 2: 4, 3: 9, 4: 16}\n",
            "9\n",
            "{1: 1, 2: 4, 3: 90, 4: 16}\n",
            "{1: 1, 2: 4, 3: 90, 4: 16, 5: 25}\n",
            "{1: 1, 2: 4, 4: 16, 5: 25}\n",
            "dict_keys([1, 2, 4, 5])\n",
            "dict_values([1, 4, 16, 25])\n",
            "dict_items([(1, 1), (2, 4), (4, 16), (5, 25)])\n"
          ]
        }
      ]
    },
    {
      "cell_type": "code",
      "source": [
        "#1. write a python program to output welcome to python\n",
        "s=\"welcome to python\"\n",
        "print(s)\n"
      ],
      "metadata": {
        "colab": {
          "base_uri": "https://localhost:8080/"
        },
        "id": "1bFVLRq1ygHU",
        "outputId": "d47f3888-e056-4d5e-de34-04f4156e2e5d"
      },
      "execution_count": null,
      "outputs": [
        {
          "output_type": "stream",
          "name": "stdout",
          "text": [
            "welcome to python\n"
          ]
        }
      ]
    },
    {
      "cell_type": "code",
      "source": [
        "#2. write a python program to declare multiple variables in a single line\n",
        "a,b=20,40\n",
        "print(\"value of a:\",a)\n",
        "print(\"value of b:\",b)"
      ],
      "metadata": {
        "colab": {
          "base_uri": "https://localhost:8080/"
        },
        "id": "7gLYfE--3XFT",
        "outputId": "15c5d0b5-ef7d-446f-c2e8-7952a950d9dd"
      },
      "execution_count": null,
      "outputs": [
        {
          "output_type": "stream",
          "name": "stdout",
          "text": [
            "value of a: 20\n",
            "value of b: 40\n"
          ]
        }
      ]
    },
    {
      "cell_type": "code",
      "source": [
        "#3. write a python program with legal and illegal variables\n",
        "#legal\n",
        "myvar = \"Arya\"\n",
        "my_var = \"M\"\n",
        "_my_var = \"Nair\"\n",
        "myVar = \"25\"\n",
        "MYVAR = \"Adoor\"\n",
        "myvar5 = \"MCA\"\n",
        "print(myvar,my_var,_my_var,myVar,MYVAR,myvar5)\n",
        "#illegal\n",
        "'''5myvar = \"Python\"\n",
        "my-var = \"Hello\"\n",
        "my var = \"Hai\"\n",
        "print(5myvar,my-var, my var)'''"
      ],
      "metadata": {
        "colab": {
          "base_uri": "https://localhost:8080/",
          "height": 55
        },
        "id": "vdwqzNj53j_D",
        "outputId": "1ca03074-d1dd-49a1-db05-8ac803b1cdd1"
      },
      "execution_count": null,
      "outputs": [
        {
          "output_type": "stream",
          "name": "stdout",
          "text": [
            "Arya M Nair 25 Adoor MCA\n"
          ]
        },
        {
          "output_type": "execute_result",
          "data": {
            "text/plain": [
              "'5myvar = \"Python\"\\nmy-var = \"Hello\"\\nmy var = \"Hai\"\\nprint(5myvar,my-var, my var)'"
            ],
            "application/vnd.google.colaboratory.intrinsic+json": {
              "type": "string"
            }
          },
          "metadata": {},
          "execution_count": 5
        }
      ]
    },
    {
      "cell_type": "code",
      "source": [
        "#4. write a python program to combine two variables\n",
        "str1=\"Hello\"\n",
        "str2=\"Arya\"\n",
        "str3=str1+str2\n",
        "print(str3)\n",
        "#5. write a program to get the data type of an object\n",
        "a=10\n",
        "print(type(a))\n",
        "s=\"welcome\"\n",
        "print(type(s))"
      ],
      "metadata": {
        "colab": {
          "base_uri": "https://localhost:8080/"
        },
        "id": "OooGFH2h4e3P",
        "outputId": "bc3dd5ed-8500-4a35-c517-9b79bbabc820"
      },
      "execution_count": null,
      "outputs": [
        {
          "output_type": "stream",
          "name": "stdout",
          "text": [
            "HelloArya\n",
            "<class 'int'>\n",
            "<class 'str'>\n"
          ]
        }
      ]
    },
    {
      "cell_type": "code",
      "source": [
        "#6. write a program to input multiline strings\n",
        "lines =int(input(\"No of lines\"))\n",
        "lines1 = \"\"\n",
        "for i in range(lines):\n",
        "    lines1+=input()+\"\\n\"\n",
        "\n",
        "print(lines1)\n"
      ],
      "metadata": {
        "colab": {
          "base_uri": "https://localhost:8080/"
        },
        "id": "oX_Bg88OkPpf",
        "outputId": "b5b2cc6d-a086-4e12-f693-e6f5e1e6d596"
      },
      "execution_count": null,
      "outputs": [
        {
          "output_type": "stream",
          "name": "stdout",
          "text": [
            "hai arya\n",
            "hello arya\n",
            "welcome\n",
            "nice to meet you\n",
            "python programming\n",
            "oneteam solutions\n",
            "hai arya\n",
            "hello arya\n",
            "welcome\n",
            "nice to meet you\n",
            "python programming\n",
            "oneteam solutions\n",
            "\n"
          ]
        }
      ]
    },
    {
      "cell_type": "code",
      "source": [
        "\n",
        "#7. write a program to convert one data type into other\n",
        "a=10\n",
        "print(type(a))\n",
        "s=str(a)\n",
        "print(type(s))\n",
        "#8. .write a program to input a string\n",
        "str1=str(input(\"Enter the word:\"))\n",
        "print(str1)"
      ],
      "metadata": {
        "colab": {
          "base_uri": "https://localhost:8080/"
        },
        "id": "7Vake2t14q14",
        "outputId": "ccb65017-308c-4ae8-b43a-f7265ac8928e"
      },
      "execution_count": null,
      "outputs": [
        {
          "output_type": "stream",
          "name": "stdout",
          "text": [
            "<class 'int'>\n",
            "<class 'str'>\n",
            "Enter the word:hello arya\n",
            "hello arya\n"
          ]
        }
      ]
    },
    {
      "cell_type": "code",
      "source": [
        "#9. str2=''communication\" then find str2[0] ,str2[1] ,str2[-1] ,str2[-4],str2[2:12:3],str2[3:9:2],Str2[::3],str2[::2],Str2[::-2],str2[::-1]'''\n",
        "\n",
        "str2=\"communication\"\n",
        "print(str2[0])\n",
        "print(str2[1])\n",
        "print(str2[-1])\n",
        "print(str2[-4])\n",
        "print(str2[2:12:3])\n",
        "print(str2[3:9:2])\n",
        "print(str2[::3])\n",
        "print(str2[::2])\n",
        "print(str2[::-2])\n",
        "print(str2[::-1])"
      ],
      "metadata": {
        "colab": {
          "base_uri": "https://localhost:8080/"
        },
        "id": "0tRMi3Qu48hq",
        "outputId": "8c62ef26-7a1d-4f59-9052-57d4e183a68a"
      },
      "execution_count": null,
      "outputs": [
        {
          "output_type": "stream",
          "name": "stdout",
          "text": [
            "c\n",
            "o\n",
            "n\n",
            "t\n",
            "mnao\n",
            "mnc\n",
            "cmitn\n",
            "cmuiain\n",
            "niaiumc\n",
            "noitacinummoc\n"
          ]
        }
      ]
    },
    {
      "cell_type": "code",
      "source": [
        "#10.write a program to generate random numbers\n",
        "import random\n",
        "print(random.randint(1,10))"
      ],
      "metadata": {
        "colab": {
          "base_uri": "https://localhost:8080/"
        },
        "id": "XXrLHZsJLYyN",
        "outputId": "4451b0dd-02f3-4670-e5e5-f513ef8273ef"
      },
      "execution_count": null,
      "outputs": [
        {
          "output_type": "stream",
          "name": "stdout",
          "text": [
            "4\n"
          ]
        }
      ]
    },
    {
      "cell_type": "code",
      "source": [
        "#11.write a python pgm to use isalnum method\n",
        "str=input(\"Enter the string:\")\n",
        "if(str.isalnum()):\n",
        "  print(\"The string contains only alphaneumeric characters\")\n",
        "else:\n",
        "  print(\"The string contains no alphaneumeric characters\")"
      ],
      "metadata": {
        "colab": {
          "base_uri": "https://localhost:8080/"
        },
        "id": "6-pBiPp7LV2t",
        "outputId": "477a8e6e-77df-49f1-925b-b4908494aa2c"
      },
      "execution_count": null,
      "outputs": [
        {
          "output_type": "stream",
          "name": "stdout",
          "text": [
            "Enter the string:hai89\n",
            "string contains only alphaneumeric characters\n"
          ]
        }
      ]
    },
    {
      "cell_type": "code",
      "source": [
        "#12. convert a string to a lower\n",
        "str1=\"WELCOME\"\n",
        "print(str1.lower())\n",
        "\n",
        "#13. Write a python program to use capitalize method\n",
        "str2=\"welocme arya\"\n",
        "print(str2.capitalize())\n",
        "\n",
        "#14. remove white spaces from the begging of a string\n",
        "word=\"  hai arya\"\n",
        "print(word.lsstrip())\n",
        "\n"
      ],
      "metadata": {
        "colab": {
          "base_uri": "https://localhost:8080/"
        },
        "id": "spLoMlvP5c3Q",
        "outputId": "2762b0a2-1772-4c93-e6b8-4d628aa6a192"
      },
      "execution_count": null,
      "outputs": [
        {
          "output_type": "stream",
          "name": "stdout",
          "text": [
            "welcome\n",
            "Welocme arya\n",
            "hai arya\n"
          ]
        }
      ]
    },
    {
      "cell_type": "code",
      "source": [
        "#15.Write a python program to use ends with the method\n",
        "word=\"welocme to python\"\n",
        "res=word.endswith(\"python\")\n",
        "print(res)\n",
        "\n",
        "#16.write a program to check whether a certain character or phrase is present in a string or not\n",
        "str=\"The life is so beautiful, best things in life are free\"\n",
        "print(\"life\" in str)"
      ],
      "metadata": {
        "colab": {
          "base_uri": "https://localhost:8080/"
        },
        "id": "sGDUbtoQQJII",
        "outputId": "f01af96a-aabc-4bd9-f764-84cd6c1f541f"
      },
      "execution_count": null,
      "outputs": [
        {
          "output_type": "stream",
          "name": "stdout",
          "text": [
            "True\n",
            "True\n"
          ]
        }
      ]
    },
    {
      "cell_type": "code",
      "source": [
        "#17. write a program to find the length of a string\n",
        "str1=\"welcome\"\n",
        "print(len(str1))\n",
        "\n",
        "#18. write a program to split the strings into substrings\n",
        "str2=\"apple,banana,orange\"\n",
        "print(str2.split(\",\"))\n",
        "\n",
        "#19. Write a python program to use the case fold method\n",
        "str=\"WELCOME\"\n",
        "print(str.casefold()) #lowercase copy of str"
      ],
      "metadata": {
        "colab": {
          "base_uri": "https://localhost:8080/"
        },
        "id": "gvruJOsWiveu",
        "outputId": "2d1544dc-feb1-498f-9f1f-73d0ac6f6ac5"
      },
      "execution_count": null,
      "outputs": [
        {
          "output_type": "stream",
          "name": "stdout",
          "text": [
            "7\n",
            "['apple', 'banana', 'orange']\n",
            "welcome\n"
          ]
        }
      ]
    },
    {
      "cell_type": "code",
      "source": [
        "\n",
        "#20. write a program to replace a string with other\n",
        "str3=\"hello arya\"\n",
        "str3.replace(\"hello\",\"hai\")\n",
        "print(str3)\n",
        "#20.Get the first character of the string txt. txt = \"Welcome to python\"\n",
        "txt = \"Welcome to python\"\n",
        "print(txt[0])\n",
        "#21. Get the characters from index 2 to index 4\n",
        "txt = \"Welcome to python\"\n",
        "print(txt[2:5])"
      ],
      "metadata": {
        "colab": {
          "base_uri": "https://localhost:8080/"
        },
        "id": "5dptNz2n7TC5",
        "outputId": "568c57c8-10ec-4a52-f9e7-f341e788c52b"
      },
      "execution_count": null,
      "outputs": [
        {
          "output_type": "stream",
          "name": "stdout",
          "text": [
            "hello arya\n",
            "W\n",
            "lco\n"
          ]
        }
      ]
    },
    {
      "cell_type": "code",
      "source": [
        "#22.Return the string without any whitespace at the beginning of the end. txt = \" Welcome to python \"\n",
        "txt = \" Welcome to python \"\n",
        "print(txt.strip())\n",
        "\n",
        "#23&24. Using the type() function assign the type of the variable to answer_1, then print it.\n",
        "men_stepped_on_the_moon=12\n",
        "answer_1=type(men_stepped_on_the_moon)\n",
        "print(answer_1)\n",
        "\n",
        "#25 &26 &27.str=\"It's always darkest before dawn.\" ,Replace the (.) with (!) , Reassign str so that, all its characters are lowercase.\n",
        "str=\"It's always darkest before dawn.\"\n",
        "print(str.replace(\".\",\"!\"))\n",
        "str=str.lower()\n",
        "print(str)\n"
      ],
      "metadata": {
        "colab": {
          "base_uri": "https://localhost:8080/"
        },
        "id": "kof36gPb9xt9",
        "outputId": "2b4d9668-606c-4935-970f-ccd777b24f69"
      },
      "execution_count": null,
      "outputs": [
        {
          "output_type": "stream",
          "name": "stdout",
          "text": [
            "Welcome to python\n",
            "<class 'int'>\n",
            "It's always darkest before dawn!\n",
            "it's always darkest before dawn.\n"
          ]
        }
      ]
    },
    {
      "cell_type": "code",
      "source": [
        "#28.str=\"EVERY Strike Brings Me Closer to the Next Home run.\"\n",
        "#29.Make the string so that everything is properly and the first letter is capital str=\" there are no traffic JamS Along with The extra \"\n",
        "str=\" there are no traffic JamS Along with The extra\"\n",
        "print(str.title())\n"
      ],
      "metadata": {
        "id": "Ojzbr4ipDYN9",
        "colab": {
          "base_uri": "https://localhost:8080/"
        },
        "outputId": "d78304ee-9b77-48d8-93ed-c2d9272f4b34"
      },
      "execution_count": null,
      "outputs": [
        {
          "output_type": "stream",
          "name": "stdout",
          "text": [
            " There Are No Traffic Jams Along With The Extra\n"
          ]
        }
      ]
    },
    {
      "cell_type": "code",
      "source": [
        "#30. Print the types of two given variables with the print function. v_1=\"1\" v_2=1\n",
        "v_1=\"1\"\n",
        "v_2=1\n",
        "print(type(v_1))\n",
        "print(type(v_2))\n",
        "\n",
        "#31. What is the length of the given string? str=\"1.975.000\"\n",
        "str=\"1.975.000\"\n",
        "print(len(str))\n",
        "\n",
        "# 32.write a program To check whether a character is a numeric character or not,\n",
        "w='a'\n",
        "\n",
        "print(w.isdigit())\n",
        "\n",
        "\n",
        "\n",
        "\n",
        "\n"
      ],
      "metadata": {
        "colab": {
          "base_uri": "https://localhost:8080/"
        },
        "id": "6_fcuFdF-LSy",
        "outputId": "78c3aaf5-a794-4575-eab7-1205b9e5aaa9"
      },
      "execution_count": null,
      "outputs": [
        {
          "output_type": "stream",
          "name": "stdout",
          "text": [
            "<class 'str'>\n",
            "<class 'int'>\n",
            "9\n",
            "False\n",
            "False\n",
            "True\n",
            "False\n",
            "True\n",
            "False\n",
            "True\n"
          ]
        }
      ]
    },
    {
      "cell_type": "code",
      "source": [
        "#33 Perform comparison operations x=5,y=6\n",
        "x=5\n",
        "y=6\n",
        "print(x > y)\n",
        "print(x < y)\n",
        "print(x == y)\n",
        "print(x != y)\n",
        "print(x >= y)\n",
        "print(x <= y)"
      ],
      "metadata": {
        "colab": {
          "base_uri": "https://localhost:8080/"
        },
        "id": "PRWEhYyuF2q2",
        "outputId": "f473de41-09af-47c5-d6bc-b345a87ac7b0"
      },
      "execution_count": null,
      "outputs": [
        {
          "output_type": "stream",
          "name": "stdout",
          "text": [
            "False\n",
            "True\n",
            "False\n",
            "True\n",
            "False\n",
            "True\n"
          ]
        }
      ]
    },
    {
      "cell_type": "code",
      "source": [
        "#34. write a python program using the not in operator\n",
        "\n",
        "str=\"Hello python programming\"\n",
        "print(\"hai\" not in str)"
      ],
      "metadata": {
        "colab": {
          "base_uri": "https://localhost:8080/"
        },
        "id": "Fz6TtMAWF96P",
        "outputId": "8d9d445d-f527-40fb-a142-72dc74524b9d"
      },
      "execution_count": null,
      "outputs": [
        {
          "output_type": "stream",
          "name": "stdout",
          "text": [
            "True\n"
          ]
        }
      ]
    },
    {
      "cell_type": "code",
      "source": [
        "#35.write a python program using is the operator\n",
        "#36. write a python program using is not operator\n",
        "str1=\"Hello\"\n",
        "str2=\"Hello\"\n",
        "s=5\n",
        "s1=6\n",
        "print(str1 is str2)\n",
        "print(s is not s1)"
      ],
      "metadata": {
        "colab": {
          "base_uri": "https://localhost:8080/"
        },
        "id": "NbpV8LlDGwhQ",
        "outputId": "b257277f-a8a9-43c2-c8bf-826e73b3d6f7"
      },
      "execution_count": null,
      "outputs": [
        {
          "output_type": "stream",
          "name": "stdout",
          "text": [
            "True\n",
            "True\n"
          ]
        }
      ]
    },
    {
      "cell_type": "code",
      "source": [
        "#37. X=10 Y=3 Print X+y,X -y,X*y ,X//y ,X**y\n",
        "x=10\n",
        "y=3\n",
        "print(x+y)\n",
        "print(x-y)\n",
        "print(x*y)\n",
        "print(x//y)\n",
        "print(x**y)\n"
      ],
      "metadata": {
        "colab": {
          "base_uri": "https://localhost:8080/"
        },
        "id": "C2mYNtT1HPbH",
        "outputId": "898903b4-c831-4b77-9cb1-997e51150f0d"
      },
      "execution_count": null,
      "outputs": [
        {
          "output_type": "stream",
          "name": "stdout",
          "text": [
            "13\n",
            "7\n",
            "30\n",
            "3\n",
            "1000\n"
          ]
        }
      ]
    },
    {
      "cell_type": "code",
      "source": [
        "#38.Print 1-500 using while loops\n",
        "i=1\n",
        "while(i<=500):\n",
        "  print(i)\n",
        "  i+=1\n"
      ],
      "metadata": {
        "colab": {
          "base_uri": "https://localhost:8080/"
        },
        "id": "jW0__eEMH0nJ",
        "outputId": "b83312a6-d25a-4d2a-e8f1-1486bc5f511c"
      },
      "execution_count": null,
      "outputs": [
        {
          "output_type": "stream",
          "name": "stdout",
          "text": [
            "1\n",
            "2\n",
            "3\n",
            "4\n",
            "5\n",
            "6\n",
            "7\n",
            "8\n",
            "9\n",
            "10\n",
            "11\n",
            "12\n",
            "13\n",
            "14\n",
            "15\n",
            "16\n",
            "17\n",
            "18\n",
            "19\n",
            "20\n",
            "21\n",
            "22\n",
            "23\n",
            "24\n",
            "25\n",
            "26\n",
            "27\n",
            "28\n",
            "29\n",
            "30\n",
            "31\n",
            "32\n",
            "33\n",
            "34\n",
            "35\n",
            "36\n",
            "37\n",
            "38\n",
            "39\n",
            "40\n",
            "41\n",
            "42\n",
            "43\n",
            "44\n",
            "45\n",
            "46\n",
            "47\n",
            "48\n",
            "49\n",
            "50\n",
            "51\n",
            "52\n",
            "53\n",
            "54\n",
            "55\n",
            "56\n",
            "57\n",
            "58\n",
            "59\n",
            "60\n",
            "61\n",
            "62\n",
            "63\n",
            "64\n",
            "65\n",
            "66\n",
            "67\n",
            "68\n",
            "69\n",
            "70\n",
            "71\n",
            "72\n",
            "73\n",
            "74\n",
            "75\n",
            "76\n",
            "77\n",
            "78\n",
            "79\n",
            "80\n",
            "81\n",
            "82\n",
            "83\n",
            "84\n",
            "85\n",
            "86\n",
            "87\n",
            "88\n",
            "89\n",
            "90\n",
            "91\n",
            "92\n",
            "93\n",
            "94\n",
            "95\n",
            "96\n",
            "97\n",
            "98\n",
            "99\n",
            "100\n",
            "101\n",
            "102\n",
            "103\n",
            "104\n",
            "105\n",
            "106\n",
            "107\n",
            "108\n",
            "109\n",
            "110\n",
            "111\n",
            "112\n",
            "113\n",
            "114\n",
            "115\n",
            "116\n",
            "117\n",
            "118\n",
            "119\n",
            "120\n",
            "121\n",
            "122\n",
            "123\n",
            "124\n",
            "125\n",
            "126\n",
            "127\n",
            "128\n",
            "129\n",
            "130\n",
            "131\n",
            "132\n",
            "133\n",
            "134\n",
            "135\n",
            "136\n",
            "137\n",
            "138\n",
            "139\n",
            "140\n",
            "141\n",
            "142\n",
            "143\n",
            "144\n",
            "145\n",
            "146\n",
            "147\n",
            "148\n",
            "149\n",
            "150\n",
            "151\n",
            "152\n",
            "153\n",
            "154\n",
            "155\n",
            "156\n",
            "157\n",
            "158\n",
            "159\n",
            "160\n",
            "161\n",
            "162\n",
            "163\n",
            "164\n",
            "165\n",
            "166\n",
            "167\n",
            "168\n",
            "169\n",
            "170\n",
            "171\n",
            "172\n",
            "173\n",
            "174\n",
            "175\n",
            "176\n",
            "177\n",
            "178\n",
            "179\n",
            "180\n",
            "181\n",
            "182\n",
            "183\n",
            "184\n",
            "185\n",
            "186\n",
            "187\n",
            "188\n",
            "189\n",
            "190\n",
            "191\n",
            "192\n",
            "193\n",
            "194\n",
            "195\n",
            "196\n",
            "197\n",
            "198\n",
            "199\n",
            "200\n",
            "201\n",
            "202\n",
            "203\n",
            "204\n",
            "205\n",
            "206\n",
            "207\n",
            "208\n",
            "209\n",
            "210\n",
            "211\n",
            "212\n",
            "213\n",
            "214\n",
            "215\n",
            "216\n",
            "217\n",
            "218\n",
            "219\n",
            "220\n",
            "221\n",
            "222\n",
            "223\n",
            "224\n",
            "225\n",
            "226\n",
            "227\n",
            "228\n",
            "229\n",
            "230\n",
            "231\n",
            "232\n",
            "233\n",
            "234\n",
            "235\n",
            "236\n",
            "237\n",
            "238\n",
            "239\n",
            "240\n",
            "241\n",
            "242\n",
            "243\n",
            "244\n",
            "245\n",
            "246\n",
            "247\n",
            "248\n",
            "249\n",
            "250\n",
            "251\n",
            "252\n",
            "253\n",
            "254\n",
            "255\n",
            "256\n",
            "257\n",
            "258\n",
            "259\n",
            "260\n",
            "261\n",
            "262\n",
            "263\n",
            "264\n",
            "265\n",
            "266\n",
            "267\n",
            "268\n",
            "269\n",
            "270\n",
            "271\n",
            "272\n",
            "273\n",
            "274\n",
            "275\n",
            "276\n",
            "277\n",
            "278\n",
            "279\n",
            "280\n",
            "281\n",
            "282\n",
            "283\n",
            "284\n",
            "285\n",
            "286\n",
            "287\n",
            "288\n",
            "289\n",
            "290\n",
            "291\n",
            "292\n",
            "293\n",
            "294\n",
            "295\n",
            "296\n",
            "297\n",
            "298\n",
            "299\n",
            "300\n",
            "301\n",
            "302\n",
            "303\n",
            "304\n",
            "305\n",
            "306\n",
            "307\n",
            "308\n",
            "309\n",
            "310\n",
            "311\n",
            "312\n",
            "313\n",
            "314\n",
            "315\n",
            "316\n",
            "317\n",
            "318\n",
            "319\n",
            "320\n",
            "321\n",
            "322\n",
            "323\n",
            "324\n",
            "325\n",
            "326\n",
            "327\n",
            "328\n",
            "329\n",
            "330\n",
            "331\n",
            "332\n",
            "333\n",
            "334\n",
            "335\n",
            "336\n",
            "337\n",
            "338\n",
            "339\n",
            "340\n",
            "341\n",
            "342\n",
            "343\n",
            "344\n",
            "345\n",
            "346\n",
            "347\n",
            "348\n",
            "349\n",
            "350\n",
            "351\n",
            "352\n",
            "353\n",
            "354\n",
            "355\n",
            "356\n",
            "357\n",
            "358\n",
            "359\n",
            "360\n",
            "361\n",
            "362\n",
            "363\n",
            "364\n",
            "365\n",
            "366\n",
            "367\n",
            "368\n",
            "369\n",
            "370\n",
            "371\n",
            "372\n",
            "373\n",
            "374\n",
            "375\n",
            "376\n",
            "377\n",
            "378\n",
            "379\n",
            "380\n",
            "381\n",
            "382\n",
            "383\n",
            "384\n",
            "385\n",
            "386\n",
            "387\n",
            "388\n",
            "389\n",
            "390\n",
            "391\n",
            "392\n",
            "393\n",
            "394\n",
            "395\n",
            "396\n",
            "397\n",
            "398\n",
            "399\n",
            "400\n",
            "401\n",
            "402\n",
            "403\n",
            "404\n",
            "405\n",
            "406\n",
            "407\n",
            "408\n",
            "409\n",
            "410\n",
            "411\n",
            "412\n",
            "413\n",
            "414\n",
            "415\n",
            "416\n",
            "417\n",
            "418\n",
            "419\n",
            "420\n",
            "421\n",
            "422\n",
            "423\n",
            "424\n",
            "425\n",
            "426\n",
            "427\n",
            "428\n",
            "429\n",
            "430\n",
            "431\n",
            "432\n",
            "433\n",
            "434\n",
            "435\n",
            "436\n",
            "437\n",
            "438\n",
            "439\n",
            "440\n",
            "441\n",
            "442\n",
            "443\n",
            "444\n",
            "445\n",
            "446\n",
            "447\n",
            "448\n",
            "449\n",
            "450\n",
            "451\n",
            "452\n",
            "453\n",
            "454\n",
            "455\n",
            "456\n",
            "457\n",
            "458\n",
            "459\n",
            "460\n",
            "461\n",
            "462\n",
            "463\n",
            "464\n",
            "465\n",
            "466\n",
            "467\n",
            "468\n",
            "469\n",
            "470\n",
            "471\n",
            "472\n",
            "473\n",
            "474\n",
            "475\n",
            "476\n",
            "477\n",
            "478\n",
            "479\n",
            "480\n",
            "481\n",
            "482\n",
            "483\n",
            "484\n",
            "485\n",
            "486\n",
            "487\n",
            "488\n",
            "489\n",
            "490\n",
            "491\n",
            "492\n",
            "493\n",
            "494\n",
            "495\n",
            "496\n",
            "497\n",
            "498\n",
            "499\n",
            "500\n"
          ]
        }
      ]
    },
    {
      "cell_type": "code",
      "source": [
        "#39. Write a program using the if,elif, and else statement\n",
        "num1=int(input(\"Enter the number1: \"))\n",
        "num2=int(input(\"Enter the number2: \"))\n",
        "num3=int(input(\"Enter the number3: \"))\n",
        "if(num1>num2) and (num1>num3):\n",
        "  print(\"number1 is greater\")\n",
        "elif(num2>num1) and (num2>num1):\n",
        "  print(\"number2 is greater\")\n",
        "else:\n",
        "  print(\"number3 is greater\")\n"
      ],
      "metadata": {
        "colab": {
          "base_uri": "https://localhost:8080/"
        },
        "id": "mgDErr14IY9Z",
        "outputId": "b2e65579-0547-4c76-dbb5-2e85874a71d0"
      },
      "execution_count": null,
      "outputs": [
        {
          "output_type": "stream",
          "name": "stdout",
          "text": [
            "Enter the number1: 3\n",
            "Enter the number2: 2\n",
            "Enter the number3: 8\n",
            "number3 is greater\n"
          ]
        }
      ]
    },
    {
      "cell_type": "code",
      "source": [
        "#40. Use continue statement in while loops\n",
        "i=0\n",
        "while(i<=10):\n",
        "  i+=1\n",
        "  if(i==3):\n",
        "    continue\n",
        "  print(i)\n",
        "\n"
      ],
      "metadata": {
        "colab": {
          "base_uri": "https://localhost:8080/"
        },
        "id": "ZuMZbCimItyR",
        "outputId": "078d803b-3699-42ac-c861-b1e101709159"
      },
      "execution_count": null,
      "outputs": [
        {
          "output_type": "stream",
          "name": "stdout",
          "text": [
            "1\n",
            "2\n",
            "4\n",
            "5\n",
            "6\n",
            "7\n",
            "8\n",
            "9\n",
            "10\n",
            "11\n"
          ]
        }
      ]
    },
    {
      "cell_type": "code",
      "source": [
        "#41.Use break statement in while loops\n",
        "i=0\n",
        "while(i<=10):\n",
        "  print(i)\n",
        "  if(i==3):\n",
        "    break\n",
        "  i+=1"
      ],
      "metadata": {
        "colab": {
          "base_uri": "https://localhost:8080/"
        },
        "id": "Ne0--82ZJPGr",
        "outputId": "c21f71ac-d3c8-4820-d1fd-dd197bde4674"
      },
      "execution_count": null,
      "outputs": [
        {
          "output_type": "stream",
          "name": "stdout",
          "text": [
            "0\n",
            "1\n",
            "2\n",
            "3\n"
          ]
        }
      ]
    },
    {
      "cell_type": "code",
      "source": [
        "#42. create a list with itemsx=['apple','banana','cherry','grapes','kiwi','tomato','mango','orange','banana',True ,False,10,20,10.5]\n",
        "x=['apple','banana','cherry','grapes','kiwi','tomato','mango','orange','banana',True ,False,10,20,10.5]\n",
        "print(x[0])\n",
        "print(x[5])\n",
        "print(x[-1])\n",
        "print(x[-2])\n",
        "print(x[3:10])\n",
        "print(x[2:11])\n",
        "print(x[::9])\n",
        "print(x[4::])\n",
        "print(x[2:10:2])\n",
        "print(x[1:11:3])\n",
        "print(x[::3])\n",
        "print(x[::-2])\n",
        "print(x[::-1])\n"
      ],
      "metadata": {
        "colab": {
          "base_uri": "https://localhost:8080/"
        },
        "id": "3tmdUNHNJq5g",
        "outputId": "78e5ac6b-739b-478f-c82d-2b39ce32058e"
      },
      "execution_count": null,
      "outputs": [
        {
          "output_type": "stream",
          "name": "stdout",
          "text": [
            "apple\n",
            "tomato\n",
            "10.5\n",
            "20\n",
            "['grapes', 'kiwi', 'tomato', 'mango', 'orange', 'banana', True]\n",
            "['cherry', 'grapes', 'kiwi', 'tomato', 'mango', 'orange', 'banana', True, False]\n",
            "['apple', True]\n",
            "['kiwi', 'tomato', 'mango', 'orange', 'banana', True, False, 10, 20, 10.5]\n",
            "['cherry', 'kiwi', 'mango', 'banana']\n",
            "['banana', 'kiwi', 'orange', False]\n",
            "['apple', 'grapes', 'mango', True, 20]\n",
            "[10.5, 10, True, 'orange', 'tomato', 'grapes', 'banana']\n",
            "[10.5, 20, 10, False, True, 'banana', 'orange', 'mango', 'tomato', 'kiwi', 'grapes', 'cherry', 'banana', 'apple']\n"
          ]
        }
      ]
    },
    {
      "cell_type": "code",
      "source": [
        "#43. write a python program to create a new list\n",
        "limit=int(input(\"Enter the limit:\"))\n",
        "my_list=[]\n",
        "\n",
        "\n",
        "for i in range(limit):\n",
        "  numbers=int(input(\"Enter the numbers:\"))\n",
        "  my_list.append(numbers)\n",
        "\n",
        "print(my_list)"
      ],
      "metadata": {
        "colab": {
          "base_uri": "https://localhost:8080/"
        },
        "id": "qJRTVeQoKpX4",
        "outputId": "d26eac59-5268-4836-ebca-efff9b34a192"
      },
      "execution_count": null,
      "outputs": [
        {
          "output_type": "stream",
          "name": "stdout",
          "text": [
            "Enter the limit:3\n",
            "Enter the numbers:1\n",
            "Enter the numbers:2\n",
            "Enter the numbers:3\n",
            "[1, 2, 3]\n"
          ]
        }
      ]
    },
    {
      "cell_type": "code",
      "source": [
        "#44. .write a program to retrieve the first item from a list\n",
        "mylist=[2,5,7,9,6,4]\n",
        "print(mylist[0])\n",
        "\n",
        "#45. .write a program to determine the length of a list\n",
        "print(len(mylist))\n",
        "\n",
        "#46. .write a python program to change the first item in a list\n",
        "mylist=[2,5,7,9,6,4]\n",
        "print(mylist)\n",
        "mylist[0]=8\n",
        "print(mylist)"
      ],
      "metadata": {
        "colab": {
          "base_uri": "https://localhost:8080/"
        },
        "id": "RcKF-KTILpu2",
        "outputId": "0b6b86c3-b513-4bfa-9b6b-a43dc0102ed5"
      },
      "execution_count": null,
      "outputs": [
        {
          "output_type": "stream",
          "name": "stdout",
          "text": [
            "2\n",
            "6\n",
            "[2, 5, 7, 9, 6, 4]\n",
            "[8, 5, 7, 9, 6, 4]\n"
          ]
        }
      ]
    },
    {
      "cell_type": "code",
      "source": [
        "#47. write a python program using negative indexing\n",
        "mylist=[2,5,7,9,6,4]\n",
        "print(mylist[-1])\n",
        "print(mylist[-3])"
      ],
      "metadata": {
        "colab": {
          "base_uri": "https://localhost:8080/"
        },
        "id": "z0G9-MBHMrl4",
        "outputId": "2e063afa-a989-4164-e270-6afa870dbace"
      },
      "execution_count": null,
      "outputs": [
        {
          "output_type": "stream",
          "name": "stdout",
          "text": [
            "4\n",
            "9\n"
          ]
        }
      ]
    },
    {
      "cell_type": "code",
      "source": [
        "#48. write a program to add a new item to the end of a list\n",
        "mylist=[2,5,7,9,6,4]\n",
        "mylist.append(10)\n",
        "print(mylist)"
      ],
      "metadata": {
        "colab": {
          "base_uri": "https://localhost:8080/"
        },
        "id": "9beLn8NbNBCK",
        "outputId": "ef441bb8-bce7-490d-ae85-0de4a3f73ecb"
      },
      "execution_count": null,
      "outputs": [
        {
          "output_type": "stream",
          "name": "stdout",
          "text": [
            "[2, 5, 7, 9, 6, 4, 10]\n"
          ]
        }
      ]
    },
    {
      "cell_type": "code",
      "source": [
        "#49. create a list and display the list in reverse order\n",
        "list1=[3,5,7,9,11,13]\n",
        "list1.reverse()\n",
        "print(list1)"
      ],
      "metadata": {
        "colab": {
          "base_uri": "https://localhost:8080/"
        },
        "id": "9V6m0tOfNLe-",
        "outputId": "a2a23f68-dc21-4836-dbaa-fa5c91504c05"
      },
      "execution_count": null,
      "outputs": [
        {
          "output_type": "stream",
          "name": "stdout",
          "text": [
            "[13, 11, 9, 7, 5, 3]\n"
          ]
        }
      ]
    },
    {
      "cell_type": "code",
      "source": [
        "#50. write a program to find the maximum value in a list\n",
        "my_list=[65,78,23,34,89,45,56]\n",
        "\n",
        "i=0\n",
        "big_num=my_list[0]\n",
        "while(i<len(my_list)):\n",
        "  if my_list[i]>big_num:\n",
        "    big_num=my_list[i]\n",
        "  i+=1\n",
        "\n",
        "print(\"Biggest number:\",big_num)"
      ],
      "metadata": {
        "colab": {
          "base_uri": "https://localhost:8080/"
        },
        "id": "aVbbRf2MNfbX",
        "outputId": "fd172e16-6b0f-499d-e655-fcbbaf7c2116"
      },
      "execution_count": null,
      "outputs": [
        {
          "output_type": "stream",
          "name": "stdout",
          "text": [
            "Biggest number: 89\n"
          ]
        }
      ]
    },
    {
      "cell_type": "code",
      "source": [
        "#51. write a program to display the index of an element in a list\n",
        "my_list=[65,78,23,34,89,45,56]\n",
        "print(my_list)\n",
        "n=int(input(\"number for index:\"))\n",
        "s=my_list.index(n)\n",
        "print(\"Index of\",n,\"is\",s)"
      ],
      "metadata": {
        "colab": {
          "base_uri": "https://localhost:8080/"
        },
        "id": "4EoiMQQmN5kW",
        "outputId": "3b8b0d0b-ef7d-4cf2-a303-ce78114f176f"
      },
      "execution_count": null,
      "outputs": [
        {
          "output_type": "stream",
          "name": "stdout",
          "text": [
            "[65, 78, 23, 34, 89, 45, 56]\n",
            "number for index:89\n",
            "Index of 89 is 4\n"
          ]
        }
      ]
    },
    {
      "cell_type": "code",
      "source": [
        "#52. write a program to count the occurrence of an Element in a list\n",
        "limit=int(input(\"Enter the limit:\"))\n",
        "my_list=[]\n",
        "\n",
        "for i in range(limit):\n",
        "  numbers=int(input(\"Enter the numbers:\"))\n",
        "  my_list.append(numbers)\n",
        "\n",
        "num=int(input(\"Enter the number to search:\"))\n",
        "\n",
        "count=0\n",
        "\n",
        "for i in my_list:\n",
        "  if(i==num):\n",
        "    count+=1\n",
        "print(num,\"comes from\",count,\"times\")"
      ],
      "metadata": {
        "colab": {
          "base_uri": "https://localhost:8080/"
        },
        "id": "CDpK8uf2OrVr",
        "outputId": "1be55a47-9866-4eea-b46f-77ab0e8b91ed"
      },
      "execution_count": null,
      "outputs": [
        {
          "output_type": "stream",
          "name": "stdout",
          "text": [
            "Enter the limit:5\n",
            "Enter the numbers:3\n",
            "Enter the numbers:3\n",
            "Enter the numbers:3\n",
            "Enter the numbers:2\n",
            "Enter the numbers:6\n",
            "Enter the number to search:3\n",
            "Calculate the count\n",
            "3 comes from 3 times\n"
          ]
        }
      ]
    },
    {
      "cell_type": "code",
      "source": [
        "#53. create a nested list and display each item from the list\n",
        "mylist= [2,4,[6,8,]]\n",
        "print(mylist[0])\n",
        "print(mylist[1])\n",
        "print(mylist[2][0])\n",
        "print(mylist[2][1])\n",
        "\n",
        "for i in mylist:\n",
        "  print(i)"
      ],
      "metadata": {
        "colab": {
          "base_uri": "https://localhost:8080/"
        },
        "id": "JJQjoT4mPPkO",
        "outputId": "5dbc260b-cba4-4d2b-aa6a-209605a50642"
      },
      "execution_count": null,
      "outputs": [
        {
          "output_type": "stream",
          "name": "stdout",
          "text": [
            "2\n",
            "4\n",
            "6\n",
            "8\n",
            "2\n",
            "4\n",
            "[6, 8]\n"
          ]
        }
      ]
    },
    {
      "cell_type": "code",
      "source": [
        "#54.Based on a list of fruits, create a new list, containing only the fruits with the letter \"a\" in the name\n",
        "fruits = [\"apple\", \"banana\", \"cherry\", \"kiwi\", \"mango\"]\n",
        "new=[]\n",
        "for i in fruits:\n",
        "  if \"a\" in i:\n",
        "    new.append(i)\n",
        "print(new)\n"
      ],
      "metadata": {
        "colab": {
          "base_uri": "https://localhost:8080/"
        },
        "id": "K-qpO1pbT4bu",
        "outputId": "2d3af832-e625-405c-80d4-42b9704848c1"
      },
      "execution_count": null,
      "outputs": [
        {
          "output_type": "stream",
          "name": "stdout",
          "text": [
            "['apple', 'banana', 'mango']\n"
          ]
        }
      ]
    },
    {
      "cell_type": "code",
      "source": [
        "#55. fruits = [\"apple\", \"banana\", \"cherry\", \"kiwi\", \"mango\"] Based on a list of fruits, create a new list, Only accept items that are not \"kiwi\"\n",
        "fruits = [\"apple\", \"banana\", \"cherry\", \"kiwi\", \"mango\"]\n",
        "new=[]\n",
        "\n",
        "for i in fruits:\n",
        "  if(i !=\"kiwi\"):\n",
        "    new.append(i)\n",
        "print(new)"
      ],
      "metadata": {
        "colab": {
          "base_uri": "https://localhost:8080/"
        },
        "id": "NL7KKhwfWhz6",
        "outputId": "105a731a-0262-469d-efd5-0b0819c04b53"
      },
      "execution_count": null,
      "outputs": [
        {
          "output_type": "stream",
          "name": "stdout",
          "text": [
            "['apple', 'banana', 'cherry', 'mango']\n"
          ]
        }
      ]
    },
    {
      "cell_type": "code",
      "source": [
        "#56. fruits = [\"apple\", \"banana\", \"cherry\", \"kiwi\", \"mango\"] Based on a list of fruits, create a new list, Set the values in the new list to upper case\n",
        "fruits = [\"apple\", \"banana\", \"cherry\", \"kiwi\", \"mango\"]\n",
        "new=[]\n",
        "for i in fruits:\n",
        "  new.append(i.upper())\n",
        "print(new)"
      ],
      "metadata": {
        "colab": {
          "base_uri": "https://localhost:8080/"
        },
        "id": "EOvkNycDXIL5",
        "outputId": "24af0efa-fef5-4b35-bbc0-9de48a328d4b"
      },
      "execution_count": null,
      "outputs": [
        {
          "output_type": "stream",
          "name": "stdout",
          "text": [
            "['APPLE', 'BANANA', 'CHERRY', 'KIWI', 'MANGO']\n"
          ]
        }
      ]
    },
    {
      "cell_type": "code",
      "source": [
        "#57. create a list and iterate over the list\n",
        "mylist=[1,3,5,7,8]\n",
        "for i in mylist:\n",
        "  print(i)"
      ],
      "metadata": {
        "colab": {
          "base_uri": "https://localhost:8080/"
        },
        "id": "s0okadU7Yo2A",
        "outputId": "fd67001d-9076-404f-cdb0-b9a68659954b"
      },
      "execution_count": null,
      "outputs": [
        {
          "output_type": "stream",
          "name": "stdout",
          "text": [
            "1\n",
            "3\n",
            "5\n",
            "7\n",
            "8\n"
          ]
        }
      ]
    },
    {
      "cell_type": "code",
      "source": [
        "#58.write a program using for loop with a break statement\n",
        "for i in range(10):\n",
        "  print(i)\n",
        "  if(i==5):\n",
        "    break"
      ],
      "metadata": {
        "colab": {
          "base_uri": "https://localhost:8080/"
        },
        "id": "Wn0C_qVTZSok",
        "outputId": "16e51ac7-34b3-4314-e0e6-65c7cc8ac204"
      },
      "execution_count": null,
      "outputs": [
        {
          "output_type": "stream",
          "name": "stdout",
          "text": [
            "0\n",
            "1\n",
            "2\n",
            "3\n",
            "4\n",
            "5\n"
          ]
        }
      ]
    },
    {
      "cell_type": "code",
      "source": [
        "#59.write a program using for loop with a continue statement\n",
        "for i in range(10):\n",
        "  if(i==5):\n",
        "    continue\n",
        "  print(i)\n"
      ],
      "metadata": {
        "colab": {
          "base_uri": "https://localhost:8080/"
        },
        "id": "MQXAxK1yZhal",
        "outputId": "be8ad0ad-ee93-46df-98a4-9e72d535d4fd"
      },
      "execution_count": null,
      "outputs": [
        {
          "output_type": "stream",
          "name": "stdout",
          "text": [
            "0\n",
            "1\n",
            "2\n",
            "3\n",
            "4\n",
            "6\n",
            "7\n",
            "8\n",
            "9\n"
          ]
        }
      ]
    },
    {
      "cell_type": "code",
      "source": [
        "#60. write a program using range function with starting parameter and increment parameter\n",
        "for i in range(1,10,2):\n",
        "  print(i)"
      ],
      "metadata": {
        "colab": {
          "base_uri": "https://localhost:8080/"
        },
        "id": "yOS8kJEXZ1rH",
        "outputId": "e62d3ffd-00b2-4646-9b8e-7af7c952a15f"
      },
      "execution_count": null,
      "outputs": [
        {
          "output_type": "stream",
          "name": "stdout",
          "text": [
            "1\n",
            "3\n",
            "5\n",
            "7\n",
            "9\n"
          ]
        }
      ]
    },
    {
      "cell_type": "code",
      "source": [
        "#61. write a program to create a tuple\n",
        "tuple1=(1,2,\"apple\",\"kiwi\")\n",
        "for i in tuple1:\n",
        "  print(i)\n",
        "print(tuple1)\n",
        "\n",
        "#62. write a program to get the length of a tuple\n",
        "print(len(tuple1))\n",
        "\n",
        "#63. write a program to return the data type of a tuple\n",
        "print(type(tuple1))"
      ],
      "metadata": {
        "colab": {
          "base_uri": "https://localhost:8080/"
        },
        "id": "qQeRDG9CaP5P",
        "outputId": "6e5270dd-6ee2-4df4-ff81-414510442ff4"
      },
      "execution_count": null,
      "outputs": [
        {
          "output_type": "stream",
          "name": "stdout",
          "text": [
            "1\n",
            "2\n",
            "apple\n",
            "kiwi\n",
            "(1, 2, 'apple', 'kiwi')\n",
            "4\n",
            "<class 'tuple'>\n"
          ]
        }
      ]
    },
    {
      "cell_type": "code",
      "source": [
        "#64. create a tuple with items kiwi, orange, grapes, apple,\n",
        "mytup=(\"kiwi\",\"orange\",\"grapes\",\"apple\")\n",
        "print(mytup)\n",
        "\n",
        "#65. then add a new item (melon) to the first index\n",
        "list1=list(mytup)\n",
        "print(list1)\n",
        "list1[0]=\"melon\"\n",
        "mytup=tuple(list1)\n",
        "print(mytup)\n"
      ],
      "metadata": {
        "colab": {
          "base_uri": "https://localhost:8080/"
        },
        "id": "1OUSD4C7bKy7",
        "outputId": "ab27cacc-5ba2-498d-952f-c4c628bb24e0"
      },
      "execution_count": null,
      "outputs": [
        {
          "output_type": "stream",
          "name": "stdout",
          "text": [
            "('kiwi', 'orange', 'grapes', 'apple')\n",
            "['kiwi', 'orange', 'grapes', 'apple']\n",
            "('melon', 'orange', 'grapes', 'apple')\n"
          ]
        }
      ]
    },
    {
      "cell_type": "code",
      "source": [
        "#66. write a program to append an item to the tuple\n",
        "mytup=(\"kiwi\",\"orange\",\"grapes\",\"apple\")\n",
        "item=\"melon\"\n",
        "new_tup=mytup+(item,)\n",
        "print(new_tup)"
      ],
      "metadata": {
        "colab": {
          "base_uri": "https://localhost:8080/"
        },
        "id": "603l5pSKcz-j",
        "outputId": "cf9e83c8-9109-44b0-f755-aa776458d62c"
      },
      "execution_count": null,
      "outputs": [
        {
          "output_type": "stream",
          "name": "stdout",
          "text": [
            "('kiwi', 'orange', 'grapes', 'apple', 'melon')\n"
          ]
        }
      ]
    },
    {
      "cell_type": "code",
      "source": [
        "#67. write a program to remove an item from a tuple\n",
        "mytup=(\"kiwi\",\"orange\",\"grapes\",\"apple\")\n",
        "print(mytup)\n",
        "list1=list(mytup)\n",
        "list1.remove('kiwi')\n",
        "mytup=tuple(list1)\n",
        "print(mytup)"
      ],
      "metadata": {
        "colab": {
          "base_uri": "https://localhost:8080/"
        },
        "id": "Vmp8x27qeAzM",
        "outputId": "c73cc931-8ae3-4b46-8198-221bd8cdea09"
      },
      "execution_count": null,
      "outputs": [
        {
          "output_type": "stream",
          "name": "stdout",
          "text": [
            "('kiwi', 'orange', 'grapes', 'apple')\n",
            "('kiwi', 'orange', 'grapes', 'apple')\n",
            "('orange', 'grapes', 'apple')\n"
          ]
        }
      ]
    },
    {
      "cell_type": "code",
      "source": [
        "#68. write a program to concatenate two tuples\n",
        "tup1=(\"kiwi\",\"orange\",\"grapes\")\n",
        "tup2=(1,2,3)\n",
        "tup3=tup1+tup2\n",
        "print(tup3)"
      ],
      "metadata": {
        "colab": {
          "base_uri": "https://localhost:8080/"
        },
        "id": "8JUyaqQ0fJ8z",
        "outputId": "b93f3315-fca2-4b42-8017-c42d42166c4e"
      },
      "execution_count": null,
      "outputs": [
        {
          "output_type": "stream",
          "name": "stdout",
          "text": [
            "('kiwi', 'orange', 'grapes', 1, 2, 3)\n"
          ]
        }
      ]
    },
    {
      "cell_type": "code",
      "source": [
        "#69.rite a program to extract the values from a tuple into variables\n",
        "tup1=(\"kiwi\",\"orange\",\"grapes\")\n",
        "v1,v2,v3=tup1\n",
        "print(v1)\n",
        "print(v2)\n",
        "print(v3)"
      ],
      "metadata": {
        "colab": {
          "base_uri": "https://localhost:8080/"
        },
        "id": "lpQcIQaXh32O",
        "outputId": "47ba4ad6-ab8c-4c5d-ab4d-1c696883e75b"
      },
      "execution_count": null,
      "outputs": [
        {
          "output_type": "stream",
          "name": "stdout",
          "text": [
            "kiwi\n",
            "orange\n",
            "grapes\n"
          ]
        }
      ]
    },
    {
      "cell_type": "code",
      "source": [
        "#70. extract values from tuple using Asterix\n",
        "tup1=(\"kiwi\",\"orange\",\"grapes\")\n",
        "v1,v2,*v3=tup1\n",
        "print(v1)\n",
        "print(v2)\n",
        "print(v3)"
      ],
      "metadata": {
        "colab": {
          "base_uri": "https://localhost:8080/"
        },
        "id": "26q0kAqMifn-",
        "outputId": "2b2cc082-0937-46c4-f6ad-a82c66d5eaee"
      },
      "execution_count": null,
      "outputs": [
        {
          "output_type": "stream",
          "name": "stdout",
          "text": [
            "kiwi\n",
            "orange\n",
            "['grapes']\n"
          ]
        }
      ]
    },
    {
      "cell_type": "code",
      "source": [
        "#71. count the number of occurrences of an item in a tuple\n",
        "t1=(1,2,3,2,4,2,5)\n",
        "print(t1)\n",
        "n=int(input(\"enter item to count:\"))\n",
        "counts=t1.count(n)\n",
        "print(n,\"items count is:\",counts)\n"
      ],
      "metadata": {
        "colab": {
          "base_uri": "https://localhost:8080/"
        },
        "id": "u4EeK7U9i3wO",
        "outputId": "fc4f03c8-31f7-46a1-a21b-f7789e56728b"
      },
      "execution_count": null,
      "outputs": [
        {
          "output_type": "stream",
          "name": "stdout",
          "text": [
            "(1, 2, 3, 2, 4, 2, 5)\n",
            "enter item to count:2\n",
            "2 items count is: 3\n"
          ]
        }
      ]
    },
    {
      "cell_type": "code",
      "source": [
        "#72. remove items from a tuple by using merge with +Character\n",
        "t1=(1,2,3,2,4,2,5)\n",
        "t2=()\n",
        "t2=t1[:2]+t1[3:]\n",
        "print(\"after merge operation\",t2)\n",
        "list1=[]\n",
        "list1=list(t2)\n",
        "list1.remove(2)\n",
        "#print(list1)\n",
        "t2=tuple(list1)\n",
        "print(\"after removing item\",t2)"
      ],
      "metadata": {
        "colab": {
          "base_uri": "https://localhost:8080/"
        },
        "id": "PS7KXXuXNbHn",
        "outputId": "05fe9902-78e7-4910-96fb-69b86f11902c"
      },
      "execution_count": null,
      "outputs": [
        {
          "output_type": "stream",
          "name": "stdout",
          "text": [
            "after merge operation (1, 2, 2, 4, 2, 5)\n",
            "after removing item (1, 2, 4, 2, 5)\n"
          ]
        }
      ]
    },
    {
      "cell_type": "code",
      "source": [
        "#73.slice a tuple using start-stop, step parameter\n",
        "t1=(1,2,3,2,4,2,5)\n",
        "print(t1[1:6:2])\n",
        "\n",
        "#74. slice a tuple with step parameter is negative\n",
        "print(t1[::-2])\n",
        "\n",
        "#75.returns a tuple with a jump every 3 times\n",
        "mytup=(\"kiwi\",\"orange\",\"grapes\",\"apple\",\"avocado\",\"banana\")\n",
        "print(mytup[::3])"
      ],
      "metadata": {
        "id": "FygNdb3Mjf6X",
        "colab": {
          "base_uri": "https://localhost:8080/"
        },
        "outputId": "374dee5d-13c5-4114-e532-3e9e5c9db171"
      },
      "execution_count": null,
      "outputs": [
        {
          "output_type": "stream",
          "name": "stdout",
          "text": [
            "(2, 2, 2)\n",
            "(5, 4, 3, 1)\n",
            "('kiwi', 'apple')\n"
          ]
        }
      ]
    },
    {
      "cell_type": "code",
      "source": [
        "#76. find the maximum value in a tuple\n",
        "mytup=(23,4,5,67,89)\n",
        "\n",
        "i=0\n",
        "big_num=mytup[0]\n",
        "while(i<len(mytup)):\n",
        "  if mytup[i]>big_num:\n",
        "    big_num=mytup[i]\n",
        "  i+=1\n",
        "\n",
        "print(\"Biggest number:\",big_num)"
      ],
      "metadata": {
        "colab": {
          "base_uri": "https://localhost:8080/"
        },
        "id": "P7l9PzmMekz1",
        "outputId": "ffba22f3-6b05-4455-cf49-9bc258373e04"
      },
      "execution_count": null,
      "outputs": [
        {
          "output_type": "stream",
          "name": "stdout",
          "text": [
            "Biggest number: 89\n"
          ]
        }
      ]
    },
    {
      "cell_type": "code",
      "source": [
        "#77. Find min value in a tuple\n",
        "mytup=(23,4,5,67,89)\n",
        "\n",
        "i=0\n",
        "min_num=mytup[0]\n",
        "while(i<len(mytup)):\n",
        "  if mytup[i]<min_num:\n",
        "    min_num=mytup[i]\n",
        "  i+=1\n",
        "\n",
        "print(\"minimum number:\",min_num)"
      ],
      "metadata": {
        "colab": {
          "base_uri": "https://localhost:8080/"
        },
        "id": "y_hbKHSIfJEb",
        "outputId": "fd578ba8-f3c4-445d-e3f3-2305083671bd"
      },
      "execution_count": null,
      "outputs": [
        {
          "output_type": "stream",
          "name": "stdout",
          "text": [
            "minimum number: 4\n"
          ]
        }
      ]
    },
    {
      "cell_type": "code",
      "source": [
        "#78. find the sum of items in a tuple\n",
        "mytup=(23,4,5,67,89)\n",
        "sum=0\n",
        "for i in mytup:\n",
        "  sum+=i\n",
        "print(\"sum of items:\",sum)"
      ],
      "metadata": {
        "colab": {
          "base_uri": "https://localhost:8080/"
        },
        "id": "7VOxbr8cfnXf",
        "outputId": "33d1e4a3-6608-4e11-bfba-e93ec8ff9f9d"
      },
      "execution_count": null,
      "outputs": [
        {
          "output_type": "stream",
          "name": "stdout",
          "text": [
            "sum of items: 188\n"
          ]
        }
      ]
    },
    {
      "cell_type": "code",
      "source": [
        "#79. write a program to find the index of an item\n",
        "n=int(input(\"enter limit:\"))\n",
        "list1=[]\n",
        "for i in range(n):\n",
        "  items=input(\"Enter items:\")\n",
        "  list1.append(items)\n",
        "mytup=[]\n",
        "mytup=tuple(list1)\n",
        "num=input(\"enter the item to know index:\")\n",
        "in1=mytup.index(num)\n",
        "print(num,\"index is:\",in1)\n",
        "\n"
      ],
      "metadata": {
        "colab": {
          "base_uri": "https://localhost:8080/"
        },
        "id": "7vSu6zsagA-C",
        "outputId": "7b8db3cb-48c1-4297-9a0c-c015013d8fe4"
      },
      "execution_count": null,
      "outputs": [
        {
          "output_type": "stream",
          "name": "stdout",
          "text": [
            "enter limit:4\n",
            "Enter items:apple\n",
            "Enter items:orange\n",
            "Enter items:guva\n",
            "Enter items:cherry\n",
            "enter the item to know index:guva\n",
            "guva index is: 2\n"
          ]
        }
      ]
    },
    {
      "cell_type": "code",
      "source": [
        "#80. write a program to find the length of a set\n",
        "myset = {\"apple\", \"banana\", \"cherry\"}\n",
        "print(len(myset))"
      ],
      "metadata": {
        "colab": {
          "base_uri": "https://localhost:8080/"
        },
        "id": "OSjqgPGWiDY6",
        "outputId": "fc4e237f-157c-4fe7-ed5f-f97e556e1688"
      },
      "execution_count": null,
      "outputs": [
        {
          "output_type": "stream",
          "name": "stdout",
          "text": [
            "3\n"
          ]
        }
      ]
    },
    {
      "cell_type": "code",
      "source": [
        "#81. write a program to create a set\n",
        "set1={\"apple\",\"cherry\",\"orange\",\"banana\"}\n",
        "print(set1)\n",
        "#82. write a program to remove an item from the set using the remove method\n",
        "set1.remove(\"cherry\")\n",
        "print(set1)\n"
      ],
      "metadata": {
        "colab": {
          "base_uri": "https://localhost:8080/"
        },
        "id": "-F0pbsVCO8lO",
        "outputId": "948787cb-6c76-47bb-e525-1c1979ef48c2"
      },
      "execution_count": null,
      "outputs": [
        {
          "output_type": "stream",
          "name": "stdout",
          "text": [
            "{'cherry', 'banana', 'apple', 'orange'}\n",
            "{'banana', 'apple', 'orange'}\n"
          ]
        }
      ]
    },
    {
      "cell_type": "code",
      "source": [
        "#83. write a program to add items from one set to another\n",
        "set1={\"apple\",\"cherry\",\"orange\",\"banana\"}\n",
        "set2=set()\n",
        "for i in set1:\n",
        "  set2.add(i)\n",
        "print(set2)"
      ],
      "metadata": {
        "colab": {
          "base_uri": "https://localhost:8080/"
        },
        "id": "KW7VsBMGP1kI",
        "outputId": "060b60aa-0aa4-4702-ad7e-1fd8baf5be36"
      },
      "execution_count": null,
      "outputs": [
        {
          "output_type": "stream",
          "name": "stdout",
          "text": [
            "{'cherry', 'banana', 'apple', 'orange'}\n"
          ]
        }
      ]
    },
    {
      "cell_type": "code",
      "source": [
        "#84. write a program to join two sets\n",
        "set1={1,2,3,4}\n",
        "set2={5,6,7,8}\n",
        "set3=set1.union(set2)\n",
        "print(set3)"
      ],
      "metadata": {
        "colab": {
          "base_uri": "https://localhost:8080/"
        },
        "id": "MO7Y-b_KRQqj",
        "outputId": "7c47c25a-e381-4c3f-bf44-bcd73d57ba8b"
      },
      "execution_count": null,
      "outputs": [
        {
          "output_type": "stream",
          "name": "stdout",
          "text": [
            "{1, 2, 3, 4, 5, 6, 7, 8}\n"
          ]
        }
      ]
    },
    {
      "cell_type": "code",
      "source": [
        "#85. write a program to remove an item from the set using the discard method\n",
        "set1={\"apple\",\"cherry\",\"orange\",\"banana\",\"kiwi\"}\n",
        "set1.discard(\"kiwi\")\n",
        "print(set1)"
      ],
      "metadata": {
        "colab": {
          "base_uri": "https://localhost:8080/"
        },
        "id": "obF4ZBApRnzu",
        "outputId": "b550850e-5c91-4b42-d0b2-ff8b051bb2a1"
      },
      "execution_count": null,
      "outputs": [
        {
          "output_type": "stream",
          "name": "stdout",
          "text": [
            "{'orange', 'cherry', 'apple', 'banana'}\n"
          ]
        }
      ]
    },
    {
      "cell_type": "code",
      "source": [
        "#86. write a program to add an item to a set\n",
        "set1={\"apple\",\"cherry\",\"orange\",\"banana\",\"kiwi\"}\n",
        "set1.add(\"grapes\")\n",
        "print(set1)"
      ],
      "metadata": {
        "id": "KSsTFtA5SI5f"
      },
      "execution_count": null,
      "outputs": []
    },
    {
      "cell_type": "code",
      "source": [
        "#87. write a program using the symmetric difference method\n",
        "set1={1,2,3,7}\n",
        "set2={2,5,6,7}\n",
        "set3=set1.difference(set2)\n",
        "set4=set1.symmetric_difference(set2)\n",
        "print(set3)\n",
        "print(set4)"
      ],
      "metadata": {
        "colab": {
          "base_uri": "https://localhost:8080/"
        },
        "id": "gGzd6lXPItUJ",
        "outputId": "950fd2e6-62c4-4dc6-aedd-c802f082552f"
      },
      "execution_count": null,
      "outputs": [
        {
          "output_type": "stream",
          "name": "stdout",
          "text": [
            "{1, 3}\n",
            "{1, 3, 5, 6}\n"
          ]
        }
      ]
    },
    {
      "cell_type": "code",
      "source": [
        "#88. write a program using the intersection update method\n",
        "set1={1,2,3,7}\n",
        "set2={2,5,6,7}\n",
        "set1.intersection_update(set2)  #removes items from 1st set that is not present in both sets\n",
        "print(set1)"
      ],
      "metadata": {
        "colab": {
          "base_uri": "https://localhost:8080/"
        },
        "id": "Dk_SzkpiKsJZ",
        "outputId": "b66c2271-f9db-4765-93a8-4b1c48bbed54"
      },
      "execution_count": null,
      "outputs": [
        {
          "output_type": "stream",
          "name": "stdout",
          "text": [
            "{2, 7}\n"
          ]
        }
      ]
    },
    {
      "cell_type": "code",
      "source": [
        "#89. Write a Python script to add a key to a dictionary\n",
        "mydict={'name':'Arya','age':25}\n",
        "print(mydict)\n",
        "mydict[\"city\"]=\"Adoor\"\n",
        "print(mydict)"
      ],
      "metadata": {
        "colab": {
          "base_uri": "https://localhost:8080/"
        },
        "id": "dTNAg5FqKoQP",
        "outputId": "a4ef2e51-f291-4f89-bbf5-79500b8ad2ab"
      },
      "execution_count": null,
      "outputs": [
        {
          "output_type": "stream",
          "name": "stdout",
          "text": [
            "{'name': 'Arya', 'age': 25}\n",
            "{'name': 'Arya', 'age': 25, 'city': 'Adoor'}\n"
          ]
        }
      ]
    },
    {
      "cell_type": "code",
      "source": [
        "#90. Write a Python script to check whether a given key already exists in a dictionary\n",
        "mydict={'name':'Arya','age':25,'city': 'Adoor'}\n",
        "print(mydict)\n",
        "key=mydict.keys()\n",
        "k=input(\"Enter the key to search:\")\n",
        "if k in key:\n",
        "  print(\"Key is exist in the dictionary\")\n",
        "else:\n",
        "  print(\"Key is not exist in the dictionary\")\n"
      ],
      "metadata": {
        "colab": {
          "base_uri": "https://localhost:8080/"
        },
        "id": "9J8hwd3gLmsB",
        "outputId": "a70da3b8-ccb1-4417-d5cd-0301778468c7"
      },
      "execution_count": null,
      "outputs": [
        {
          "output_type": "stream",
          "name": "stdout",
          "text": [
            "{'name': 'Arya', 'age': 25, 'city': 'Adoor'}\n",
            "Enter the key to search:phone\n",
            "Key is not exist in the dictionary\n"
          ]
        }
      ]
    },
    {
      "cell_type": "code",
      "source": [
        "#91. .Write a Python program to get the key, value, and item in a dictionary.\n",
        "mydict={'name': 'Arya', 'age': 25, 'city': 'Adoor'}\n",
        "k=mydict.keys()\n",
        "v=mydict.values()\n",
        "i=mydict.items()\n",
        "print(k)\n",
        "print(v)\n",
        "print(i)"
      ],
      "metadata": {
        "colab": {
          "base_uri": "https://localhost:8080/"
        },
        "id": "kEszLOxiMtrY",
        "outputId": "2b5806f9-4b82-4b78-f07d-9e4f2aaad130"
      },
      "execution_count": null,
      "outputs": [
        {
          "output_type": "stream",
          "name": "stdout",
          "text": [
            "dict_keys(['name', 'age', 'city'])\n",
            "dict_values(['Arya', 25, 'Adoor'])\n",
            "dict_items([('name', 'Arya'), ('age', 25), ('city', 'Adoor')])\n"
          ]
        }
      ]
    },
    {
      "cell_type": "code",
      "source": [
        "#92. print the value of the \"model\" key of the car dictionary using the get method car = {\"brand\": \"Ford\",\"model\": \"Mustang\",\"year\": 1964}\n",
        "car = {\"brand\": \"Ford\",\"model\": \"Mustang\",\"year\": 1964}\n",
        "print(car)\n",
        "val=car.get(\"model\")\n",
        "print(\"value of model key is:\",val)\n",
        "\n",
        "#93. Change the \"year\" value from 1964 to 2020. in the above dictionary\n",
        "car[\"year\"]=2020\n",
        "print(car)\n",
        "\n"
      ],
      "metadata": {
        "colab": {
          "base_uri": "https://localhost:8080/"
        },
        "id": "WRViN4KcNUL2",
        "outputId": "65ce0080-ed2d-4549-d53b-b4e98d6f42a2"
      },
      "execution_count": null,
      "outputs": [
        {
          "output_type": "stream",
          "name": "stdout",
          "text": [
            "value of model key is: Mustang\n",
            "{'brand': 'Ford', 'model': 'Mustang', 'year': 2020}\n"
          ]
        }
      ]
    },
    {
      "cell_type": "code",
      "source": [
        "#94. Write a Python program to remove a key from a dictionary.\n",
        "car = {\"brand\": \"Ford\",\"model\": \"Mustang\",\"year\": 1964}\n",
        "car1=car.pop(\"model\")\n",
        "print(car)\n",
        "del car[\"year\"]\n",
        "print(car)\n"
      ],
      "metadata": {
        "colab": {
          "base_uri": "https://localhost:8080/"
        },
        "id": "g8-RzNfqO3sV",
        "outputId": "c2ace21a-b328-40d4-9160-aea92bfcb53a"
      },
      "execution_count": null,
      "outputs": [
        {
          "output_type": "stream",
          "name": "stdout",
          "text": [
            "{'brand': 'Ford', 'year': 1964}\n",
            "{'brand': 'Ford'}\n"
          ]
        }
      ]
    },
    {
      "cell_type": "code",
      "source": [
        "#95.create a dictionary using dict constructor\n",
        "dict1={}\n",
        "mydict={2:4,4:8,8:16,16:32}\n",
        "print(\"without using constructor\",mydict)\n",
        "dict1=dict(mydict)\n",
        "print(\"using constructor:\",dict1)"
      ],
      "metadata": {
        "colab": {
          "base_uri": "https://localhost:8080/"
        },
        "id": "-X8IVqlUMY0E",
        "outputId": "0e80b723-3c27-43c6-b396-515bd83f3edb"
      },
      "execution_count": null,
      "outputs": [
        {
          "output_type": "stream",
          "name": "stdout",
          "text": [
            "without using constructor {2: 4, 4: 8, 8: 16, 16: 32}\n",
            "using constructor: {2: 4, 4: 8, 8: 16, 16: 32}\n"
          ]
        }
      ]
    },
    {
      "cell_type": "code",
      "source": [
        "#96. write a program with a dictionary update method\n",
        "car = {\"brand\": \"Ford\",\"model\": \"Mustang\",\"year\": 1964}\n",
        "car.update({\"color\":\"Black\"})\n",
        "print(car)"
      ],
      "metadata": {
        "colab": {
          "base_uri": "https://localhost:8080/"
        },
        "id": "rswmUGV2QYQD",
        "outputId": "1bf90877-71d8-4f51-c87e-646af6d392b5"
      },
      "execution_count": null,
      "outputs": [
        {
          "output_type": "stream",
          "name": "stdout",
          "text": [
            "{'brand': 'Ford', 'model': 'Mustang', 'year': 1964, 'color': 'Black'}\n"
          ]
        }
      ]
    },
    {
      "cell_type": "code",
      "source": [
        "#97. write a program to remove the last inserted item from a dictionary\n",
        "mydict={'name': 'Arya', 'age': 25, 'city': 'Adoor'}\n",
        "print(mydict)\n",
        "result=mydict.popitem()\n",
        "print(mydict)"
      ],
      "metadata": {
        "colab": {
          "base_uri": "https://localhost:8080/"
        },
        "id": "v8cRTuTdRHYJ",
        "outputId": "558081a2-c10c-4f00-b270-59ee8eeed689"
      },
      "execution_count": null,
      "outputs": [
        {
          "output_type": "stream",
          "name": "stdout",
          "text": [
            "{'name': 'Arya', 'age': 25, 'city': 'Adoor'}\n",
            "{'name': 'Arya', 'age': 25}\n"
          ]
        }
      ]
    },
    {
      "cell_type": "code",
      "source": [
        "#98. write a program to empty a dictionary\n",
        "mydict={'name': 'Arya', 'age': 25, 'city': 'Adoor'}\n",
        "print(mydict)\n",
        "mydict.clear()\n",
        "print(mydict)"
      ],
      "metadata": {
        "colab": {
          "base_uri": "https://localhost:8080/"
        },
        "id": "Zx4IEyx-Re8o",
        "outputId": "19873ed7-3704-4976-cea2-e78eaebfa54e"
      },
      "execution_count": null,
      "outputs": [
        {
          "output_type": "stream",
          "name": "stdout",
          "text": [
            "{'name': 'Arya', 'age': 25, 'city': 'Adoor'}\n",
            "{}\n"
          ]
        }
      ]
    },
    {
      "cell_type": "code",
      "source": [
        "#99. write a program to copy a dictionary\n",
        "mydict={'name': 'Arya', 'age': 25, 'city': 'Adoor'}\n",
        "print(\"original dictionary:\",mydict)\n",
        "dicts=dict(mydict)\n",
        "print(\"copied dictionary:\",dicts)"
      ],
      "metadata": {
        "colab": {
          "base_uri": "https://localhost:8080/"
        },
        "id": "vBpZ-Xs8Rzjr",
        "outputId": "41f85c4e-d2d6-4329-ff15-46535e1c2f21"
      },
      "execution_count": null,
      "outputs": [
        {
          "output_type": "stream",
          "name": "stdout",
          "text": [
            "original dictionary: {'name': 'Arya', 'age': 25, 'city': 'Adoor'}\n",
            "copied dictionary: {'name': 'Arya', 'age': 25, 'city': 'Adoor'}\n"
          ]
        }
      ]
    },
    {
      "cell_type": "code",
      "source": [
        "#100. Create and call a function\n",
        "\n",
        "def add():\n",
        "  a=20\n",
        "  b=80\n",
        "  c=a+b\n",
        "  print(c)\n",
        "\n",
        "add()"
      ],
      "metadata": {
        "colab": {
          "base_uri": "https://localhost:8080/"
        },
        "id": "HDs9us_hnv_j",
        "outputId": "c05cc3f2-a9ca-4432-bb7a-5f124a7c678b"
      },
      "execution_count": null,
      "outputs": [
        {
          "output_type": "stream",
          "name": "stdout",
          "text": [
            "100\n"
          ]
        }
      ]
    },
    {
      "cell_type": "code",
      "source": [
        "#101. create a function using the arbitrary argument\n",
        "\n",
        "def sum(*a):\n",
        "  print(\"Values:\",a)\n",
        "\n",
        "sum(2,4,5,6,8,9)"
      ],
      "metadata": {
        "colab": {
          "base_uri": "https://localhost:8080/"
        },
        "id": "j8AgelG7oLzB",
        "outputId": "d3dc790a-3140-4a33-aac2-6a9ed5cacf8f"
      },
      "execution_count": null,
      "outputs": [
        {
          "output_type": "stream",
          "name": "stdout",
          "text": [
            "Values: (2, 4, 5, 6, 8, 9)\n"
          ]
        }
      ]
    },
    {
      "cell_type": "code",
      "source": [
        "#102. create a function using an arbitrary keyword argument\n",
        "\n",
        "def word(**a):\n",
        "  print(\"Key and Values are:\",a)\n",
        "\n",
        "word(name='arya',age=\"25\")"
      ],
      "metadata": {
        "colab": {
          "base_uri": "https://localhost:8080/"
        },
        "id": "KORlzFmporpE",
        "outputId": "661cecfa-d26e-41ae-a050-a43527138d80"
      },
      "execution_count": null,
      "outputs": [
        {
          "output_type": "stream",
          "name": "stdout",
          "text": [
            "Key and Values are: {'name': 'arya', 'age': '25'}\n"
          ]
        }
      ]
    },
    {
      "cell_type": "code",
      "source": [
        "#103. create a function with a return statement\n",
        "def sub():\n",
        "  a=98\n",
        "  b=67\n",
        "  c=a-b\n",
        "  return c\n",
        "sub()"
      ],
      "metadata": {
        "colab": {
          "base_uri": "https://localhost:8080/"
        },
        "id": "AZ3ZxEuVpebZ",
        "outputId": "778945b9-1c83-448d-a3ad-f86cf7897b8d"
      },
      "execution_count": null,
      "outputs": [
        {
          "output_type": "execute_result",
          "data": {
            "text/plain": [
              "31"
            ]
          },
          "metadata": {},
          "execution_count": 7
        }
      ]
    },
    {
      "cell_type": "code",
      "source": [
        "def sum(a,b):\n",
        "  c=a+b\n",
        "  return c\n",
        "\n",
        "sum(22,67)"
      ],
      "metadata": {
        "colab": {
          "base_uri": "https://localhost:8080/"
        },
        "id": "0gWTp5RluVdD",
        "outputId": "fdb65578-e303-40bf-864e-1711f9836363"
      },
      "execution_count": null,
      "outputs": [
        {
          "output_type": "execute_result",
          "data": {
            "text/plain": [
              "89"
            ]
          },
          "metadata": {},
          "execution_count": 8
        }
      ]
    },
    {
      "cell_type": "code",
      "source": [
        "#dict methods\n",
        "mydict={'name':'John','age':30,'city':'newyork'}\n",
        "\n",
        "print(mydict['name'])\n",
        "\n",
        "mydict['age']=31\n",
        "print(mydict)\n",
        "\n",
        "mydict['occupation']='Engineer'\n",
        "print(mydict)\n",
        "\n",
        "del mydict['city']\n",
        "print(mydict)\n",
        "\n",
        "k=mydict.keys()\n",
        "v=mydict.values()\n",
        "i=mydict.items()\n",
        "\n",
        "print(k)\n",
        "print(v)\n",
        "print(i)\n",
        "\n",
        "value=mydict.get('age','N/A')\n",
        "print(value)\n",
        "\n",
        "value=mydict.get('salary','N/A')\n",
        "print(value)\n",
        "\n",
        "removed_value=mydict.pop('age')\n",
        "print(removed_value)\n",
        "print(mydict)\n",
        "\n",
        "removed_value=mydict.popitem()\n",
        "print(removed_value)\n",
        "print(mydict)\n",
        "\n",
        "mydict.clear()\n",
        "print(mydict)\n",
        "\n",
        "mydict.update({'country':'USA','age':30})\n",
        "print(mydict)\n",
        "\n"
      ],
      "metadata": {
        "colab": {
          "base_uri": "https://localhost:8080/"
        },
        "id": "-I8sP9NZHMI4",
        "outputId": "37ac5e98-df5a-4af9-a1ef-9fc9b71faf9b"
      },
      "execution_count": null,
      "outputs": [
        {
          "output_type": "stream",
          "name": "stdout",
          "text": [
            "John\n",
            "{'name': 'John', 'age': 31, 'city': 'newyork'}\n",
            "{'name': 'John', 'age': 31, 'city': 'newyork', 'occupation': 'Engineer'}\n",
            "{'name': 'John', 'age': 31, 'occupation': 'Engineer'}\n",
            "dict_keys(['name', 'age', 'occupation'])\n",
            "dict_values(['John', 31, 'Engineer'])\n",
            "dict_items([('name', 'John'), ('age', 31), ('occupation', 'Engineer')])\n",
            "31\n",
            "N/A\n",
            "31\n",
            "{'name': 'John', 'occupation': 'Engineer'}\n",
            "('occupation', 'Engineer')\n",
            "{'name': 'John'}\n",
            "{}\n",
            "{'country': 'USA', 'age': 30}\n"
          ]
        }
      ]
    },
    {
      "cell_type": "code",
      "source": [
        "#factorial using function\n",
        "\n",
        "def fact():\n",
        "\n",
        "  num=int(input(\"Enter the number:\"))\n",
        "\n",
        "  fact=1\n",
        "  count=1\n",
        "\n",
        "  if(num==0) or (num==1):\n",
        "    print(\"factorial is 1\")\n",
        "  elif(num<0):\n",
        "     print(\"There is no factorial\")\n",
        "  else:\n",
        "    while(count<=num):\n",
        "      fact*=count\n",
        "      count+=1\n",
        "\n",
        "    print(\"Factorial is:\",fact)\n",
        "\n",
        "fact()\n",
        "\n"
      ],
      "metadata": {
        "id": "kPLVUoNbTuNR",
        "colab": {
          "base_uri": "https://localhost:8080/"
        },
        "outputId": "e67c833c-4b09-4d1a-f615-a5cee1d08cf6"
      },
      "execution_count": null,
      "outputs": [
        {
          "output_type": "stream",
          "name": "stdout",
          "text": [
            "Enter the number:5\n",
            "Factorial is: 120\n"
          ]
        }
      ]
    },
    {
      "cell_type": "code",
      "source": [
        "#functions\n",
        "def sum():\n",
        "  a=10\n",
        "  b=20\n",
        "  c=a+b\n",
        "  return c\n",
        "sum()"
      ],
      "metadata": {
        "colab": {
          "base_uri": "https://localhost:8080/"
        },
        "id": "mtl2YqIfjGTF",
        "outputId": "4c7c03eb-4e6c-4aba-d7ed-b285e48c45db"
      },
      "execution_count": null,
      "outputs": [
        {
          "output_type": "execute_result",
          "data": {
            "text/plain": [
              "30"
            ]
          },
          "metadata": {},
          "execution_count": 3
        }
      ]
    },
    {
      "cell_type": "code",
      "source": [
        "#default parameter passing\n",
        "def sum(a,b):\n",
        "  c=a+b\n",
        "  return c\n",
        "sum(10,34)"
      ],
      "metadata": {
        "colab": {
          "base_uri": "https://localhost:8080/"
        },
        "id": "7_DhZihyjRIq",
        "outputId": "31e21f0a-4f61-4a56-97bc-26e331bd7022"
      },
      "execution_count": null,
      "outputs": [
        {
          "output_type": "execute_result",
          "data": {
            "text/plain": [
              "44"
            ]
          },
          "metadata": {},
          "execution_count": 4
        }
      ]
    },
    {
      "cell_type": "code",
      "source": [
        "#keyword parameter passing\n",
        "def sum(a=22,b=89):\n",
        "  c=a+b\n",
        "  return c\n",
        "sum()"
      ],
      "metadata": {
        "colab": {
          "base_uri": "https://localhost:8080/"
        },
        "id": "VviIXF8Sjk3k",
        "outputId": "f635324e-7781-4efd-e8de-ca81f249c0d9"
      },
      "execution_count": null,
      "outputs": [
        {
          "output_type": "execute_result",
          "data": {
            "text/plain": [
              "111"
            ]
          },
          "metadata": {},
          "execution_count": 5
        }
      ]
    },
    {
      "cell_type": "code",
      "source": [
        "#arbitary argument parameter passing\n",
        "def sum(*a):\n",
        "  return a\n",
        "sum(10,34,78,65,43)"
      ],
      "metadata": {
        "colab": {
          "base_uri": "https://localhost:8080/"
        },
        "id": "kKPdmb1XjyJv",
        "outputId": "21104d4d-108f-44af-d38d-cd0faba6bcee"
      },
      "execution_count": null,
      "outputs": [
        {
          "output_type": "execute_result",
          "data": {
            "text/plain": [
              "(10, 34, 78, 65, 43)"
            ]
          },
          "metadata": {},
          "execution_count": 6
        }
      ]
    },
    {
      "cell_type": "code",
      "source": [
        "#temperature converter\n",
        "choice=int(input(\"Enter choice 1.farenheit 2.celsius:\"))\n",
        "\n",
        "def faren(temp1):\n",
        "  faren1=(temp1 * 1.8) + 32\n",
        "  print(faren1)\n",
        "\n",
        "def cel(temp2):\n",
        "  cels=(temp2-32)*(5/9)\n",
        "  print(cels)\n",
        "\n",
        "if(choice==1):\n",
        "  temp1=float(input(\"Enter temperature in celsius:\"))\n",
        "  faren(temp1)\n",
        "\n",
        "elif(choice==2):\n",
        "  temp2=float(input(\"Enter temperature in farenheit:\"))\n",
        "  cel(temp2)\n",
        "\n",
        "else:\n",
        "  print(\"No input\")\n"
      ],
      "metadata": {
        "colab": {
          "base_uri": "https://localhost:8080/"
        },
        "id": "wOsN98y2vGQ3",
        "outputId": "a184a1a4-5763-4dbe-9c81-3da3ac9f0d4c"
      },
      "execution_count": null,
      "outputs": [
        {
          "output_type": "stream",
          "name": "stdout",
          "text": [
            "Enter choice 1.farenheit 2.celsius:2\n",
            "Enter temperature in farenheit:89.9\n",
            "32.16666666666667\n"
          ]
        }
      ]
    },
    {
      "cell_type": "code",
      "source": [
        "#palindrome\n",
        "def pal(str1):\n",
        "  str2=\"\"\n",
        "  for i in str1:\n",
        "    str2=i+str2\n",
        "  if(str1==str2):\n",
        "    print(str1,\"is a palindrome string\")\n",
        "  else:\n",
        "    print(str1,\"not a palindrome string\")\n",
        "\n",
        "str1=str(input(\"Enter the string:\"))\n",
        "pal(str1)"
      ],
      "metadata": {
        "colab": {
          "base_uri": "https://localhost:8080/"
        },
        "id": "azOzuFcpBfg9",
        "outputId": "3dcbbf9f-707a-438b-aac4-5f5021452b52"
      },
      "execution_count": null,
      "outputs": [
        {
          "output_type": "stream",
          "name": "stdout",
          "text": [
            "Enter the string:malayalam\n",
            "malayalam is a palindrome string\n"
          ]
        }
      ]
    },
    {
      "cell_type": "code",
      "source": [
        "#maximum number in a list\n",
        "def big(my_list):\n",
        "  max = my_list[0]\n",
        "  for x in my_list:\n",
        "    if x > max:\n",
        "      max = x\n",
        "  print(\"Maximum element:\",max)\n",
        "\n",
        "limit=int(input(\"Enter the limit:\"))\n",
        "my_list=[]\n",
        "for i in range(limit):\n",
        "  numbers=int(input(\"Enter the numbers:\"))\n",
        "  my_list.append(numbers)\n",
        "print(my_list)\n",
        "big(my_list)"
      ],
      "metadata": {
        "colab": {
          "base_uri": "https://localhost:8080/"
        },
        "id": "j9yfnI4jDzqH",
        "outputId": "853c4236-9b07-4ca0-f877-3977202fb871"
      },
      "execution_count": null,
      "outputs": [
        {
          "output_type": "stream",
          "name": "stdout",
          "text": [
            "Enter the limit:5\n",
            "Enter the numbers:67\n",
            "Enter the numbers:54\n",
            "Enter the numbers:43\n",
            "Enter the numbers:34\n",
            "Enter the numbers:21\n",
            "67\n"
          ]
        }
      ]
    },
    {
      "cell_type": "code",
      "source": [
        "#sum of elements in list\n",
        "def sums(my_list):\n",
        "  sum=0\n",
        "  for x in my_list:\n",
        "    sum=sum+x\n",
        "  print(\"Sum of values in list:\",sum)\n",
        "\n",
        "limit=int(input(\"Enter the limit:\"))\n",
        "my_list=[]\n",
        "for i in range(limit):\n",
        "  numbers=int(input(\"Enter the numbers:\"))\n",
        "  my_list.append(numbers)\n",
        "print(my_list)\n",
        "sums(my_list)"
      ],
      "metadata": {
        "colab": {
          "base_uri": "https://localhost:8080/"
        },
        "id": "EATuMDA_F9NF",
        "outputId": "dc5d149e-c241-4a22-8696-32cc96c28433"
      },
      "execution_count": null,
      "outputs": [
        {
          "output_type": "stream",
          "name": "stdout",
          "text": [
            "390\n"
          ]
        }
      ]
    },
    {
      "cell_type": "code",
      "source": [
        "#remove duplicates from list\n",
        "def dupli(my_list):\n",
        "  list1=[]\n",
        "  for i in my_list:\n",
        "    if(i not in list1):\n",
        "      list1.append(i)\n",
        "  print(\"After removing duplicates:\",list1)\n",
        "\n",
        "limit=int(input(\"Enter the limit:\"))\n",
        "my_list=[]\n",
        "for i in range(limit):\n",
        "  numbers=int(input(\"Enter the numbers:\"))\n",
        "  my_list.append(numbers)\n",
        "print(\"Original list:\",my_list)\n",
        "dupli(my_list)\n"
      ],
      "metadata": {
        "colab": {
          "base_uri": "https://localhost:8080/"
        },
        "id": "ywQX3b2CGlOC",
        "outputId": "e59626e9-6c7e-4294-d052-f7c7feb9c038"
      },
      "execution_count": null,
      "outputs": [
        {
          "output_type": "stream",
          "name": "stdout",
          "text": [
            "Enter the limit:4\n",
            "Enter the numbers:1\n",
            "Enter the numbers:2\n",
            "Enter the numbers:2\n",
            "Enter the numbers:3\n",
            "Original list: [1, 2, 2, 3]\n",
            "[1, 2, 3]\n"
          ]
        }
      ]
    },
    {
      "cell_type": "code",
      "source": [
        "#count words in a sentence\n",
        "def counts(str1):\n",
        "  str2=str1.split(\" \")\n",
        "  print(\"No of words:\",len(str2))\n",
        "\n",
        "str1=str(input(\"Enter the sentence:\"))\n",
        "counts(str1)"
      ],
      "metadata": {
        "colab": {
          "base_uri": "https://localhost:8080/"
        },
        "id": "4g3KRTTDIOM7",
        "outputId": "842d751f-7fcc-4675-d498-fcd60189672c"
      },
      "execution_count": null,
      "outputs": [
        {
          "output_type": "stream",
          "name": "stdout",
          "text": [
            "Enter the sentence:hello arya how are you\n",
            "No of word: 5\n"
          ]
        }
      ]
    },
    {
      "cell_type": "code",
      "source": [
        "#2.auto_trimorphic\n",
        "num=int(input(\"Enter the number:\"))\n",
        "print(\"Menu\")\n",
        "print(\"1.Automorphic\")\n",
        "print(\"2.Trimorphic\")\n",
        "choice=int(input(\"Enter the choice:\"))\n",
        "l=len(str(num))\n",
        "if(choice==1):\n",
        "  sq=num**2\n",
        "  if(sq%(10**l))==num:\n",
        "    print(num,\"is automorphic\")\n",
        "  else:\n",
        "    print(num,\"is not automorphic\")\n",
        "elif(choice==2):\n",
        "  cb=num**3\n",
        "  if(cb%(10**l))==num:\n",
        "    print(num,\"is trimorphic\")\n",
        "  else:\n",
        "    print(num,\"is not trimorphic\")\n",
        "else:\n",
        "  print(\"Invalid choice\")"
      ],
      "metadata": {
        "colab": {
          "base_uri": "https://localhost:8080/"
        },
        "id": "3rCnSZsK5z8X",
        "outputId": "6a537c13-ab0d-4b1b-9a94-45d3760f87cc"
      },
      "execution_count": null,
      "outputs": [
        {
          "output_type": "stream",
          "name": "stdout",
          "text": [
            "Enter the number:25\n",
            "Menu\n",
            "1.Automorphic\n",
            "2.Trimorphic\n",
            "Enter the choice:2\n",
            "25 is trimorphic\n"
          ]
        }
      ]
    },
    {
      "cell_type": "code",
      "source": [
        "#phone book\n",
        "print(\"1. Add contact\")\n",
        "print(\"2. Search contact\")\n",
        "print(\"3. Update contact\")\n",
        "print(\"4. Display contacts\")\n",
        "print(\"5. Delete contact\")\n",
        "print(\"6. Exit\")\n",
        "phone_book={}\n",
        "choice=int(input(\"Enter the choice you want:\"))\n",
        "\n",
        "def add():\n",
        "  name=input(\"Enter the name:\")\n",
        "  ph_no=int(input(\"Enter the phone number:\"))\n",
        "  phone_book[name]=ph_no\n",
        "  print(\"Contact added successfully\")\n",
        "def search():\n",
        "  sname=input(\"Enter the name want to search:\")\n",
        "  if sname in phone_book:\n",
        "    print(\"The phone number of\",sname,\"is:\",phone_book[sname])\n",
        "    print(\"Search completed\")\n",
        "  else:\n",
        "    print(\"Name is not in the dictionary\")\n",
        "def update():\n",
        "  uname=input(\"Enter the name want to update:\")\n",
        "  if uname in phone_book:\n",
        "    ph_no1=int(input(\"Enter the updated phone number:\"))\n",
        "    phone_book[uname]=ph_no1\n",
        "    print(\"Contact updated successfully\")\n",
        "  else:\n",
        "    print(\"Name is not in the dictionary\")\n",
        "def display():\n",
        "  for x,y in phone_book.items():\n",
        "      print(\"Name:\",x,\"phone-number:\",y)\n",
        "def delete():\n",
        "  dname=input(\"Enter the name want to delete:\")\n",
        "  if dname in phone_book:\n",
        "    del phone_book[dname]\n",
        "    print(\"Contact deleted\")\n",
        "  else:\n",
        "    print(\"Name is not in the dictionary\")\n",
        "\n",
        "\n",
        "\n",
        "while(True):\n",
        "  if(choice==1):\n",
        "    add()\n",
        "  elif(choice==2):\n",
        "    search()\n",
        "  elif(choice==3):\n",
        "    update()\n",
        "  elif(choice==4):\n",
        "    display()\n",
        "  elif(choice==5):\n",
        "    delete()\n",
        "  elif(choice==6):\n",
        "    break\n",
        "  else:\n",
        "    print(\"Invalid choice\")\n",
        "  choice=int(input(\"Enter the choice you want:\"))\n",
        "\n"
      ],
      "metadata": {
        "id": "iQyuA9kn8jiP",
        "colab": {
          "base_uri": "https://localhost:8080/"
        },
        "outputId": "2d5df6a8-a4ad-4b8a-b3e6-031f253aaebc"
      },
      "execution_count": null,
      "outputs": [
        {
          "name": "stdout",
          "output_type": "stream",
          "text": [
            "1. Add contact\n",
            "2. Search contact\n",
            "3. Update contact\n",
            "4. Display contacts\n",
            "5. Delete contact\n",
            "6. Exit\n",
            "Enter the choice you want:1\n",
            "Enter the name:arya\n",
            "Enter the phone number:9567471975\n",
            "Contact added successfully\n",
            "Enter the choice you want:1\n",
            "Enter the name:amal\n",
            "Enter the phone number:8129442725\n",
            "Contact added successfully\n",
            "Enter the choice you want:2\n",
            "Enter the name want to searchamal\n",
            "The phone number of arya is: 8129442725\n",
            "Search completed\n",
            "Enter the choice you want:3\n",
            "Enter the name want to updateamal\n",
            "Enter the updated phone number:9645965285\n",
            "Contact updated successfully\n",
            "Enter the choice you want:4\n",
            "Name: arya phone-number: 9567471975\n",
            "Name: amal phone-number: 9645965285\n",
            "Enter the choice you want:5\n",
            "Enter the name want to updateamal\n",
            "Contact deleted\n",
            "Enter the choice you want:6\n"
          ]
        }
      ]
    },
    {
      "cell_type": "code",
      "source": [
        "#recursion\n",
        "def factorial(n):\n",
        "    if n == 0 or n == 1:\n",
        "        return 1\n",
        "    else:\n",
        "        return n * factorial(n - 1)\n",
        "\n",
        "result = factorial(5)\n",
        "print(\"Factorial of 5:\", result)"
      ],
      "metadata": {
        "colab": {
          "base_uri": "https://localhost:8080/"
        },
        "id": "un80S1WvbW82",
        "outputId": "93970953-e8fe-4f79-8bc7-d01d4711cbbf"
      },
      "execution_count": null,
      "outputs": [
        {
          "output_type": "stream",
          "name": "stdout",
          "text": [
            "Factorial of 5: 120\n"
          ]
        }
      ]
    }
  ],
  "metadata": {
    "colab": {
      "provenance": [],
      "authorship_tag": "ABX9TyNju8VWebLQuefqUp33iab/",
      "include_colab_link": true
    },
    "kernelspec": {
      "display_name": "Python 3",
      "name": "python3"
    },
    "language_info": {
      "name": "python"
    }
  },
  "nbformat": 4,
  "nbformat_minor": 0
}